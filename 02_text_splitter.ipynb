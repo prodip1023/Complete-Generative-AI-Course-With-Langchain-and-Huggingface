{
 "cells": [
  {
   "cell_type": "markdown",
   "metadata": {},
   "source": [
    "- Once you've loaded documents, you'll often want to transform them to better suit your application. \n",
    "- You may want to split a long document into smaller chunks that can fit into your model's context window.\n",
    "- LangChain has a number of built-in document transformers that make it easy to split, combine, filter, and otherwise manipulate documents.\n",
    "- When you want to deal with long pieces of text, it is necessary to split up that text into chunks. As simple as this sounds, there is a lot of potential complexity here. Ideally, you want to keep the semantically related pieces of text together. What \"semantically related\" means could depend on the type of text.\n",
    "    1. Split the text up into small, semantically meaningful chunks (often sentences).\n",
    "    2. Start combining these small chunks into a larger chunk until you reach a certain size (as measured by some function).\n",
    "    3. Once you reach that size, make that chunk its own piece of text and then start creating a new chunk of text with some overlap (to keep context between chunks).\n",
    "\n",
    "* That means there are two different axes along which you can customize your text splitter:\n",
    "\n",
    "- How the text is split\n",
    "- How the chunk size is measured "
   ]
  },
  {
   "cell_type": "code",
   "execution_count": 1,
   "metadata": {},
   "outputs": [],
   "source": [
    "## Reading a PDF file\n",
    "from langchain_community.document_loaders import PyPDFLoader"
   ]
  },
  {
   "cell_type": "code",
   "execution_count": 2,
   "metadata": {},
   "outputs": [
    {
     "data": {
      "text/plain": [
       "[Document(metadata={'source': 'Data/attention.pdf', 'page': 0}, page_content='Provided proper attribution is provided, Google hereby grants permission to\\nreproduce the tables and figures in this paper solely for use in journalistic or\\nscholarly works.\\nAttention Is All You Need\\nAshish Vaswani∗\\nGoogle Brain\\navaswani@google.comNoam Shazeer∗\\nGoogle Brain\\nnoam@google.comNiki Parmar∗\\nGoogle Research\\nnikip@google.comJakob Uszkoreit∗\\nGoogle Research\\nusz@google.com\\nLlion Jones∗\\nGoogle Research\\nllion@google.comAidan N. Gomez∗ †\\nUniversity of Toronto\\naidan@cs.toronto.eduŁukasz Kaiser∗\\nGoogle Brain\\nlukaszkaiser@google.com\\nIllia Polosukhin∗ ‡\\nillia.polosukhin@gmail.com\\nAbstract\\nThe dominant sequence transduction models are based on complex recurrent or\\nconvolutional neural networks that include an encoder and a decoder. The best\\nperforming models also connect the encoder and decoder through an attention\\nmechanism. We propose a new simple network architecture, the Transformer,\\nbased solely on attention mechanisms, dispensing with recurrence and convolutions\\nentirely. Experiments on two machine translation tasks show these models to\\nbe superior in quality while being more parallelizable and requiring significantly\\nless time to train. Our model achieves 28.4 BLEU on the WMT 2014 English-\\nto-German translation task, improving over the existing best results, including\\nensembles, by over 2 BLEU. On the WMT 2014 English-to-French translation task,\\nour model establishes a new single-model state-of-the-art BLEU score of 41.8 after\\ntraining for 3.5 days on eight GPUs, a small fraction of the training costs of the\\nbest models from the literature. We show that the Transformer generalizes well to\\nother tasks by applying it successfully to English constituency parsing both with\\nlarge and limited training data.\\n∗Equal contribution. Listing order is random. Jakob proposed replacing RNNs with self-attention and started\\nthe effort to evaluate this idea. Ashish, with Illia, designed and implemented the first Transformer models and\\nhas been crucially involved in every aspect of this work. Noam proposed scaled dot-product attention, multi-head\\nattention and the parameter-free position representation and became the other person involved in nearly every\\ndetail. Niki designed, implemented, tuned and evaluated countless model variants in our original codebase and\\ntensor2tensor. Llion also experimented with novel model variants, was responsible for our initial codebase, and\\nefficient inference and visualizations. Lukasz and Aidan spent countless long days designing various parts of and\\nimplementing tensor2tensor, replacing our earlier codebase, greatly improving results and massively accelerating\\nour research.\\n†Work performed while at Google Brain.\\n‡Work performed while at Google Research.\\n31st Conference on Neural Information Processing Systems (NIPS 2017), Long Beach, CA, USA.arXiv:1706.03762v7  [cs.CL]  2 Aug 2023'),\n",
       " Document(metadata={'source': 'Data/attention.pdf', 'page': 1}, page_content='1 Introduction\\nRecurrent neural networks, long short-term memory [ 13] and gated recurrent [ 7] neural networks\\nin particular, have been firmly established as state of the art approaches in sequence modeling and\\ntransduction problems such as language modeling and machine translation [ 35,2,5]. Numerous\\nefforts have since continued to push the boundaries of recurrent language models and encoder-decoder\\narchitectures [38, 24, 15].\\nRecurrent models typically factor computation along the symbol positions of the input and output\\nsequences. Aligning the positions to steps in computation time, they generate a sequence of hidden\\nstates ht, as a function of the previous hidden state ht−1and the input for position t. This inherently\\nsequential nature precludes parallelization within training examples, which becomes critical at longer\\nsequence lengths, as memory constraints limit batching across examples. Recent work has achieved\\nsignificant improvements in computational efficiency through factorization tricks [ 21] and conditional\\ncomputation [ 32], while also improving model performance in case of the latter. The fundamental\\nconstraint of sequential computation, however, remains.\\nAttention mechanisms have become an integral part of compelling sequence modeling and transduc-\\ntion models in various tasks, allowing modeling of dependencies without regard to their distance in\\nthe input or output sequences [ 2,19]. In all but a few cases [ 27], however, such attention mechanisms\\nare used in conjunction with a recurrent network.\\nIn this work we propose the Transformer, a model architecture eschewing recurrence and instead\\nrelying entirely on an attention mechanism to draw global dependencies between input and output.\\nThe Transformer allows for significantly more parallelization and can reach a new state of the art in\\ntranslation quality after being trained for as little as twelve hours on eight P100 GPUs.\\n2 Background\\nThe goal of reducing sequential computation also forms the foundation of the Extended Neural GPU\\n[16], ByteNet [ 18] and ConvS2S [ 9], all of which use convolutional neural networks as basic building\\nblock, computing hidden representations in parallel for all input and output positions. In these models,\\nthe number of operations required to relate signals from two arbitrary input or output positions grows\\nin the distance between positions, linearly for ConvS2S and logarithmically for ByteNet. This makes\\nit more difficult to learn dependencies between distant positions [ 12]. In the Transformer this is\\nreduced to a constant number of operations, albeit at the cost of reduced effective resolution due\\nto averaging attention-weighted positions, an effect we counteract with Multi-Head Attention as\\ndescribed in section 3.2.\\nSelf-attention, sometimes called intra-attention is an attention mechanism relating different positions\\nof a single sequence in order to compute a representation of the sequence. Self-attention has been\\nused successfully in a variety of tasks including reading comprehension, abstractive summarization,\\ntextual entailment and learning task-independent sentence representations [4, 27, 28, 22].\\nEnd-to-end memory networks are based on a recurrent attention mechanism instead of sequence-\\naligned recurrence and have been shown to perform well on simple-language question answering and\\nlanguage modeling tasks [34].\\nTo the best of our knowledge, however, the Transformer is the first transduction model relying\\nentirely on self-attention to compute representations of its input and output without using sequence-\\naligned RNNs or convolution. In the following sections, we will describe the Transformer, motivate\\nself-attention and discuss its advantages over models such as [17, 18] and [9].\\n3 Model Architecture\\nMost competitive neural sequence transduction models have an encoder-decoder structure [ 5,2,35].\\nHere, the encoder maps an input sequence of symbol representations (x1, ..., x n)to a sequence\\nof continuous representations z= (z1, ..., z n). Given z, the decoder then generates an output\\nsequence (y1, ..., y m)of symbols one element at a time. At each step the model is auto-regressive\\n[10], consuming the previously generated symbols as additional input when generating the next.\\n2'),\n",
       " Document(metadata={'source': 'Data/attention.pdf', 'page': 2}, page_content='Figure 1: The Transformer - model architecture.\\nThe Transformer follows this overall architecture using stacked self-attention and point-wise, fully\\nconnected layers for both the encoder and decoder, shown in the left and right halves of Figure 1,\\nrespectively.\\n3.1 Encoder and Decoder Stacks\\nEncoder: The encoder is composed of a stack of N= 6 identical layers. Each layer has two\\nsub-layers. The first is a multi-head self-attention mechanism, and the second is a simple, position-\\nwise fully connected feed-forward network. We employ a residual connection [ 11] around each of\\nthe two sub-layers, followed by layer normalization [ 1]. That is, the output of each sub-layer is\\nLayerNorm( x+ Sublayer( x)), where Sublayer( x)is the function implemented by the sub-layer\\nitself. To facilitate these residual connections, all sub-layers in the model, as well as the embedding\\nlayers, produce outputs of dimension dmodel = 512 .\\nDecoder: The decoder is also composed of a stack of N= 6identical layers. In addition to the two\\nsub-layers in each encoder layer, the decoder inserts a third sub-layer, which performs multi-head\\nattention over the output of the encoder stack. Similar to the encoder, we employ residual connections\\naround each of the sub-layers, followed by layer normalization. We also modify the self-attention\\nsub-layer in the decoder stack to prevent positions from attending to subsequent positions. This\\nmasking, combined with fact that the output embeddings are offset by one position, ensures that the\\npredictions for position ican depend only on the known outputs at positions less than i.\\n3.2 Attention\\nAn attention function can be described as mapping a query and a set of key-value pairs to an output,\\nwhere the query, keys, values, and output are all vectors. The output is computed as a weighted sum\\n3'),\n",
       " Document(metadata={'source': 'Data/attention.pdf', 'page': 3}, page_content='Scaled Dot-Product Attention\\n Multi-Head Attention\\nFigure 2: (left) Scaled Dot-Product Attention. (right) Multi-Head Attention consists of several\\nattention layers running in parallel.\\nof the values, where the weight assigned to each value is computed by a compatibility function of the\\nquery with the corresponding key.\\n3.2.1 Scaled Dot-Product Attention\\nWe call our particular attention \"Scaled Dot-Product Attention\" (Figure 2). The input consists of\\nqueries and keys of dimension dk, and values of dimension dv. We compute the dot products of the\\nquery with all keys, divide each by√dk, and apply a softmax function to obtain the weights on the\\nvalues.\\nIn practice, we compute the attention function on a set of queries simultaneously, packed together\\ninto a matrix Q. The keys and values are also packed together into matrices KandV. We compute\\nthe matrix of outputs as:\\nAttention( Q, K, V ) = softmax(QKT\\n√dk)V (1)\\nThe two most commonly used attention functions are additive attention [ 2], and dot-product (multi-\\nplicative) attention. Dot-product attention is identical to our algorithm, except for the scaling factor\\nof1√dk. Additive attention computes the compatibility function using a feed-forward network with\\na single hidden layer. While the two are similar in theoretical complexity, dot-product attention is\\nmuch faster and more space-efficient in practice, since it can be implemented using highly optimized\\nmatrix multiplication code.\\nWhile for small values of dkthe two mechanisms perform similarly, additive attention outperforms\\ndot product attention without scaling for larger values of dk[3]. We suspect that for large values of\\ndk, the dot products grow large in magnitude, pushing the softmax function into regions where it has\\nextremely small gradients4. To counteract this effect, we scale the dot products by1√dk.\\n3.2.2 Multi-Head Attention\\nInstead of performing a single attention function with dmodel-dimensional keys, values and queries,\\nwe found it beneficial to linearly project the queries, keys and values htimes with different, learned\\nlinear projections to dk,dkanddvdimensions, respectively. On each of these projected versions of\\nqueries, keys and values we then perform the attention function in parallel, yielding dv-dimensional\\n4To illustrate why the dot products get large, assume that the components of qandkare independent random\\nvariables with mean 0and variance 1. Then their dot product, q·k=Pdk\\ni=1qiki, has mean 0and variance dk.\\n4'),\n",
       " Document(metadata={'source': 'Data/attention.pdf', 'page': 4}, page_content='output values. These are concatenated and once again projected, resulting in the final values, as\\ndepicted in Figure 2.\\nMulti-head attention allows the model to jointly attend to information from different representation\\nsubspaces at different positions. With a single attention head, averaging inhibits this.\\nMultiHead( Q, K, V ) = Concat(head 1, ...,head h)WO\\nwhere head i= Attention( QWQ\\ni, KWK\\ni, V WV\\ni)\\nWhere the projections are parameter matrices WQ\\ni∈Rdmodel×dk,WK\\ni∈Rdmodel×dk,WV\\ni∈Rdmodel×dv\\nandWO∈Rhdv×dmodel.\\nIn this work we employ h= 8 parallel attention layers, or heads. For each of these we use\\ndk=dv=dmodel/h= 64 . Due to the reduced dimension of each head, the total computational cost\\nis similar to that of single-head attention with full dimensionality.\\n3.2.3 Applications of Attention in our Model\\nThe Transformer uses multi-head attention in three different ways:\\n•In \"encoder-decoder attention\" layers, the queries come from the previous decoder layer,\\nand the memory keys and values come from the output of the encoder. This allows every\\nposition in the decoder to attend over all positions in the input sequence. This mimics the\\ntypical encoder-decoder attention mechanisms in sequence-to-sequence models such as\\n[38, 2, 9].\\n•The encoder contains self-attention layers. In a self-attention layer all of the keys, values\\nand queries come from the same place, in this case, the output of the previous layer in the\\nencoder. Each position in the encoder can attend to all positions in the previous layer of the\\nencoder.\\n•Similarly, self-attention layers in the decoder allow each position in the decoder to attend to\\nall positions in the decoder up to and including that position. We need to prevent leftward\\ninformation flow in the decoder to preserve the auto-regressive property. We implement this\\ninside of scaled dot-product attention by masking out (setting to −∞) all values in the input\\nof the softmax which correspond to illegal connections. See Figure 2.\\n3.3 Position-wise Feed-Forward Networks\\nIn addition to attention sub-layers, each of the layers in our encoder and decoder contains a fully\\nconnected feed-forward network, which is applied to each position separately and identically. This\\nconsists of two linear transformations with a ReLU activation in between.\\nFFN( x) = max(0 , xW 1+b1)W2+b2 (2)\\nWhile the linear transformations are the same across different positions, they use different parameters\\nfrom layer to layer. Another way of describing this is as two convolutions with kernel size 1.\\nThe dimensionality of input and output is dmodel = 512 , and the inner-layer has dimensionality\\ndff= 2048 .\\n3.4 Embeddings and Softmax\\nSimilarly to other sequence transduction models, we use learned embeddings to convert the input\\ntokens and output tokens to vectors of dimension dmodel. We also use the usual learned linear transfor-\\nmation and softmax function to convert the decoder output to predicted next-token probabilities. In\\nour model, we share the same weight matrix between the two embedding layers and the pre-softmax\\nlinear transformation, similar to [ 30]. In the embedding layers, we multiply those weights by√dmodel.\\n5'),\n",
       " Document(metadata={'source': 'Data/attention.pdf', 'page': 5}, page_content='Table 1: Maximum path lengths, per-layer complexity and minimum number of sequential operations\\nfor different layer types. nis the sequence length, dis the representation dimension, kis the kernel\\nsize of convolutions and rthe size of the neighborhood in restricted self-attention.\\nLayer Type Complexity per Layer Sequential Maximum Path Length\\nOperations\\nSelf-Attention O(n2·d) O(1) O(1)\\nRecurrent O(n·d2) O(n) O(n)\\nConvolutional O(k·n·d2) O(1) O(logk(n))\\nSelf-Attention (restricted) O(r·n·d) O(1) O(n/r)\\n3.5 Positional Encoding\\nSince our model contains no recurrence and no convolution, in order for the model to make use of the\\norder of the sequence, we must inject some information about the relative or absolute position of the\\ntokens in the sequence. To this end, we add \"positional encodings\" to the input embeddings at the\\nbottoms of the encoder and decoder stacks. The positional encodings have the same dimension dmodel\\nas the embeddings, so that the two can be summed. There are many choices of positional encodings,\\nlearned and fixed [9].\\nIn this work, we use sine and cosine functions of different frequencies:\\nPE(pos,2i)=sin(pos/100002i/d model)\\nPE(pos,2i+1)=cos(pos/100002i/d model)\\nwhere posis the position and iis the dimension. That is, each dimension of the positional encoding\\ncorresponds to a sinusoid. The wavelengths form a geometric progression from 2πto10000 ·2π. We\\nchose this function because we hypothesized it would allow the model to easily learn to attend by\\nrelative positions, since for any fixed offset k,PEpos+kcan be represented as a linear function of\\nPEpos.\\nWe also experimented with using learned positional embeddings [ 9] instead, and found that the two\\nversions produced nearly identical results (see Table 3 row (E)). We chose the sinusoidal version\\nbecause it may allow the model to extrapolate to sequence lengths longer than the ones encountered\\nduring training.\\n4 Why Self-Attention\\nIn this section we compare various aspects of self-attention layers to the recurrent and convolu-\\ntional layers commonly used for mapping one variable-length sequence of symbol representations\\n(x1, ..., x n)to another sequence of equal length (z1, ..., z n), with xi, zi∈Rd, such as a hidden\\nlayer in a typical sequence transduction encoder or decoder. Motivating our use of self-attention we\\nconsider three desiderata.\\nOne is the total computational complexity per layer. Another is the amount of computation that can\\nbe parallelized, as measured by the minimum number of sequential operations required.\\nThe third is the path length between long-range dependencies in the network. Learning long-range\\ndependencies is a key challenge in many sequence transduction tasks. One key factor affecting the\\nability to learn such dependencies is the length of the paths forward and backward signals have to\\ntraverse in the network. The shorter these paths between any combination of positions in the input\\nand output sequences, the easier it is to learn long-range dependencies [ 12]. Hence we also compare\\nthe maximum path length between any two input and output positions in networks composed of the\\ndifferent layer types.\\nAs noted in Table 1, a self-attention layer connects all positions with a constant number of sequentially\\nexecuted operations, whereas a recurrent layer requires O(n)sequential operations. In terms of\\ncomputational complexity, self-attention layers are faster than recurrent layers when the sequence\\n6'),\n",
       " Document(metadata={'source': 'Data/attention.pdf', 'page': 6}, page_content='length nis smaller than the representation dimensionality d, which is most often the case with\\nsentence representations used by state-of-the-art models in machine translations, such as word-piece\\n[38] and byte-pair [ 31] representations. To improve computational performance for tasks involving\\nvery long sequences, self-attention could be restricted to considering only a neighborhood of size rin\\nthe input sequence centered around the respective output position. This would increase the maximum\\npath length to O(n/r). We plan to investigate this approach further in future work.\\nA single convolutional layer with kernel width k < n does not connect all pairs of input and output\\npositions. Doing so requires a stack of O(n/k)convolutional layers in the case of contiguous kernels,\\norO(logk(n))in the case of dilated convolutions [ 18], increasing the length of the longest paths\\nbetween any two positions in the network. Convolutional layers are generally more expensive than\\nrecurrent layers, by a factor of k. Separable convolutions [ 6], however, decrease the complexity\\nconsiderably, to O(k·n·d+n·d2). Even with k=n, however, the complexity of a separable\\nconvolution is equal to the combination of a self-attention layer and a point-wise feed-forward layer,\\nthe approach we take in our model.\\nAs side benefit, self-attention could yield more interpretable models. We inspect attention distributions\\nfrom our models and present and discuss examples in the appendix. Not only do individual attention\\nheads clearly learn to perform different tasks, many appear to exhibit behavior related to the syntactic\\nand semantic structure of the sentences.\\n5 Training\\nThis section describes the training regime for our models.\\n5.1 Training Data and Batching\\nWe trained on the standard WMT 2014 English-German dataset consisting of about 4.5 million\\nsentence pairs. Sentences were encoded using byte-pair encoding [ 3], which has a shared source-\\ntarget vocabulary of about 37000 tokens. For English-French, we used the significantly larger WMT\\n2014 English-French dataset consisting of 36M sentences and split tokens into a 32000 word-piece\\nvocabulary [ 38]. Sentence pairs were batched together by approximate sequence length. Each training\\nbatch contained a set of sentence pairs containing approximately 25000 source tokens and 25000\\ntarget tokens.\\n5.2 Hardware and Schedule\\nWe trained our models on one machine with 8 NVIDIA P100 GPUs. For our base models using\\nthe hyperparameters described throughout the paper, each training step took about 0.4 seconds. We\\ntrained the base models for a total of 100,000 steps or 12 hours. For our big models,(described on the\\nbottom line of table 3), step time was 1.0 seconds. The big models were trained for 300,000 steps\\n(3.5 days).\\n5.3 Optimizer\\nWe used the Adam optimizer [ 20] with β1= 0.9,β2= 0.98andϵ= 10−9. We varied the learning\\nrate over the course of training, according to the formula:\\nlrate =d−0.5\\nmodel·min(step_num−0.5, step _num·warmup _steps−1.5) (3)\\nThis corresponds to increasing the learning rate linearly for the first warmup _steps training steps,\\nand decreasing it thereafter proportionally to the inverse square root of the step number. We used\\nwarmup _steps = 4000 .\\n5.4 Regularization\\nWe employ three types of regularization during training:\\n7'),\n",
       " Document(metadata={'source': 'Data/attention.pdf', 'page': 7}, page_content='Table 2: The Transformer achieves better BLEU scores than previous state-of-the-art models on the\\nEnglish-to-German and English-to-French newstest2014 tests at a fraction of the training cost.\\nModelBLEU Training Cost (FLOPs)\\nEN-DE EN-FR EN-DE EN-FR\\nByteNet [18] 23.75\\nDeep-Att + PosUnk [39] 39.2 1.0·1020\\nGNMT + RL [38] 24.6 39.92 2.3·10191.4·1020\\nConvS2S [9] 25.16 40.46 9.6·10181.5·1020\\nMoE [32] 26.03 40.56 2.0·10191.2·1020\\nDeep-Att + PosUnk Ensemble [39] 40.4 8.0·1020\\nGNMT + RL Ensemble [38] 26.30 41.16 1.8·10201.1·1021\\nConvS2S Ensemble [9] 26.36 41.29 7.7·10191.2·1021\\nTransformer (base model) 27.3 38.1 3.3·1018\\nTransformer (big) 28.4 41.8 2.3·1019\\nResidual Dropout We apply dropout [ 33] to the output of each sub-layer, before it is added to the\\nsub-layer input and normalized. In addition, we apply dropout to the sums of the embeddings and the\\npositional encodings in both the encoder and decoder stacks. For the base model, we use a rate of\\nPdrop= 0.1.\\nLabel Smoothing During training, we employed label smoothing of value ϵls= 0.1[36]. This\\nhurts perplexity, as the model learns to be more unsure, but improves accuracy and BLEU score.\\n6 Results\\n6.1 Machine Translation\\nOn the WMT 2014 English-to-German translation task, the big transformer model (Transformer (big)\\nin Table 2) outperforms the best previously reported models (including ensembles) by more than 2.0\\nBLEU, establishing a new state-of-the-art BLEU score of 28.4. The configuration of this model is\\nlisted in the bottom line of Table 3. Training took 3.5days on 8P100 GPUs. Even our base model\\nsurpasses all previously published models and ensembles, at a fraction of the training cost of any of\\nthe competitive models.\\nOn the WMT 2014 English-to-French translation task, our big model achieves a BLEU score of 41.0,\\noutperforming all of the previously published single models, at less than 1/4the training cost of the\\nprevious state-of-the-art model. The Transformer (big) model trained for English-to-French used\\ndropout rate Pdrop= 0.1, instead of 0.3.\\nFor the base models, we used a single model obtained by averaging the last 5 checkpoints, which\\nwere written at 10-minute intervals. For the big models, we averaged the last 20 checkpoints. We\\nused beam search with a beam size of 4and length penalty α= 0.6[38]. These hyperparameters\\nwere chosen after experimentation on the development set. We set the maximum output length during\\ninference to input length + 50, but terminate early when possible [38].\\nTable 2 summarizes our results and compares our translation quality and training costs to other model\\narchitectures from the literature. We estimate the number of floating point operations used to train a\\nmodel by multiplying the training time, the number of GPUs used, and an estimate of the sustained\\nsingle-precision floating-point capacity of each GPU5.\\n6.2 Model Variations\\nTo evaluate the importance of different components of the Transformer, we varied our base model\\nin different ways, measuring the change in performance on English-to-German translation on the\\n5We used values of 2.8, 3.7, 6.0 and 9.5 TFLOPS for K80, K40, M40 and P100, respectively.\\n8'),\n",
       " Document(metadata={'source': 'Data/attention.pdf', 'page': 8}, page_content='Table 3: Variations on the Transformer architecture. Unlisted values are identical to those of the base\\nmodel. All metrics are on the English-to-German translation development set, newstest2013. Listed\\nperplexities are per-wordpiece, according to our byte-pair encoding, and should not be compared to\\nper-word perplexities.\\nN d model dff h d k dvPdrop ϵlstrain PPL BLEU params\\nsteps (dev) (dev) ×106\\nbase 6 512 2048 8 64 64 0.1 0.1 100K 4.92 25.8 65\\n(A)1 512 512 5.29 24.9\\n4 128 128 5.00 25.5\\n16 32 32 4.91 25.8\\n32 16 16 5.01 25.4\\n(B)16 5.16 25.1 58\\n32 5.01 25.4 60\\n(C)2 6.11 23.7 36\\n4 5.19 25.3 50\\n8 4.88 25.5 80\\n256 32 32 5.75 24.5 28\\n1024 128 128 4.66 26.0 168\\n1024 5.12 25.4 53\\n4096 4.75 26.2 90\\n(D)0.0 5.77 24.6\\n0.2 4.95 25.5\\n0.0 4.67 25.3\\n0.2 5.47 25.7\\n(E) positional embedding instead of sinusoids 4.92 25.7\\nbig 6 1024 4096 16 0.3 300K 4.33 26.4 213\\ndevelopment set, newstest2013. We used beam search as described in the previous section, but no\\ncheckpoint averaging. We present these results in Table 3.\\nIn Table 3 rows (A), we vary the number of attention heads and the attention key and value dimensions,\\nkeeping the amount of computation constant, as described in Section 3.2.2. While single-head\\nattention is 0.9 BLEU worse than the best setting, quality also drops off with too many heads.\\nIn Table 3 rows (B), we observe that reducing the attention key size dkhurts model quality. This\\nsuggests that determining compatibility is not easy and that a more sophisticated compatibility\\nfunction than dot product may be beneficial. We further observe in rows (C) and (D) that, as expected,\\nbigger models are better, and dropout is very helpful in avoiding over-fitting. In row (E) we replace our\\nsinusoidal positional encoding with learned positional embeddings [ 9], and observe nearly identical\\nresults to the base model.\\n6.3 English Constituency Parsing\\nTo evaluate if the Transformer can generalize to other tasks we performed experiments on English\\nconstituency parsing. This task presents specific challenges: the output is subject to strong structural\\nconstraints and is significantly longer than the input. Furthermore, RNN sequence-to-sequence\\nmodels have not been able to attain state-of-the-art results in small-data regimes [37].\\nWe trained a 4-layer transformer with dmodel = 1024 on the Wall Street Journal (WSJ) portion of the\\nPenn Treebank [ 25], about 40K training sentences. We also trained it in a semi-supervised setting,\\nusing the larger high-confidence and BerkleyParser corpora from with approximately 17M sentences\\n[37]. We used a vocabulary of 16K tokens for the WSJ only setting and a vocabulary of 32K tokens\\nfor the semi-supervised setting.\\nWe performed only a small number of experiments to select the dropout, both attention and residual\\n(section 5.4), learning rates and beam size on the Section 22 development set, all other parameters\\nremained unchanged from the English-to-German base translation model. During inference, we\\n9'),\n",
       " Document(metadata={'source': 'Data/attention.pdf', 'page': 9}, page_content='Table 4: The Transformer generalizes well to English constituency parsing (Results are on Section 23\\nof WSJ)\\nParser Training WSJ 23 F1\\nVinyals & Kaiser el al. (2014) [37] WSJ only, discriminative 88.3\\nPetrov et al. (2006) [29] WSJ only, discriminative 90.4\\nZhu et al. (2013) [40] WSJ only, discriminative 90.4\\nDyer et al. (2016) [8] WSJ only, discriminative 91.7\\nTransformer (4 layers) WSJ only, discriminative 91.3\\nZhu et al. (2013) [40] semi-supervised 91.3\\nHuang & Harper (2009) [14] semi-supervised 91.3\\nMcClosky et al. (2006) [26] semi-supervised 92.1\\nVinyals & Kaiser el al. (2014) [37] semi-supervised 92.1\\nTransformer (4 layers) semi-supervised 92.7\\nLuong et al. (2015) [23] multi-task 93.0\\nDyer et al. (2016) [8] generative 93.3\\nincreased the maximum output length to input length + 300. We used a beam size of 21andα= 0.3\\nfor both WSJ only and the semi-supervised setting.\\nOur results in Table 4 show that despite the lack of task-specific tuning our model performs sur-\\nprisingly well, yielding better results than all previously reported models with the exception of the\\nRecurrent Neural Network Grammar [8].\\nIn contrast to RNN sequence-to-sequence models [ 37], the Transformer outperforms the Berkeley-\\nParser [29] even when training only on the WSJ training set of 40K sentences.\\n7 Conclusion\\nIn this work, we presented the Transformer, the first sequence transduction model based entirely on\\nattention, replacing the recurrent layers most commonly used in encoder-decoder architectures with\\nmulti-headed self-attention.\\nFor translation tasks, the Transformer can be trained significantly faster than architectures based\\non recurrent or convolutional layers. On both WMT 2014 English-to-German and WMT 2014\\nEnglish-to-French translation tasks, we achieve a new state of the art. In the former task our best\\nmodel outperforms even all previously reported ensembles.\\nWe are excited about the future of attention-based models and plan to apply them to other tasks. We\\nplan to extend the Transformer to problems involving input and output modalities other than text and\\nto investigate local, restricted attention mechanisms to efficiently handle large inputs and outputs\\nsuch as images, audio and video. Making generation less sequential is another research goals of ours.\\nThe code we used to train and evaluate our models is available at https://github.com/\\ntensorflow/tensor2tensor .\\nAcknowledgements We are grateful to Nal Kalchbrenner and Stephan Gouws for their fruitful\\ncomments, corrections and inspiration.\\nReferences\\n[1]Jimmy Lei Ba, Jamie Ryan Kiros, and Geoffrey E Hinton. Layer normalization. arXiv preprint\\narXiv:1607.06450 , 2016.\\n[2]Dzmitry Bahdanau, Kyunghyun Cho, and Yoshua Bengio. Neural machine translation by jointly\\nlearning to align and translate. CoRR , abs/1409.0473, 2014.\\n[3]Denny Britz, Anna Goldie, Minh-Thang Luong, and Quoc V . Le. Massive exploration of neural\\nmachine translation architectures. CoRR , abs/1703.03906, 2017.\\n[4]Jianpeng Cheng, Li Dong, and Mirella Lapata. Long short-term memory-networks for machine\\nreading. arXiv preprint arXiv:1601.06733 , 2016.\\n10'),\n",
       " Document(metadata={'source': 'Data/attention.pdf', 'page': 10}, page_content='[5]Kyunghyun Cho, Bart van Merrienboer, Caglar Gulcehre, Fethi Bougares, Holger Schwenk,\\nand Yoshua Bengio. Learning phrase representations using rnn encoder-decoder for statistical\\nmachine translation. CoRR , abs/1406.1078, 2014.\\n[6]Francois Chollet. Xception: Deep learning with depthwise separable convolutions. arXiv\\npreprint arXiv:1610.02357 , 2016.\\n[7]Junyoung Chung, Çaglar Gülçehre, Kyunghyun Cho, and Yoshua Bengio. Empirical evaluation\\nof gated recurrent neural networks on sequence modeling. CoRR , abs/1412.3555, 2014.\\n[8]Chris Dyer, Adhiguna Kuncoro, Miguel Ballesteros, and Noah A. Smith. Recurrent neural\\nnetwork grammars. In Proc. of NAACL , 2016.\\n[9]Jonas Gehring, Michael Auli, David Grangier, Denis Yarats, and Yann N. Dauphin. Convolu-\\ntional sequence to sequence learning. arXiv preprint arXiv:1705.03122v2 , 2017.\\n[10] Alex Graves. Generating sequences with recurrent neural networks. arXiv preprint\\narXiv:1308.0850 , 2013.\\n[11] Kaiming He, Xiangyu Zhang, Shaoqing Ren, and Jian Sun. Deep residual learning for im-\\nage recognition. In Proceedings of the IEEE Conference on Computer Vision and Pattern\\nRecognition , pages 770–778, 2016.\\n[12] Sepp Hochreiter, Yoshua Bengio, Paolo Frasconi, and Jürgen Schmidhuber. Gradient flow in\\nrecurrent nets: the difficulty of learning long-term dependencies, 2001.\\n[13] Sepp Hochreiter and Jürgen Schmidhuber. Long short-term memory. Neural computation ,\\n9(8):1735–1780, 1997.\\n[14] Zhongqiang Huang and Mary Harper. Self-training PCFG grammars with latent annotations\\nacross languages. In Proceedings of the 2009 Conference on Empirical Methods in Natural\\nLanguage Processing , pages 832–841. ACL, August 2009.\\n[15] Rafal Jozefowicz, Oriol Vinyals, Mike Schuster, Noam Shazeer, and Yonghui Wu. Exploring\\nthe limits of language modeling. arXiv preprint arXiv:1602.02410 , 2016.\\n[16] Łukasz Kaiser and Samy Bengio. Can active memory replace attention? In Advances in Neural\\nInformation Processing Systems, (NIPS) , 2016.\\n[17] Łukasz Kaiser and Ilya Sutskever. Neural GPUs learn algorithms. In International Conference\\non Learning Representations (ICLR) , 2016.\\n[18] Nal Kalchbrenner, Lasse Espeholt, Karen Simonyan, Aaron van den Oord, Alex Graves, and Ko-\\nray Kavukcuoglu. Neural machine translation in linear time. arXiv preprint arXiv:1610.10099v2 ,\\n2017.\\n[19] Yoon Kim, Carl Denton, Luong Hoang, and Alexander M. Rush. Structured attention networks.\\nInInternational Conference on Learning Representations , 2017.\\n[20] Diederik Kingma and Jimmy Ba. Adam: A method for stochastic optimization. In ICLR , 2015.\\n[21] Oleksii Kuchaiev and Boris Ginsburg. Factorization tricks for LSTM networks. arXiv preprint\\narXiv:1703.10722 , 2017.\\n[22] Zhouhan Lin, Minwei Feng, Cicero Nogueira dos Santos, Mo Yu, Bing Xiang, Bowen\\nZhou, and Yoshua Bengio. A structured self-attentive sentence embedding. arXiv preprint\\narXiv:1703.03130 , 2017.\\n[23] Minh-Thang Luong, Quoc V . Le, Ilya Sutskever, Oriol Vinyals, and Lukasz Kaiser. Multi-task\\nsequence to sequence learning. arXiv preprint arXiv:1511.06114 , 2015.\\n[24] Minh-Thang Luong, Hieu Pham, and Christopher D Manning. Effective approaches to attention-\\nbased neural machine translation. arXiv preprint arXiv:1508.04025 , 2015.\\n11'),\n",
       " Document(metadata={'source': 'Data/attention.pdf', 'page': 11}, page_content='[25] Mitchell P Marcus, Mary Ann Marcinkiewicz, and Beatrice Santorini. Building a large annotated\\ncorpus of english: The penn treebank. Computational linguistics , 19(2):313–330, 1993.\\n[26] David McClosky, Eugene Charniak, and Mark Johnson. Effective self-training for parsing. In\\nProceedings of the Human Language Technology Conference of the NAACL, Main Conference ,\\npages 152–159. ACL, June 2006.\\n[27] Ankur Parikh, Oscar Täckström, Dipanjan Das, and Jakob Uszkoreit. A decomposable attention\\nmodel. In Empirical Methods in Natural Language Processing , 2016.\\n[28] Romain Paulus, Caiming Xiong, and Richard Socher. A deep reinforced model for abstractive\\nsummarization. arXiv preprint arXiv:1705.04304 , 2017.\\n[29] Slav Petrov, Leon Barrett, Romain Thibaux, and Dan Klein. Learning accurate, compact,\\nand interpretable tree annotation. In Proceedings of the 21st International Conference on\\nComputational Linguistics and 44th Annual Meeting of the ACL , pages 433–440. ACL, July\\n2006.\\n[30] Ofir Press and Lior Wolf. Using the output embedding to improve language models. arXiv\\npreprint arXiv:1608.05859 , 2016.\\n[31] Rico Sennrich, Barry Haddow, and Alexandra Birch. Neural machine translation of rare words\\nwith subword units. arXiv preprint arXiv:1508.07909 , 2015.\\n[32] Noam Shazeer, Azalia Mirhoseini, Krzysztof Maziarz, Andy Davis, Quoc Le, Geoffrey Hinton,\\nand Jeff Dean. Outrageously large neural networks: The sparsely-gated mixture-of-experts\\nlayer. arXiv preprint arXiv:1701.06538 , 2017.\\n[33] Nitish Srivastava, Geoffrey E Hinton, Alex Krizhevsky, Ilya Sutskever, and Ruslan Salakhutdi-\\nnov. Dropout: a simple way to prevent neural networks from overfitting. Journal of Machine\\nLearning Research , 15(1):1929–1958, 2014.\\n[34] Sainbayar Sukhbaatar, Arthur Szlam, Jason Weston, and Rob Fergus. End-to-end memory\\nnetworks. In C. Cortes, N. D. Lawrence, D. D. Lee, M. Sugiyama, and R. Garnett, editors,\\nAdvances in Neural Information Processing Systems 28 , pages 2440–2448. Curran Associates,\\nInc., 2015.\\n[35] Ilya Sutskever, Oriol Vinyals, and Quoc VV Le. Sequence to sequence learning with neural\\nnetworks. In Advances in Neural Information Processing Systems , pages 3104–3112, 2014.\\n[36] Christian Szegedy, Vincent Vanhoucke, Sergey Ioffe, Jonathon Shlens, and Zbigniew Wojna.\\nRethinking the inception architecture for computer vision. CoRR , abs/1512.00567, 2015.\\n[37] Vinyals & Kaiser, Koo, Petrov, Sutskever, and Hinton. Grammar as a foreign language. In\\nAdvances in Neural Information Processing Systems , 2015.\\n[38] Yonghui Wu, Mike Schuster, Zhifeng Chen, Quoc V Le, Mohammad Norouzi, Wolfgang\\nMacherey, Maxim Krikun, Yuan Cao, Qin Gao, Klaus Macherey, et al. Google’s neural machine\\ntranslation system: Bridging the gap between human and machine translation. arXiv preprint\\narXiv:1609.08144 , 2016.\\n[39] Jie Zhou, Ying Cao, Xuguang Wang, Peng Li, and Wei Xu. Deep recurrent models with\\nfast-forward connections for neural machine translation. CoRR , abs/1606.04199, 2016.\\n[40] Muhua Zhu, Yue Zhang, Wenliang Chen, Min Zhang, and Jingbo Zhu. Fast and accurate\\nshift-reduce constituent parsing. In Proceedings of the 51st Annual Meeting of the ACL (Volume\\n1: Long Papers) , pages 434–443. ACL, August 2013.\\n12'),\n",
       " Document(metadata={'source': 'Data/attention.pdf', 'page': 12}, page_content='Attention Visualizations\\nInput-Input Layer5\\nIt\\nis\\nin\\nthis\\nspirit\\nthat\\na\\nmajority\\nof\\nAmerican\\ngovernments\\nhave\\npassed\\nnew\\nlaws\\nsince\\n2009\\nmaking\\nthe\\nregistration\\nor\\nvoting\\nprocess\\nmore\\ndifficult\\n.\\n<EOS>\\n<pad>\\n<pad>\\n<pad>\\n<pad>\\n<pad>\\n<pad>\\nIt\\nis\\nin\\nthis\\nspirit\\nthat\\na\\nmajority\\nof\\nAmerican\\ngovernments\\nhave\\npassed\\nnew\\nlaws\\nsince\\n2009\\nmaking\\nthe\\nregistration\\nor\\nvoting\\nprocess\\nmore\\ndifficult\\n.\\n<EOS>\\n<pad>\\n<pad>\\n<pad>\\n<pad>\\n<pad>\\n<pad>\\nFigure 3: An example of the attention mechanism following long-distance dependencies in the\\nencoder self-attention in layer 5 of 6. Many of the attention heads attend to a distant dependency of\\nthe verb ‘making’, completing the phrase ‘making...more difficult’. Attentions here shown only for\\nthe word ‘making’. Different colors represent different heads. Best viewed in color.\\n13'),\n",
       " Document(metadata={'source': 'Data/attention.pdf', 'page': 13}, page_content='Input-Input Layer5\\nThe\\nLaw\\nwill\\nnever\\nbe\\nperfect\\n,\\nbut\\nits\\napplication\\nshould\\nbe\\njust\\n-\\nthis\\nis\\nwhat\\nwe\\nare\\nmissing\\n,\\nin\\nmy\\nopinion\\n.\\n<EOS>\\n<pad>\\nThe\\nLaw\\nwill\\nnever\\nbe\\nperfect\\n,\\nbut\\nits\\napplication\\nshould\\nbe\\njust\\n-\\nthis\\nis\\nwhat\\nwe\\nare\\nmissing\\n,\\nin\\nmy\\nopinion\\n.\\n<EOS>\\n<pad>\\nInput-Input Layer5\\nThe\\nLaw\\nwill\\nnever\\nbe\\nperfect\\n,\\nbut\\nits\\napplication\\nshould\\nbe\\njust\\n-\\nthis\\nis\\nwhat\\nwe\\nare\\nmissing\\n,\\nin\\nmy\\nopinion\\n.\\n<EOS>\\n<pad>\\nThe\\nLaw\\nwill\\nnever\\nbe\\nperfect\\n,\\nbut\\nits\\napplication\\nshould\\nbe\\njust\\n-\\nthis\\nis\\nwhat\\nwe\\nare\\nmissing\\n,\\nin\\nmy\\nopinion\\n.\\n<EOS>\\n<pad>Figure 4: Two attention heads, also in layer 5 of 6, apparently involved in anaphora resolution. Top:\\nFull attentions for head 5. Bottom: Isolated attentions from just the word ‘its’ for attention heads 5\\nand 6. Note that the attentions are very sharp for this word.\\n14'),\n",
       " Document(metadata={'source': 'Data/attention.pdf', 'page': 14}, page_content='Input-Input Layer5\\nThe\\nLaw\\nwill\\nnever\\nbe\\nperfect\\n,\\nbut\\nits\\napplication\\nshould\\nbe\\njust\\n-\\nthis\\nis\\nwhat\\nwe\\nare\\nmissing\\n,\\nin\\nmy\\nopinion\\n.\\n<EOS>\\n<pad>\\nThe\\nLaw\\nwill\\nnever\\nbe\\nperfect\\n,\\nbut\\nits\\napplication\\nshould\\nbe\\njust\\n-\\nthis\\nis\\nwhat\\nwe\\nare\\nmissing\\n,\\nin\\nmy\\nopinion\\n.\\n<EOS>\\n<pad>\\nInput-Input Layer5\\nThe\\nLaw\\nwill\\nnever\\nbe\\nperfect\\n,\\nbut\\nits\\napplication\\nshould\\nbe\\njust\\n-\\nthis\\nis\\nwhat\\nwe\\nare\\nmissing\\n,\\nin\\nmy\\nopinion\\n.\\n<EOS>\\n<pad>\\nThe\\nLaw\\nwill\\nnever\\nbe\\nperfect\\n,\\nbut\\nits\\napplication\\nshould\\nbe\\njust\\n-\\nthis\\nis\\nwhat\\nwe\\nare\\nmissing\\n,\\nin\\nmy\\nopinion\\n.\\n<EOS>\\n<pad>Figure 5: Many of the attention heads exhibit behaviour that seems related to the structure of the\\nsentence. We give two such examples above, from two different heads from the encoder self-attention\\nat layer 5 of 6. The heads clearly learned to perform different tasks.\\n15')]"
      ]
     },
     "execution_count": 2,
     "metadata": {},
     "output_type": "execute_result"
    }
   ],
   "source": [
    "pdf_loader = PyPDFLoader('Data/attention.pdf')\n",
    "documents_pdf = pdf_loader.load()\n",
    "documents_pdf"
   ]
  },
  {
   "cell_type": "code",
   "execution_count": 4,
   "metadata": {},
   "outputs": [
    {
     "data": {
      "text/plain": [
       "list"
      ]
     },
     "execution_count": 4,
     "metadata": {},
     "output_type": "execute_result"
    }
   ],
   "source": [
    "type(documents_pdf)"
   ]
  },
  {
   "cell_type": "markdown",
   "metadata": {},
   "source": [
    "# 1. Recursively split by character\n",
    "This text splitter is the recommended one for generic text. It is parameterized by a list of characters. It tries to split on them in order until the chunks are small enough. The default list is [\"\\n\\n\", \"\\n\", \" \", \"\"]."
   ]
  },
  {
   "cell_type": "code",
   "execution_count": 3,
   "metadata": {},
   "outputs": [],
   "source": [
    "from langchain_text_splitters import RecursiveCharacterTextSplitter"
   ]
  },
  {
   "cell_type": "code",
   "execution_count": 7,
   "metadata": {},
   "outputs": [
    {
     "data": {
      "text/plain": [
       "[Document(metadata={'source': 'Data/attention.pdf', 'page': 0}, page_content='Provided proper attribution is provided, Google hereby grants permission to\\nreproduce the tables and figures in this paper solely for use in journalistic or\\nscholarly works.\\nAttention Is All You Need\\nAshish Vaswani∗\\nGoogle Brain\\navaswani@google.comNoam Shazeer∗\\nGoogle Brain\\nnoam@google.comNiki Parmar∗\\nGoogle Research\\nnikip@google.comJakob Uszkoreit∗\\nGoogle Research\\nusz@google.com\\nLlion Jones∗\\nGoogle Research\\nllion@google.comAidan N. Gomez∗ †\\nUniversity of Toronto'),\n",
       " Document(metadata={'source': 'Data/attention.pdf', 'page': 0}, page_content='University of Toronto\\naidan@cs.toronto.eduŁukasz Kaiser∗\\nGoogle Brain\\nlukaszkaiser@google.com\\nIllia Polosukhin∗ ‡\\nillia.polosukhin@gmail.com\\nAbstract\\nThe dominant sequence transduction models are based on complex recurrent or\\nconvolutional neural networks that include an encoder and a decoder. The best\\nperforming models also connect the encoder and decoder through an attention\\nmechanism. We propose a new simple network architecture, the Transformer,'),\n",
       " Document(metadata={'source': 'Data/attention.pdf', 'page': 0}, page_content='based solely on attention mechanisms, dispensing with recurrence and convolutions\\nentirely. Experiments on two machine translation tasks show these models to\\nbe superior in quality while being more parallelizable and requiring significantly\\nless time to train. Our model achieves 28.4 BLEU on the WMT 2014 English-\\nto-German translation task, improving over the existing best results, including\\nensembles, by over 2 BLEU. On the WMT 2014 English-to-French translation task,'),\n",
       " Document(metadata={'source': 'Data/attention.pdf', 'page': 0}, page_content='our model establishes a new single-model state-of-the-art BLEU score of 41.8 after\\ntraining for 3.5 days on eight GPUs, a small fraction of the training costs of the\\nbest models from the literature. We show that the Transformer generalizes well to\\nother tasks by applying it successfully to English constituency parsing both with\\nlarge and limited training data.\\n∗Equal contribution. Listing order is random. Jakob proposed replacing RNNs with self-attention and started'),\n",
       " Document(metadata={'source': 'Data/attention.pdf', 'page': 0}, page_content='the effort to evaluate this idea. Ashish, with Illia, designed and implemented the first Transformer models and\\nhas been crucially involved in every aspect of this work. Noam proposed scaled dot-product attention, multi-head\\nattention and the parameter-free position representation and became the other person involved in nearly every\\ndetail. Niki designed, implemented, tuned and evaluated countless model variants in our original codebase and'),\n",
       " Document(metadata={'source': 'Data/attention.pdf', 'page': 0}, page_content='tensor2tensor. Llion also experimented with novel model variants, was responsible for our initial codebase, and\\nefficient inference and visualizations. Lukasz and Aidan spent countless long days designing various parts of and\\nimplementing tensor2tensor, replacing our earlier codebase, greatly improving results and massively accelerating\\nour research.\\n†Work performed while at Google Brain.\\n‡Work performed while at Google Research.'),\n",
       " Document(metadata={'source': 'Data/attention.pdf', 'page': 0}, page_content='‡Work performed while at Google Research.\\n31st Conference on Neural Information Processing Systems (NIPS 2017), Long Beach, CA, USA.arXiv:1706.03762v7  [cs.CL]  2 Aug 2023'),\n",
       " Document(metadata={'source': 'Data/attention.pdf', 'page': 1}, page_content='1 Introduction\\nRecurrent neural networks, long short-term memory [ 13] and gated recurrent [ 7] neural networks\\nin particular, have been firmly established as state of the art approaches in sequence modeling and\\ntransduction problems such as language modeling and machine translation [ 35,2,5]. Numerous\\nefforts have since continued to push the boundaries of recurrent language models and encoder-decoder\\narchitectures [38, 24, 15].'),\n",
       " Document(metadata={'source': 'Data/attention.pdf', 'page': 1}, page_content='architectures [38, 24, 15].\\nRecurrent models typically factor computation along the symbol positions of the input and output\\nsequences. Aligning the positions to steps in computation time, they generate a sequence of hidden\\nstates ht, as a function of the previous hidden state ht−1and the input for position t. This inherently\\nsequential nature precludes parallelization within training examples, which becomes critical at longer'),\n",
       " Document(metadata={'source': 'Data/attention.pdf', 'page': 1}, page_content='sequence lengths, as memory constraints limit batching across examples. Recent work has achieved\\nsignificant improvements in computational efficiency through factorization tricks [ 21] and conditional\\ncomputation [ 32], while also improving model performance in case of the latter. The fundamental\\nconstraint of sequential computation, however, remains.\\nAttention mechanisms have become an integral part of compelling sequence modeling and transduc-'),\n",
       " Document(metadata={'source': 'Data/attention.pdf', 'page': 1}, page_content='tion models in various tasks, allowing modeling of dependencies without regard to their distance in\\nthe input or output sequences [ 2,19]. In all but a few cases [ 27], however, such attention mechanisms\\nare used in conjunction with a recurrent network.\\nIn this work we propose the Transformer, a model architecture eschewing recurrence and instead\\nrelying entirely on an attention mechanism to draw global dependencies between input and output.'),\n",
       " Document(metadata={'source': 'Data/attention.pdf', 'page': 1}, page_content='The Transformer allows for significantly more parallelization and can reach a new state of the art in\\ntranslation quality after being trained for as little as twelve hours on eight P100 GPUs.\\n2 Background\\nThe goal of reducing sequential computation also forms the foundation of the Extended Neural GPU\\n[16], ByteNet [ 18] and ConvS2S [ 9], all of which use convolutional neural networks as basic building'),\n",
       " Document(metadata={'source': 'Data/attention.pdf', 'page': 1}, page_content='block, computing hidden representations in parallel for all input and output positions. In these models,\\nthe number of operations required to relate signals from two arbitrary input or output positions grows\\nin the distance between positions, linearly for ConvS2S and logarithmically for ByteNet. This makes\\nit more difficult to learn dependencies between distant positions [ 12]. In the Transformer this is'),\n",
       " Document(metadata={'source': 'Data/attention.pdf', 'page': 1}, page_content='reduced to a constant number of operations, albeit at the cost of reduced effective resolution due\\nto averaging attention-weighted positions, an effect we counteract with Multi-Head Attention as\\ndescribed in section 3.2.\\nSelf-attention, sometimes called intra-attention is an attention mechanism relating different positions\\nof a single sequence in order to compute a representation of the sequence. Self-attention has been'),\n",
       " Document(metadata={'source': 'Data/attention.pdf', 'page': 1}, page_content='used successfully in a variety of tasks including reading comprehension, abstractive summarization,\\ntextual entailment and learning task-independent sentence representations [4, 27, 28, 22].\\nEnd-to-end memory networks are based on a recurrent attention mechanism instead of sequence-\\naligned recurrence and have been shown to perform well on simple-language question answering and\\nlanguage modeling tasks [34].'),\n",
       " Document(metadata={'source': 'Data/attention.pdf', 'page': 1}, page_content='language modeling tasks [34].\\nTo the best of our knowledge, however, the Transformer is the first transduction model relying\\nentirely on self-attention to compute representations of its input and output without using sequence-\\naligned RNNs or convolution. In the following sections, we will describe the Transformer, motivate\\nself-attention and discuss its advantages over models such as [17, 18] and [9].\\n3 Model Architecture'),\n",
       " Document(metadata={'source': 'Data/attention.pdf', 'page': 1}, page_content='3 Model Architecture\\nMost competitive neural sequence transduction models have an encoder-decoder structure [ 5,2,35].\\nHere, the encoder maps an input sequence of symbol representations (x1, ..., x n)to a sequence\\nof continuous representations z= (z1, ..., z n). Given z, the decoder then generates an output\\nsequence (y1, ..., y m)of symbols one element at a time. At each step the model is auto-regressive'),\n",
       " Document(metadata={'source': 'Data/attention.pdf', 'page': 1}, page_content='[10], consuming the previously generated symbols as additional input when generating the next.\\n2'),\n",
       " Document(metadata={'source': 'Data/attention.pdf', 'page': 2}, page_content='Figure 1: The Transformer - model architecture.\\nThe Transformer follows this overall architecture using stacked self-attention and point-wise, fully\\nconnected layers for both the encoder and decoder, shown in the left and right halves of Figure 1,\\nrespectively.\\n3.1 Encoder and Decoder Stacks\\nEncoder: The encoder is composed of a stack of N= 6 identical layers. Each layer has two\\nsub-layers. The first is a multi-head self-attention mechanism, and the second is a simple, position-'),\n",
       " Document(metadata={'source': 'Data/attention.pdf', 'page': 2}, page_content='wise fully connected feed-forward network. We employ a residual connection [ 11] around each of\\nthe two sub-layers, followed by layer normalization [ 1]. That is, the output of each sub-layer is\\nLayerNorm( x+ Sublayer( x)), where Sublayer( x)is the function implemented by the sub-layer\\nitself. To facilitate these residual connections, all sub-layers in the model, as well as the embedding\\nlayers, produce outputs of dimension dmodel = 512 .'),\n",
       " Document(metadata={'source': 'Data/attention.pdf', 'page': 2}, page_content='Decoder: The decoder is also composed of a stack of N= 6identical layers. In addition to the two\\nsub-layers in each encoder layer, the decoder inserts a third sub-layer, which performs multi-head\\nattention over the output of the encoder stack. Similar to the encoder, we employ residual connections\\naround each of the sub-layers, followed by layer normalization. We also modify the self-attention\\nsub-layer in the decoder stack to prevent positions from attending to subsequent positions. This'),\n",
       " Document(metadata={'source': 'Data/attention.pdf', 'page': 2}, page_content='masking, combined with fact that the output embeddings are offset by one position, ensures that the\\npredictions for position ican depend only on the known outputs at positions less than i.\\n3.2 Attention\\nAn attention function can be described as mapping a query and a set of key-value pairs to an output,\\nwhere the query, keys, values, and output are all vectors. The output is computed as a weighted sum\\n3'),\n",
       " Document(metadata={'source': 'Data/attention.pdf', 'page': 3}, page_content='Scaled Dot-Product Attention\\n Multi-Head Attention\\nFigure 2: (left) Scaled Dot-Product Attention. (right) Multi-Head Attention consists of several\\nattention layers running in parallel.\\nof the values, where the weight assigned to each value is computed by a compatibility function of the\\nquery with the corresponding key.\\n3.2.1 Scaled Dot-Product Attention\\nWe call our particular attention \"Scaled Dot-Product Attention\" (Figure 2). The input consists of'),\n",
       " Document(metadata={'source': 'Data/attention.pdf', 'page': 3}, page_content='queries and keys of dimension dk, and values of dimension dv. We compute the dot products of the\\nquery with all keys, divide each by√dk, and apply a softmax function to obtain the weights on the\\nvalues.\\nIn practice, we compute the attention function on a set of queries simultaneously, packed together\\ninto a matrix Q. The keys and values are also packed together into matrices KandV. We compute\\nthe matrix of outputs as:\\nAttention( Q, K, V ) = softmax(QKT\\n√dk)V (1)'),\n",
       " Document(metadata={'source': 'Data/attention.pdf', 'page': 3}, page_content='Attention( Q, K, V ) = softmax(QKT\\n√dk)V (1)\\nThe two most commonly used attention functions are additive attention [ 2], and dot-product (multi-\\nplicative) attention. Dot-product attention is identical to our algorithm, except for the scaling factor\\nof1√dk. Additive attention computes the compatibility function using a feed-forward network with\\na single hidden layer. While the two are similar in theoretical complexity, dot-product attention is'),\n",
       " Document(metadata={'source': 'Data/attention.pdf', 'page': 3}, page_content='much faster and more space-efficient in practice, since it can be implemented using highly optimized\\nmatrix multiplication code.\\nWhile for small values of dkthe two mechanisms perform similarly, additive attention outperforms\\ndot product attention without scaling for larger values of dk[3]. We suspect that for large values of\\ndk, the dot products grow large in magnitude, pushing the softmax function into regions where it has'),\n",
       " Document(metadata={'source': 'Data/attention.pdf', 'page': 3}, page_content='extremely small gradients4. To counteract this effect, we scale the dot products by1√dk.\\n3.2.2 Multi-Head Attention\\nInstead of performing a single attention function with dmodel-dimensional keys, values and queries,\\nwe found it beneficial to linearly project the queries, keys and values htimes with different, learned\\nlinear projections to dk,dkanddvdimensions, respectively. On each of these projected versions of'),\n",
       " Document(metadata={'source': 'Data/attention.pdf', 'page': 3}, page_content='queries, keys and values we then perform the attention function in parallel, yielding dv-dimensional\\n4To illustrate why the dot products get large, assume that the components of qandkare independent random\\nvariables with mean 0and variance 1. Then their dot product, q·k=Pdk\\ni=1qiki, has mean 0and variance dk.\\n4'),\n",
       " Document(metadata={'source': 'Data/attention.pdf', 'page': 4}, page_content='output values. These are concatenated and once again projected, resulting in the final values, as\\ndepicted in Figure 2.\\nMulti-head attention allows the model to jointly attend to information from different representation\\nsubspaces at different positions. With a single attention head, averaging inhibits this.\\nMultiHead( Q, K, V ) = Concat(head 1, ...,head h)WO\\nwhere head i= Attention( QWQ\\ni, KWK\\ni, V WV\\ni)\\nWhere the projections are parameter matrices WQ\\ni∈Rdmodel×dk,WK\\ni∈Rdmodel×dk,WV'),\n",
       " Document(metadata={'source': 'Data/attention.pdf', 'page': 4}, page_content='i∈Rdmodel×dk,WK\\ni∈Rdmodel×dk,WV\\ni∈Rdmodel×dv\\nandWO∈Rhdv×dmodel.\\nIn this work we employ h= 8 parallel attention layers, or heads. For each of these we use\\ndk=dv=dmodel/h= 64 . Due to the reduced dimension of each head, the total computational cost\\nis similar to that of single-head attention with full dimensionality.\\n3.2.3 Applications of Attention in our Model\\nThe Transformer uses multi-head attention in three different ways:'),\n",
       " Document(metadata={'source': 'Data/attention.pdf', 'page': 4}, page_content='•In \"encoder-decoder attention\" layers, the queries come from the previous decoder layer,\\nand the memory keys and values come from the output of the encoder. This allows every\\nposition in the decoder to attend over all positions in the input sequence. This mimics the\\ntypical encoder-decoder attention mechanisms in sequence-to-sequence models such as\\n[38, 2, 9].\\n•The encoder contains self-attention layers. In a self-attention layer all of the keys, values'),\n",
       " Document(metadata={'source': 'Data/attention.pdf', 'page': 4}, page_content='and queries come from the same place, in this case, the output of the previous layer in the\\nencoder. Each position in the encoder can attend to all positions in the previous layer of the\\nencoder.\\n•Similarly, self-attention layers in the decoder allow each position in the decoder to attend to\\nall positions in the decoder up to and including that position. We need to prevent leftward\\ninformation flow in the decoder to preserve the auto-regressive property. We implement this'),\n",
       " Document(metadata={'source': 'Data/attention.pdf', 'page': 4}, page_content='inside of scaled dot-product attention by masking out (setting to −∞) all values in the input\\nof the softmax which correspond to illegal connections. See Figure 2.\\n3.3 Position-wise Feed-Forward Networks\\nIn addition to attention sub-layers, each of the layers in our encoder and decoder contains a fully\\nconnected feed-forward network, which is applied to each position separately and identically. This\\nconsists of two linear transformations with a ReLU activation in between.'),\n",
       " Document(metadata={'source': 'Data/attention.pdf', 'page': 4}, page_content='FFN( x) = max(0 , xW 1+b1)W2+b2 (2)\\nWhile the linear transformations are the same across different positions, they use different parameters\\nfrom layer to layer. Another way of describing this is as two convolutions with kernel size 1.\\nThe dimensionality of input and output is dmodel = 512 , and the inner-layer has dimensionality\\ndff= 2048 .\\n3.4 Embeddings and Softmax\\nSimilarly to other sequence transduction models, we use learned embeddings to convert the input'),\n",
       " Document(metadata={'source': 'Data/attention.pdf', 'page': 4}, page_content='tokens and output tokens to vectors of dimension dmodel. We also use the usual learned linear transfor-\\nmation and softmax function to convert the decoder output to predicted next-token probabilities. In\\nour model, we share the same weight matrix between the two embedding layers and the pre-softmax\\nlinear transformation, similar to [ 30]. In the embedding layers, we multiply those weights by√dmodel.\\n5'),\n",
       " Document(metadata={'source': 'Data/attention.pdf', 'page': 5}, page_content='Table 1: Maximum path lengths, per-layer complexity and minimum number of sequential operations\\nfor different layer types. nis the sequence length, dis the representation dimension, kis the kernel\\nsize of convolutions and rthe size of the neighborhood in restricted self-attention.\\nLayer Type Complexity per Layer Sequential Maximum Path Length\\nOperations\\nSelf-Attention O(n2·d) O(1) O(1)\\nRecurrent O(n·d2) O(n) O(n)\\nConvolutional O(k·n·d2) O(1) O(logk(n))'),\n",
       " Document(metadata={'source': 'Data/attention.pdf', 'page': 5}, page_content='Convolutional O(k·n·d2) O(1) O(logk(n))\\nSelf-Attention (restricted) O(r·n·d) O(1) O(n/r)\\n3.5 Positional Encoding\\nSince our model contains no recurrence and no convolution, in order for the model to make use of the\\norder of the sequence, we must inject some information about the relative or absolute position of the\\ntokens in the sequence. To this end, we add \"positional encodings\" to the input embeddings at the'),\n",
       " Document(metadata={'source': 'Data/attention.pdf', 'page': 5}, page_content='bottoms of the encoder and decoder stacks. The positional encodings have the same dimension dmodel\\nas the embeddings, so that the two can be summed. There are many choices of positional encodings,\\nlearned and fixed [9].\\nIn this work, we use sine and cosine functions of different frequencies:\\nPE(pos,2i)=sin(pos/100002i/d model)\\nPE(pos,2i+1)=cos(pos/100002i/d model)\\nwhere posis the position and iis the dimension. That is, each dimension of the positional encoding'),\n",
       " Document(metadata={'source': 'Data/attention.pdf', 'page': 5}, page_content='corresponds to a sinusoid. The wavelengths form a geometric progression from 2πto10000 ·2π. We\\nchose this function because we hypothesized it would allow the model to easily learn to attend by\\nrelative positions, since for any fixed offset k,PEpos+kcan be represented as a linear function of\\nPEpos.\\nWe also experimented with using learned positional embeddings [ 9] instead, and found that the two\\nversions produced nearly identical results (see Table 3 row (E)). We chose the sinusoidal version'),\n",
       " Document(metadata={'source': 'Data/attention.pdf', 'page': 5}, page_content='because it may allow the model to extrapolate to sequence lengths longer than the ones encountered\\nduring training.\\n4 Why Self-Attention\\nIn this section we compare various aspects of self-attention layers to the recurrent and convolu-\\ntional layers commonly used for mapping one variable-length sequence of symbol representations\\n(x1, ..., x n)to another sequence of equal length (z1, ..., z n), with xi, zi∈Rd, such as a hidden'),\n",
       " Document(metadata={'source': 'Data/attention.pdf', 'page': 5}, page_content='layer in a typical sequence transduction encoder or decoder. Motivating our use of self-attention we\\nconsider three desiderata.\\nOne is the total computational complexity per layer. Another is the amount of computation that can\\nbe parallelized, as measured by the minimum number of sequential operations required.\\nThe third is the path length between long-range dependencies in the network. Learning long-range'),\n",
       " Document(metadata={'source': 'Data/attention.pdf', 'page': 5}, page_content='dependencies is a key challenge in many sequence transduction tasks. One key factor affecting the\\nability to learn such dependencies is the length of the paths forward and backward signals have to\\ntraverse in the network. The shorter these paths between any combination of positions in the input\\nand output sequences, the easier it is to learn long-range dependencies [ 12]. Hence we also compare\\nthe maximum path length between any two input and output positions in networks composed of the'),\n",
       " Document(metadata={'source': 'Data/attention.pdf', 'page': 5}, page_content='different layer types.\\nAs noted in Table 1, a self-attention layer connects all positions with a constant number of sequentially\\nexecuted operations, whereas a recurrent layer requires O(n)sequential operations. In terms of\\ncomputational complexity, self-attention layers are faster than recurrent layers when the sequence\\n6'),\n",
       " Document(metadata={'source': 'Data/attention.pdf', 'page': 6}, page_content='length nis smaller than the representation dimensionality d, which is most often the case with\\nsentence representations used by state-of-the-art models in machine translations, such as word-piece\\n[38] and byte-pair [ 31] representations. To improve computational performance for tasks involving\\nvery long sequences, self-attention could be restricted to considering only a neighborhood of size rin\\nthe input sequence centered around the respective output position. This would increase the maximum'),\n",
       " Document(metadata={'source': 'Data/attention.pdf', 'page': 6}, page_content='path length to O(n/r). We plan to investigate this approach further in future work.\\nA single convolutional layer with kernel width k < n does not connect all pairs of input and output\\npositions. Doing so requires a stack of O(n/k)convolutional layers in the case of contiguous kernels,\\norO(logk(n))in the case of dilated convolutions [ 18], increasing the length of the longest paths\\nbetween any two positions in the network. Convolutional layers are generally more expensive than'),\n",
       " Document(metadata={'source': 'Data/attention.pdf', 'page': 6}, page_content='recurrent layers, by a factor of k. Separable convolutions [ 6], however, decrease the complexity\\nconsiderably, to O(k·n·d+n·d2). Even with k=n, however, the complexity of a separable\\nconvolution is equal to the combination of a self-attention layer and a point-wise feed-forward layer,\\nthe approach we take in our model.\\nAs side benefit, self-attention could yield more interpretable models. We inspect attention distributions'),\n",
       " Document(metadata={'source': 'Data/attention.pdf', 'page': 6}, page_content='from our models and present and discuss examples in the appendix. Not only do individual attention\\nheads clearly learn to perform different tasks, many appear to exhibit behavior related to the syntactic\\nand semantic structure of the sentences.\\n5 Training\\nThis section describes the training regime for our models.\\n5.1 Training Data and Batching\\nWe trained on the standard WMT 2014 English-German dataset consisting of about 4.5 million'),\n",
       " Document(metadata={'source': 'Data/attention.pdf', 'page': 6}, page_content='sentence pairs. Sentences were encoded using byte-pair encoding [ 3], which has a shared source-\\ntarget vocabulary of about 37000 tokens. For English-French, we used the significantly larger WMT\\n2014 English-French dataset consisting of 36M sentences and split tokens into a 32000 word-piece\\nvocabulary [ 38]. Sentence pairs were batched together by approximate sequence length. Each training\\nbatch contained a set of sentence pairs containing approximately 25000 source tokens and 25000'),\n",
       " Document(metadata={'source': 'Data/attention.pdf', 'page': 6}, page_content='target tokens.\\n5.2 Hardware and Schedule\\nWe trained our models on one machine with 8 NVIDIA P100 GPUs. For our base models using\\nthe hyperparameters described throughout the paper, each training step took about 0.4 seconds. We\\ntrained the base models for a total of 100,000 steps or 12 hours. For our big models,(described on the\\nbottom line of table 3), step time was 1.0 seconds. The big models were trained for 300,000 steps\\n(3.5 days).\\n5.3 Optimizer'),\n",
       " Document(metadata={'source': 'Data/attention.pdf', 'page': 6}, page_content='(3.5 days).\\n5.3 Optimizer\\nWe used the Adam optimizer [ 20] with β1= 0.9,β2= 0.98andϵ= 10−9. We varied the learning\\nrate over the course of training, according to the formula:\\nlrate =d−0.5\\nmodel·min(step_num−0.5, step _num·warmup _steps−1.5) (3)\\nThis corresponds to increasing the learning rate linearly for the first warmup _steps training steps,\\nand decreasing it thereafter proportionally to the inverse square root of the step number. We used\\nwarmup _steps = 4000 .\\n5.4 Regularization'),\n",
       " Document(metadata={'source': 'Data/attention.pdf', 'page': 6}, page_content='warmup _steps = 4000 .\\n5.4 Regularization\\nWe employ three types of regularization during training:\\n7'),\n",
       " Document(metadata={'source': 'Data/attention.pdf', 'page': 7}, page_content='Table 2: The Transformer achieves better BLEU scores than previous state-of-the-art models on the\\nEnglish-to-German and English-to-French newstest2014 tests at a fraction of the training cost.\\nModelBLEU Training Cost (FLOPs)\\nEN-DE EN-FR EN-DE EN-FR\\nByteNet [18] 23.75\\nDeep-Att + PosUnk [39] 39.2 1.0·1020\\nGNMT + RL [38] 24.6 39.92 2.3·10191.4·1020\\nConvS2S [9] 25.16 40.46 9.6·10181.5·1020\\nMoE [32] 26.03 40.56 2.0·10191.2·1020\\nDeep-Att + PosUnk Ensemble [39] 40.4 8.0·1020'),\n",
       " Document(metadata={'source': 'Data/attention.pdf', 'page': 7}, page_content='Deep-Att + PosUnk Ensemble [39] 40.4 8.0·1020\\nGNMT + RL Ensemble [38] 26.30 41.16 1.8·10201.1·1021\\nConvS2S Ensemble [9] 26.36 41.29 7.7·10191.2·1021\\nTransformer (base model) 27.3 38.1 3.3·1018\\nTransformer (big) 28.4 41.8 2.3·1019\\nResidual Dropout We apply dropout [ 33] to the output of each sub-layer, before it is added to the\\nsub-layer input and normalized. In addition, we apply dropout to the sums of the embeddings and the'),\n",
       " Document(metadata={'source': 'Data/attention.pdf', 'page': 7}, page_content='positional encodings in both the encoder and decoder stacks. For the base model, we use a rate of\\nPdrop= 0.1.\\nLabel Smoothing During training, we employed label smoothing of value ϵls= 0.1[36]. This\\nhurts perplexity, as the model learns to be more unsure, but improves accuracy and BLEU score.\\n6 Results\\n6.1 Machine Translation\\nOn the WMT 2014 English-to-German translation task, the big transformer model (Transformer (big)'),\n",
       " Document(metadata={'source': 'Data/attention.pdf', 'page': 7}, page_content='in Table 2) outperforms the best previously reported models (including ensembles) by more than 2.0\\nBLEU, establishing a new state-of-the-art BLEU score of 28.4. The configuration of this model is\\nlisted in the bottom line of Table 3. Training took 3.5days on 8P100 GPUs. Even our base model\\nsurpasses all previously published models and ensembles, at a fraction of the training cost of any of\\nthe competitive models.'),\n",
       " Document(metadata={'source': 'Data/attention.pdf', 'page': 7}, page_content='the competitive models.\\nOn the WMT 2014 English-to-French translation task, our big model achieves a BLEU score of 41.0,\\noutperforming all of the previously published single models, at less than 1/4the training cost of the\\nprevious state-of-the-art model. The Transformer (big) model trained for English-to-French used\\ndropout rate Pdrop= 0.1, instead of 0.3.\\nFor the base models, we used a single model obtained by averaging the last 5 checkpoints, which'),\n",
       " Document(metadata={'source': 'Data/attention.pdf', 'page': 7}, page_content='were written at 10-minute intervals. For the big models, we averaged the last 20 checkpoints. We\\nused beam search with a beam size of 4and length penalty α= 0.6[38]. These hyperparameters\\nwere chosen after experimentation on the development set. We set the maximum output length during\\ninference to input length + 50, but terminate early when possible [38].\\nTable 2 summarizes our results and compares our translation quality and training costs to other model'),\n",
       " Document(metadata={'source': 'Data/attention.pdf', 'page': 7}, page_content='architectures from the literature. We estimate the number of floating point operations used to train a\\nmodel by multiplying the training time, the number of GPUs used, and an estimate of the sustained\\nsingle-precision floating-point capacity of each GPU5.\\n6.2 Model Variations\\nTo evaluate the importance of different components of the Transformer, we varied our base model\\nin different ways, measuring the change in performance on English-to-German translation on the'),\n",
       " Document(metadata={'source': 'Data/attention.pdf', 'page': 7}, page_content='5We used values of 2.8, 3.7, 6.0 and 9.5 TFLOPS for K80, K40, M40 and P100, respectively.\\n8'),\n",
       " Document(metadata={'source': 'Data/attention.pdf', 'page': 8}, page_content='Table 3: Variations on the Transformer architecture. Unlisted values are identical to those of the base\\nmodel. All metrics are on the English-to-German translation development set, newstest2013. Listed\\nperplexities are per-wordpiece, according to our byte-pair encoding, and should not be compared to\\nper-word perplexities.\\nN d model dff h d k dvPdrop ϵlstrain PPL BLEU params\\nsteps (dev) (dev) ×106\\nbase 6 512 2048 8 64 64 0.1 0.1 100K 4.92 25.8 65\\n(A)1 512 512 5.29 24.9\\n4 128 128 5.00 25.5'),\n",
       " Document(metadata={'source': 'Data/attention.pdf', 'page': 8}, page_content='(A)1 512 512 5.29 24.9\\n4 128 128 5.00 25.5\\n16 32 32 4.91 25.8\\n32 16 16 5.01 25.4\\n(B)16 5.16 25.1 58\\n32 5.01 25.4 60\\n(C)2 6.11 23.7 36\\n4 5.19 25.3 50\\n8 4.88 25.5 80\\n256 32 32 5.75 24.5 28\\n1024 128 128 4.66 26.0 168\\n1024 5.12 25.4 53\\n4096 4.75 26.2 90\\n(D)0.0 5.77 24.6\\n0.2 4.95 25.5\\n0.0 4.67 25.3\\n0.2 5.47 25.7\\n(E) positional embedding instead of sinusoids 4.92 25.7\\nbig 6 1024 4096 16 0.3 300K 4.33 26.4 213'),\n",
       " Document(metadata={'source': 'Data/attention.pdf', 'page': 8}, page_content='big 6 1024 4096 16 0.3 300K 4.33 26.4 213\\ndevelopment set, newstest2013. We used beam search as described in the previous section, but no\\ncheckpoint averaging. We present these results in Table 3.\\nIn Table 3 rows (A), we vary the number of attention heads and the attention key and value dimensions,\\nkeeping the amount of computation constant, as described in Section 3.2.2. While single-head\\nattention is 0.9 BLEU worse than the best setting, quality also drops off with too many heads.'),\n",
       " Document(metadata={'source': 'Data/attention.pdf', 'page': 8}, page_content='In Table 3 rows (B), we observe that reducing the attention key size dkhurts model quality. This\\nsuggests that determining compatibility is not easy and that a more sophisticated compatibility\\nfunction than dot product may be beneficial. We further observe in rows (C) and (D) that, as expected,\\nbigger models are better, and dropout is very helpful in avoiding over-fitting. In row (E) we replace our'),\n",
       " Document(metadata={'source': 'Data/attention.pdf', 'page': 8}, page_content='sinusoidal positional encoding with learned positional embeddings [ 9], and observe nearly identical\\nresults to the base model.\\n6.3 English Constituency Parsing\\nTo evaluate if the Transformer can generalize to other tasks we performed experiments on English\\nconstituency parsing. This task presents specific challenges: the output is subject to strong structural\\nconstraints and is significantly longer than the input. Furthermore, RNN sequence-to-sequence'),\n",
       " Document(metadata={'source': 'Data/attention.pdf', 'page': 8}, page_content='models have not been able to attain state-of-the-art results in small-data regimes [37].\\nWe trained a 4-layer transformer with dmodel = 1024 on the Wall Street Journal (WSJ) portion of the\\nPenn Treebank [ 25], about 40K training sentences. We also trained it in a semi-supervised setting,\\nusing the larger high-confidence and BerkleyParser corpora from with approximately 17M sentences\\n[37]. We used a vocabulary of 16K tokens for the WSJ only setting and a vocabulary of 32K tokens'),\n",
       " Document(metadata={'source': 'Data/attention.pdf', 'page': 8}, page_content='for the semi-supervised setting.\\nWe performed only a small number of experiments to select the dropout, both attention and residual\\n(section 5.4), learning rates and beam size on the Section 22 development set, all other parameters\\nremained unchanged from the English-to-German base translation model. During inference, we\\n9'),\n",
       " Document(metadata={'source': 'Data/attention.pdf', 'page': 9}, page_content='Table 4: The Transformer generalizes well to English constituency parsing (Results are on Section 23\\nof WSJ)\\nParser Training WSJ 23 F1\\nVinyals & Kaiser el al. (2014) [37] WSJ only, discriminative 88.3\\nPetrov et al. (2006) [29] WSJ only, discriminative 90.4\\nZhu et al. (2013) [40] WSJ only, discriminative 90.4\\nDyer et al. (2016) [8] WSJ only, discriminative 91.7\\nTransformer (4 layers) WSJ only, discriminative 91.3\\nZhu et al. (2013) [40] semi-supervised 91.3'),\n",
       " Document(metadata={'source': 'Data/attention.pdf', 'page': 9}, page_content='Zhu et al. (2013) [40] semi-supervised 91.3\\nHuang & Harper (2009) [14] semi-supervised 91.3\\nMcClosky et al. (2006) [26] semi-supervised 92.1\\nVinyals & Kaiser el al. (2014) [37] semi-supervised 92.1\\nTransformer (4 layers) semi-supervised 92.7\\nLuong et al. (2015) [23] multi-task 93.0\\nDyer et al. (2016) [8] generative 93.3\\nincreased the maximum output length to input length + 300. We used a beam size of 21andα= 0.3\\nfor both WSJ only and the semi-supervised setting.'),\n",
       " Document(metadata={'source': 'Data/attention.pdf', 'page': 9}, page_content='Our results in Table 4 show that despite the lack of task-specific tuning our model performs sur-\\nprisingly well, yielding better results than all previously reported models with the exception of the\\nRecurrent Neural Network Grammar [8].\\nIn contrast to RNN sequence-to-sequence models [ 37], the Transformer outperforms the Berkeley-\\nParser [29] even when training only on the WSJ training set of 40K sentences.\\n7 Conclusion'),\n",
       " Document(metadata={'source': 'Data/attention.pdf', 'page': 9}, page_content='7 Conclusion\\nIn this work, we presented the Transformer, the first sequence transduction model based entirely on\\nattention, replacing the recurrent layers most commonly used in encoder-decoder architectures with\\nmulti-headed self-attention.\\nFor translation tasks, the Transformer can be trained significantly faster than architectures based\\non recurrent or convolutional layers. On both WMT 2014 English-to-German and WMT 2014'),\n",
       " Document(metadata={'source': 'Data/attention.pdf', 'page': 9}, page_content='English-to-French translation tasks, we achieve a new state of the art. In the former task our best\\nmodel outperforms even all previously reported ensembles.\\nWe are excited about the future of attention-based models and plan to apply them to other tasks. We\\nplan to extend the Transformer to problems involving input and output modalities other than text and\\nto investigate local, restricted attention mechanisms to efficiently handle large inputs and outputs'),\n",
       " Document(metadata={'source': 'Data/attention.pdf', 'page': 9}, page_content='such as images, audio and video. Making generation less sequential is another research goals of ours.\\nThe code we used to train and evaluate our models is available at https://github.com/\\ntensorflow/tensor2tensor .\\nAcknowledgements We are grateful to Nal Kalchbrenner and Stephan Gouws for their fruitful\\ncomments, corrections and inspiration.\\nReferences\\n[1]Jimmy Lei Ba, Jamie Ryan Kiros, and Geoffrey E Hinton. Layer normalization. arXiv preprint\\narXiv:1607.06450 , 2016.'),\n",
       " Document(metadata={'source': 'Data/attention.pdf', 'page': 9}, page_content='arXiv:1607.06450 , 2016.\\n[2]Dzmitry Bahdanau, Kyunghyun Cho, and Yoshua Bengio. Neural machine translation by jointly\\nlearning to align and translate. CoRR , abs/1409.0473, 2014.\\n[3]Denny Britz, Anna Goldie, Minh-Thang Luong, and Quoc V . Le. Massive exploration of neural\\nmachine translation architectures. CoRR , abs/1703.03906, 2017.\\n[4]Jianpeng Cheng, Li Dong, and Mirella Lapata. Long short-term memory-networks for machine\\nreading. arXiv preprint arXiv:1601.06733 , 2016.\\n10'),\n",
       " Document(metadata={'source': 'Data/attention.pdf', 'page': 10}, page_content='[5]Kyunghyun Cho, Bart van Merrienboer, Caglar Gulcehre, Fethi Bougares, Holger Schwenk,\\nand Yoshua Bengio. Learning phrase representations using rnn encoder-decoder for statistical\\nmachine translation. CoRR , abs/1406.1078, 2014.\\n[6]Francois Chollet. Xception: Deep learning with depthwise separable convolutions. arXiv\\npreprint arXiv:1610.02357 , 2016.\\n[7]Junyoung Chung, Çaglar Gülçehre, Kyunghyun Cho, and Yoshua Bengio. Empirical evaluation'),\n",
       " Document(metadata={'source': 'Data/attention.pdf', 'page': 10}, page_content='of gated recurrent neural networks on sequence modeling. CoRR , abs/1412.3555, 2014.\\n[8]Chris Dyer, Adhiguna Kuncoro, Miguel Ballesteros, and Noah A. Smith. Recurrent neural\\nnetwork grammars. In Proc. of NAACL , 2016.\\n[9]Jonas Gehring, Michael Auli, David Grangier, Denis Yarats, and Yann N. Dauphin. Convolu-\\ntional sequence to sequence learning. arXiv preprint arXiv:1705.03122v2 , 2017.\\n[10] Alex Graves. Generating sequences with recurrent neural networks. arXiv preprint\\narXiv:1308.0850 , 2013.'),\n",
       " Document(metadata={'source': 'Data/attention.pdf', 'page': 10}, page_content='arXiv:1308.0850 , 2013.\\n[11] Kaiming He, Xiangyu Zhang, Shaoqing Ren, and Jian Sun. Deep residual learning for im-\\nage recognition. In Proceedings of the IEEE Conference on Computer Vision and Pattern\\nRecognition , pages 770–778, 2016.\\n[12] Sepp Hochreiter, Yoshua Bengio, Paolo Frasconi, and Jürgen Schmidhuber. Gradient flow in\\nrecurrent nets: the difficulty of learning long-term dependencies, 2001.\\n[13] Sepp Hochreiter and Jürgen Schmidhuber. Long short-term memory. Neural computation ,'),\n",
       " Document(metadata={'source': 'Data/attention.pdf', 'page': 10}, page_content='9(8):1735–1780, 1997.\\n[14] Zhongqiang Huang and Mary Harper. Self-training PCFG grammars with latent annotations\\nacross languages. In Proceedings of the 2009 Conference on Empirical Methods in Natural\\nLanguage Processing , pages 832–841. ACL, August 2009.\\n[15] Rafal Jozefowicz, Oriol Vinyals, Mike Schuster, Noam Shazeer, and Yonghui Wu. Exploring\\nthe limits of language modeling. arXiv preprint arXiv:1602.02410 , 2016.'),\n",
       " Document(metadata={'source': 'Data/attention.pdf', 'page': 10}, page_content='[16] Łukasz Kaiser and Samy Bengio. Can active memory replace attention? In Advances in Neural\\nInformation Processing Systems, (NIPS) , 2016.\\n[17] Łukasz Kaiser and Ilya Sutskever. Neural GPUs learn algorithms. In International Conference\\non Learning Representations (ICLR) , 2016.\\n[18] Nal Kalchbrenner, Lasse Espeholt, Karen Simonyan, Aaron van den Oord, Alex Graves, and Ko-\\nray Kavukcuoglu. Neural machine translation in linear time. arXiv preprint arXiv:1610.10099v2 ,\\n2017.'),\n",
       " Document(metadata={'source': 'Data/attention.pdf', 'page': 10}, page_content='2017.\\n[19] Yoon Kim, Carl Denton, Luong Hoang, and Alexander M. Rush. Structured attention networks.\\nInInternational Conference on Learning Representations , 2017.\\n[20] Diederik Kingma and Jimmy Ba. Adam: A method for stochastic optimization. In ICLR , 2015.\\n[21] Oleksii Kuchaiev and Boris Ginsburg. Factorization tricks for LSTM networks. arXiv preprint\\narXiv:1703.10722 , 2017.\\n[22] Zhouhan Lin, Minwei Feng, Cicero Nogueira dos Santos, Mo Yu, Bing Xiang, Bowen'),\n",
       " Document(metadata={'source': 'Data/attention.pdf', 'page': 10}, page_content='Zhou, and Yoshua Bengio. A structured self-attentive sentence embedding. arXiv preprint\\narXiv:1703.03130 , 2017.\\n[23] Minh-Thang Luong, Quoc V . Le, Ilya Sutskever, Oriol Vinyals, and Lukasz Kaiser. Multi-task\\nsequence to sequence learning. arXiv preprint arXiv:1511.06114 , 2015.\\n[24] Minh-Thang Luong, Hieu Pham, and Christopher D Manning. Effective approaches to attention-\\nbased neural machine translation. arXiv preprint arXiv:1508.04025 , 2015.\\n11'),\n",
       " Document(metadata={'source': 'Data/attention.pdf', 'page': 11}, page_content='[25] Mitchell P Marcus, Mary Ann Marcinkiewicz, and Beatrice Santorini. Building a large annotated\\ncorpus of english: The penn treebank. Computational linguistics , 19(2):313–330, 1993.\\n[26] David McClosky, Eugene Charniak, and Mark Johnson. Effective self-training for parsing. In\\nProceedings of the Human Language Technology Conference of the NAACL, Main Conference ,\\npages 152–159. ACL, June 2006.\\n[27] Ankur Parikh, Oscar Täckström, Dipanjan Das, and Jakob Uszkoreit. A decomposable attention'),\n",
       " Document(metadata={'source': 'Data/attention.pdf', 'page': 11}, page_content='model. In Empirical Methods in Natural Language Processing , 2016.\\n[28] Romain Paulus, Caiming Xiong, and Richard Socher. A deep reinforced model for abstractive\\nsummarization. arXiv preprint arXiv:1705.04304 , 2017.\\n[29] Slav Petrov, Leon Barrett, Romain Thibaux, and Dan Klein. Learning accurate, compact,\\nand interpretable tree annotation. In Proceedings of the 21st International Conference on\\nComputational Linguistics and 44th Annual Meeting of the ACL , pages 433–440. ACL, July\\n2006.'),\n",
       " Document(metadata={'source': 'Data/attention.pdf', 'page': 11}, page_content='2006.\\n[30] Ofir Press and Lior Wolf. Using the output embedding to improve language models. arXiv\\npreprint arXiv:1608.05859 , 2016.\\n[31] Rico Sennrich, Barry Haddow, and Alexandra Birch. Neural machine translation of rare words\\nwith subword units. arXiv preprint arXiv:1508.07909 , 2015.\\n[32] Noam Shazeer, Azalia Mirhoseini, Krzysztof Maziarz, Andy Davis, Quoc Le, Geoffrey Hinton,\\nand Jeff Dean. Outrageously large neural networks: The sparsely-gated mixture-of-experts'),\n",
       " Document(metadata={'source': 'Data/attention.pdf', 'page': 11}, page_content='layer. arXiv preprint arXiv:1701.06538 , 2017.\\n[33] Nitish Srivastava, Geoffrey E Hinton, Alex Krizhevsky, Ilya Sutskever, and Ruslan Salakhutdi-\\nnov. Dropout: a simple way to prevent neural networks from overfitting. Journal of Machine\\nLearning Research , 15(1):1929–1958, 2014.\\n[34] Sainbayar Sukhbaatar, Arthur Szlam, Jason Weston, and Rob Fergus. End-to-end memory\\nnetworks. In C. Cortes, N. D. Lawrence, D. D. Lee, M. Sugiyama, and R. Garnett, editors,'),\n",
       " Document(metadata={'source': 'Data/attention.pdf', 'page': 11}, page_content='Advances in Neural Information Processing Systems 28 , pages 2440–2448. Curran Associates,\\nInc., 2015.\\n[35] Ilya Sutskever, Oriol Vinyals, and Quoc VV Le. Sequence to sequence learning with neural\\nnetworks. In Advances in Neural Information Processing Systems , pages 3104–3112, 2014.\\n[36] Christian Szegedy, Vincent Vanhoucke, Sergey Ioffe, Jonathon Shlens, and Zbigniew Wojna.\\nRethinking the inception architecture for computer vision. CoRR , abs/1512.00567, 2015.'),\n",
       " Document(metadata={'source': 'Data/attention.pdf', 'page': 11}, page_content='[37] Vinyals & Kaiser, Koo, Petrov, Sutskever, and Hinton. Grammar as a foreign language. In\\nAdvances in Neural Information Processing Systems , 2015.\\n[38] Yonghui Wu, Mike Schuster, Zhifeng Chen, Quoc V Le, Mohammad Norouzi, Wolfgang\\nMacherey, Maxim Krikun, Yuan Cao, Qin Gao, Klaus Macherey, et al. Google’s neural machine\\ntranslation system: Bridging the gap between human and machine translation. arXiv preprint\\narXiv:1609.08144 , 2016.'),\n",
       " Document(metadata={'source': 'Data/attention.pdf', 'page': 11}, page_content='arXiv:1609.08144 , 2016.\\n[39] Jie Zhou, Ying Cao, Xuguang Wang, Peng Li, and Wei Xu. Deep recurrent models with\\nfast-forward connections for neural machine translation. CoRR , abs/1606.04199, 2016.\\n[40] Muhua Zhu, Yue Zhang, Wenliang Chen, Min Zhang, and Jingbo Zhu. Fast and accurate\\nshift-reduce constituent parsing. In Proceedings of the 51st Annual Meeting of the ACL (Volume\\n1: Long Papers) , pages 434–443. ACL, August 2013.\\n12'),\n",
       " Document(metadata={'source': 'Data/attention.pdf', 'page': 12}, page_content='Attention Visualizations\\nInput-Input Layer5\\nIt\\nis\\nin\\nthis\\nspirit\\nthat\\na\\nmajority\\nof\\nAmerican\\ngovernments\\nhave\\npassed\\nnew\\nlaws\\nsince\\n2009\\nmaking\\nthe\\nregistration\\nor\\nvoting\\nprocess\\nmore\\ndifficult\\n.\\n<EOS>\\n<pad>\\n<pad>\\n<pad>\\n<pad>\\n<pad>\\n<pad>\\nIt\\nis\\nin\\nthis\\nspirit\\nthat\\na\\nmajority\\nof\\nAmerican\\ngovernments\\nhave\\npassed\\nnew\\nlaws\\nsince\\n2009\\nmaking\\nthe\\nregistration\\nor\\nvoting\\nprocess\\nmore\\ndifficult\\n.\\n<EOS>\\n<pad>\\n<pad>\\n<pad>\\n<pad>\\n<pad>\\n<pad>'),\n",
       " Document(metadata={'source': 'Data/attention.pdf', 'page': 12}, page_content='.\\n<EOS>\\n<pad>\\n<pad>\\n<pad>\\n<pad>\\n<pad>\\n<pad>\\nFigure 3: An example of the attention mechanism following long-distance dependencies in the\\nencoder self-attention in layer 5 of 6. Many of the attention heads attend to a distant dependency of\\nthe verb ‘making’, completing the phrase ‘making...more difficult’. Attentions here shown only for\\nthe word ‘making’. Different colors represent different heads. Best viewed in color.\\n13'),\n",
       " Document(metadata={'source': 'Data/attention.pdf', 'page': 13}, page_content='Input-Input Layer5\\nThe\\nLaw\\nwill\\nnever\\nbe\\nperfect\\n,\\nbut\\nits\\napplication\\nshould\\nbe\\njust\\n-\\nthis\\nis\\nwhat\\nwe\\nare\\nmissing\\n,\\nin\\nmy\\nopinion\\n.\\n<EOS>\\n<pad>\\nThe\\nLaw\\nwill\\nnever\\nbe\\nperfect\\n,\\nbut\\nits\\napplication\\nshould\\nbe\\njust\\n-\\nthis\\nis\\nwhat\\nwe\\nare\\nmissing\\n,\\nin\\nmy\\nopinion\\n.\\n<EOS>\\n<pad>\\nInput-Input Layer5\\nThe\\nLaw\\nwill\\nnever\\nbe\\nperfect\\n,\\nbut\\nits\\napplication\\nshould\\nbe\\njust\\n-\\nthis\\nis\\nwhat\\nwe\\nare\\nmissing\\n,\\nin\\nmy\\nopinion\\n.\\n<EOS>\\n<pad>\\nThe\\nLaw\\nwill\\nnever\\nbe\\nperfect\\n,\\nbut\\nits\\napplication\\nshould\\nbe\\njust\\n-\\nthis\\nis\\nwhat'),\n",
       " Document(metadata={'source': 'Data/attention.pdf', 'page': 13}, page_content='but\\nits\\napplication\\nshould\\nbe\\njust\\n-\\nthis\\nis\\nwhat\\nwe\\nare\\nmissing\\n,\\nin\\nmy\\nopinion\\n.\\n<EOS>\\n<pad>Figure 4: Two attention heads, also in layer 5 of 6, apparently involved in anaphora resolution. Top:\\nFull attentions for head 5. Bottom: Isolated attentions from just the word ‘its’ for attention heads 5\\nand 6. Note that the attentions are very sharp for this word.\\n14'),\n",
       " Document(metadata={'source': 'Data/attention.pdf', 'page': 14}, page_content='Input-Input Layer5\\nThe\\nLaw\\nwill\\nnever\\nbe\\nperfect\\n,\\nbut\\nits\\napplication\\nshould\\nbe\\njust\\n-\\nthis\\nis\\nwhat\\nwe\\nare\\nmissing\\n,\\nin\\nmy\\nopinion\\n.\\n<EOS>\\n<pad>\\nThe\\nLaw\\nwill\\nnever\\nbe\\nperfect\\n,\\nbut\\nits\\napplication\\nshould\\nbe\\njust\\n-\\nthis\\nis\\nwhat\\nwe\\nare\\nmissing\\n,\\nin\\nmy\\nopinion\\n.\\n<EOS>\\n<pad>\\nInput-Input Layer5\\nThe\\nLaw\\nwill\\nnever\\nbe\\nperfect\\n,\\nbut\\nits\\napplication\\nshould\\nbe\\njust\\n-\\nthis\\nis\\nwhat\\nwe\\nare\\nmissing\\n,\\nin\\nmy\\nopinion\\n.\\n<EOS>\\n<pad>\\nThe\\nLaw\\nwill\\nnever\\nbe\\nperfect\\n,\\nbut\\nits\\napplication\\nshould\\nbe\\njust\\n-\\nthis\\nis\\nwhat'),\n",
       " Document(metadata={'source': 'Data/attention.pdf', 'page': 14}, page_content='but\\nits\\napplication\\nshould\\nbe\\njust\\n-\\nthis\\nis\\nwhat\\nwe\\nare\\nmissing\\n,\\nin\\nmy\\nopinion\\n.\\n<EOS>\\n<pad>Figure 5: Many of the attention heads exhibit behaviour that seems related to the structure of the\\nsentence. We give two such examples above, from two different heads from the encoder self-attention\\nat layer 5 of 6. The heads clearly learned to perform different tasks.\\n15')]"
      ]
     },
     "execution_count": 7,
     "metadata": {},
     "output_type": "execute_result"
    }
   ],
   "source": [
    "text_splitter = RecursiveCharacterTextSplitter(chunk_size=500,chunk_overlap=50)\n",
    "final_documnets = text_splitter.split_documents(documents_pdf)\n",
    "final_documnets\n"
   ]
  },
  {
   "cell_type": "code",
   "execution_count": 16,
   "metadata": {},
   "outputs": [
    {
     "name": "stdout",
     "output_type": "stream",
     "text": [
      "page_content='Provided proper attribution is provided, Google hereby grants permission to\n",
      "reproduce the tables and figures in this paper solely for use in journalistic or\n",
      "scholarly works.\n",
      "Attention Is All You Need\n",
      "Ashish Vaswani∗\n",
      "Google Brain\n",
      "avaswani@google.comNoam Shazeer∗\n",
      "Google Brain\n",
      "noam@google.comNiki Parmar∗\n",
      "Google Research\n",
      "nikip@google.comJakob Uszkoreit∗\n",
      "Google Research\n",
      "usz@google.com\n",
      "Llion Jones∗\n",
      "Google Research\n",
      "llion@google.comAidan N. Gomez∗ †\n",
      "University of Toronto' metadata={'source': 'Data/attention.pdf', 'page': 0}\n",
      "page_content='University of Toronto\n",
      "aidan@cs.toronto.eduŁukasz Kaiser∗\n",
      "Google Brain\n",
      "lukaszkaiser@google.com\n",
      "Illia Polosukhin∗ ‡\n",
      "illia.polosukhin@gmail.com\n",
      "Abstract\n",
      "The dominant sequence transduction models are based on complex recurrent or\n",
      "convolutional neural networks that include an encoder and a decoder. The best\n",
      "performing models also connect the encoder and decoder through an attention\n",
      "mechanism. We propose a new simple network architecture, the Transformer,' metadata={'source': 'Data/attention.pdf', 'page': 0}\n",
      "<class 'langchain_core.documents.base.Document'>\n"
     ]
    }
   ],
   "source": [
    "print(final_documnets[0])\n",
    "print(final_documnets[1])\n",
    "print(type(final_documnets[0]))"
   ]
  },
  {
   "cell_type": "code",
   "execution_count": 15,
   "metadata": {},
   "outputs": [
    {
     "name": "stdout",
     "output_type": "stream",
     "text": [
      "<class 'str'>\n",
      "page_content='The world must be made safe for democracy. Its'\n",
      "page_content='for democracy. Its peace must be planted upon the'\n",
      "<class 'langchain_core.documents.base.Document'>\n"
     ]
    }
   ],
   "source": [
    "speech = ''\n",
    "with open('Data/speech.txt') as f:\n",
    "    speech = f.read()\n",
    "    print(type(speech))\n",
    "\n",
    "text_splitter = RecursiveCharacterTextSplitter(chunk_size=50,chunk_overlap=20)\n",
    "text = text_splitter.create_documents([speech])\n",
    "print(text[0])\n",
    "print(text[1])\n",
    "print(type(text[0]))"
   ]
  },
  {
   "cell_type": "markdown",
   "metadata": {},
   "source": [
    "# 2. Split by character\n",
    "This is the simplest method. This splits based on characters (by default \"\\n\\n\") and measure chunk length by number of characters.\n",
    "\n",
    "1. How the text is split: by single character.\n",
    "2. How the chunk size is measured: by number of characters.\n"
   ]
  },
  {
   "cell_type": "code",
   "execution_count": 18,
   "metadata": {},
   "outputs": [],
   "source": [
    "from langchain_community.document_loaders import TextLoader\n",
    "from langchain_text_splitters import CharacterTextSplitter"
   ]
  },
  {
   "cell_type": "code",
   "execution_count": 19,
   "metadata": {},
   "outputs": [
    {
     "data": {
      "text/plain": [
       "[Document(metadata={'source': 'Data/speech.txt'}, page_content='The world must be made safe for democracy. Its peace must be planted upon the tested foundations of political liberty. We have no selfish ends to serve. We desire no conquest, no dominion. We seek no indemnities for ourselves, no material compensation for the sacrifices we shall freely make. We are but one of the champions of the rights of mankind. We shall be satisfied when those rights have been made as secure as the faith and the freedom of nations can make them.\\n\\nJust because we fight without rancor and without selfish object, seeking nothing for ourselves but what we shall wish to share with all free peoples, we shall, I feel confident, conduct our operations as belligerents without passion and ourselves observe with proud punctilio the principles of right and of fair play we profess to be fighting for.\\n\\n…\\n\\nIt will be all the easier for us to conduct ourselves as belligerents in a high spirit of right and fairness because we act without animus, not in enmity toward a people or with the desire to bring any injury or disadvantage upon them, but only in armed opposition to an irresponsible government which has thrown aside all considerations of humanity and of right and is running amuck. We are, let me say again, the sincere friends of the German people, and shall desire nothing so much as the early reestablishment of intimate relations of mutual advantage between us—however hard it may be for them, for the time being, to believe that this is spoken from our hearts.\\n\\nWe have borne with their present government through all these bitter months because of that friendship—exercising a patience and forbearance which would otherwise have been impossible. We shall, happily, still have an opportunity to prove that friendship in our daily attitude and actions toward the millions of men and women of German birth and native sympathy who live among us and share our life, and we shall be proud to prove it toward all who are in fact loyal to their neighbors and to the government in the hour of test. They are, most of them, as true and loyal Americans as if they had never known any other fealty or allegiance. They will be prompt to stand with us in rebuking and restraining the few who may be of a different mind and purpose. If there should be disloyalty, it will be dealt with with a firm hand of stern repression; but, if it lifts its head at all, it will lift it only here and there and without countenance except from a lawless and malignant few.\\n\\nIt is a distressing and oppressive duty, gentlemen of the Congress, which I have performed in thus addressing you. There are, it may be, many months of fiery trial and sacrifice ahead of us. It is a fearful thing to lead this great peaceful people into war, into the most terrible and disastrous of all wars, civilization itself seeming to be in the balance. But the right is more precious than peace, and we shall fight for the things which we have always carried nearest our hearts—for democracy, for the right of those who submit to authority to have a voice in their own governments, for the rights and liberties of small nations, for a universal dominion of right by such a concert of free peoples as shall bring peace and safety to all nations and make the world itself at last free.\\n\\nTo such a task we can dedicate our lives and our fortunes, everything that we are and everything that we have, with the pride of those who know that the day has come when America is privileged to spend her blood and her might for the principles that gave her birth and happiness and the peace which she has treasured. God helping her, she can do no other.')]"
      ]
     },
     "execution_count": 19,
     "metadata": {},
     "output_type": "execute_result"
    }
   ],
   "source": [
    "loader = TextLoader('Data/speech.txt')\n",
    "docs = loader.load()\n",
    "docs"
   ]
  },
  {
   "cell_type": "code",
   "execution_count": 23,
   "metadata": {},
   "outputs": [
    {
     "name": "stderr",
     "output_type": "stream",
     "text": [
      "Created a chunk of size 470, which is longer than the specified 100\n",
      "Created a chunk of size 347, which is longer than the specified 100\n",
      "Created a chunk of size 668, which is longer than the specified 100\n",
      "Created a chunk of size 982, which is longer than the specified 100\n",
      "Created a chunk of size 789, which is longer than the specified 100\n"
     ]
    },
    {
     "data": {
      "text/plain": [
       "[Document(metadata={'source': 'Data/speech.txt'}, page_content='The world must be made safe for democracy. Its peace must be planted upon the tested foundations of political liberty. We have no selfish ends to serve. We desire no conquest, no dominion. We seek no indemnities for ourselves, no material compensation for the sacrifices we shall freely make. We are but one of the champions of the rights of mankind. We shall be satisfied when those rights have been made as secure as the faith and the freedom of nations can make them.'),\n",
       " Document(metadata={'source': 'Data/speech.txt'}, page_content='Just because we fight without rancor and without selfish object, seeking nothing for ourselves but what we shall wish to share with all free peoples, we shall, I feel confident, conduct our operations as belligerents without passion and ourselves observe with proud punctilio the principles of right and of fair play we profess to be fighting for.'),\n",
       " Document(metadata={'source': 'Data/speech.txt'}, page_content='…'),\n",
       " Document(metadata={'source': 'Data/speech.txt'}, page_content='It will be all the easier for us to conduct ourselves as belligerents in a high spirit of right and fairness because we act without animus, not in enmity toward a people or with the desire to bring any injury or disadvantage upon them, but only in armed opposition to an irresponsible government which has thrown aside all considerations of humanity and of right and is running amuck. We are, let me say again, the sincere friends of the German people, and shall desire nothing so much as the early reestablishment of intimate relations of mutual advantage between us—however hard it may be for them, for the time being, to believe that this is spoken from our hearts.'),\n",
       " Document(metadata={'source': 'Data/speech.txt'}, page_content='We have borne with their present government through all these bitter months because of that friendship—exercising a patience and forbearance which would otherwise have been impossible. We shall, happily, still have an opportunity to prove that friendship in our daily attitude and actions toward the millions of men and women of German birth and native sympathy who live among us and share our life, and we shall be proud to prove it toward all who are in fact loyal to their neighbors and to the government in the hour of test. They are, most of them, as true and loyal Americans as if they had never known any other fealty or allegiance. They will be prompt to stand with us in rebuking and restraining the few who may be of a different mind and purpose. If there should be disloyalty, it will be dealt with with a firm hand of stern repression; but, if it lifts its head at all, it will lift it only here and there and without countenance except from a lawless and malignant few.'),\n",
       " Document(metadata={'source': 'Data/speech.txt'}, page_content='It is a distressing and oppressive duty, gentlemen of the Congress, which I have performed in thus addressing you. There are, it may be, many months of fiery trial and sacrifice ahead of us. It is a fearful thing to lead this great peaceful people into war, into the most terrible and disastrous of all wars, civilization itself seeming to be in the balance. But the right is more precious than peace, and we shall fight for the things which we have always carried nearest our hearts—for democracy, for the right of those who submit to authority to have a voice in their own governments, for the rights and liberties of small nations, for a universal dominion of right by such a concert of free peoples as shall bring peace and safety to all nations and make the world itself at last free.'),\n",
       " Document(metadata={'source': 'Data/speech.txt'}, page_content='To such a task we can dedicate our lives and our fortunes, everything that we are and everything that we have, with the pride of those who know that the day has come when America is privileged to spend her blood and her might for the principles that gave her birth and happiness and the peace which she has treasured. God helping her, she can do no other.')]"
      ]
     },
     "execution_count": 23,
     "metadata": {},
     "output_type": "execute_result"
    }
   ],
   "source": [
    "text_splitter = CharacterTextSplitter(separator='\\n\\n',chunk_size=100,chunk_overlap=40)\n",
    "text = text_splitter.split_documents(docs)\n",
    "text\n"
   ]
  },
  {
   "cell_type": "code",
   "execution_count": 24,
   "metadata": {},
   "outputs": [
    {
     "name": "stderr",
     "output_type": "stream",
     "text": [
      "Created a chunk of size 470, which is longer than the specified 100\n",
      "Created a chunk of size 347, which is longer than the specified 100\n",
      "Created a chunk of size 668, which is longer than the specified 100\n",
      "Created a chunk of size 982, which is longer than the specified 100\n",
      "Created a chunk of size 789, which is longer than the specified 100\n"
     ]
    },
    {
     "name": "stdout",
     "output_type": "stream",
     "text": [
      "<class 'str'>\n",
      "page_content='The world must be made safe for democracy. Its peace must be planted upon the tested foundations of political liberty. We have no selfish ends to serve. We desire no conquest, no dominion. We seek no indemnities for ourselves, no material compensation for the sacrifices we shall freely make. We are but one of the champions of the rights of mankind. We shall be satisfied when those rights have been made as secure as the faith and the freedom of nations can make them.'\n",
      "page_content='Just because we fight without rancor and without selfish object, seeking nothing for ourselves but what we shall wish to share with all free peoples, we shall, I feel confident, conduct our operations as belligerents without passion and ourselves observe with proud punctilio the principles of right and of fair play we profess to be fighting for.'\n",
      "<class 'langchain_core.documents.base.Document'>\n"
     ]
    }
   ],
   "source": [
    "speech = ''\n",
    "with open('Data/speech.txt') as f:\n",
    "    speech = f.read()\n",
    "    print(type(speech))\n",
    "\n",
    "text_splitter = CharacterTextSplitter(separator='\\n\\n',chunk_size=100,chunk_overlap=40)\n",
    "text = text_splitter.create_documents([speech])\n",
    "print(text[0])\n",
    "print(text[1])\n",
    "print(type(text[0]))"
   ]
  },
  {
   "cell_type": "markdown",
   "metadata": {},
   "source": [
    "# 3. Split by HTML header"
   ]
  },
  {
   "cell_type": "code",
   "execution_count": 25,
   "metadata": {},
   "outputs": [],
   "source": [
    "from langchain_text_splitters import HTMLHeaderTextSplitter"
   ]
  },
  {
   "cell_type": "code",
   "execution_count": 26,
   "metadata": {},
   "outputs": [],
   "source": [
    "\n",
    "html_string = \"\"\"\n",
    "<!DOCTYPE html>\n",
    "<html>\n",
    "<body>\n",
    "    <div>\n",
    "        <h1>Foo</h1>\n",
    "        <p>Some intro text about Foo.</p>\n",
    "        <div>\n",
    "            <h2>Bar main section</h2>\n",
    "            <p>Some intro text about Bar.</p>\n",
    "            <h3>Bar subsection 1</h3>\n",
    "            <p>Some text about the first subtopic of Bar.</p>\n",
    "            <h3>Bar subsection 2</h3>\n",
    "            <p>Some text about the second subtopic of Bar.</p>\n",
    "        </div>\n",
    "        <div>\n",
    "            <h2>Baz</h2>\n",
    "            <p>Some text about Baz</p>\n",
    "        </div>\n",
    "        <br>\n",
    "        <p>Some concluding text about Foo</p>\n",
    "    </div>\n",
    "</body>\n",
    "</html>\n",
    "\"\"\"\n",
    "\n",
    "headers_to_split_on = [\n",
    "    (\"h1\", \"Header 1\"),\n",
    "    (\"h2\", \"Header 2\"),\n",
    "    (\"h3\", \"Header 3\"),\n",
    "]\n",
    "\n"
   ]
  },
  {
   "cell_type": "code",
   "execution_count": 27,
   "metadata": {},
   "outputs": [
    {
     "data": {
      "text/plain": [
       "[Document(page_content='Foo'),\n",
       " Document(metadata={'Header 1': 'Foo'}, page_content='Some intro text about Foo.  \\nBar main section Bar subsection 1 Bar subsection 2'),\n",
       " Document(metadata={'Header 1': 'Foo', 'Header 2': 'Bar main section'}, page_content='Some intro text about Bar.'),\n",
       " Document(metadata={'Header 1': 'Foo', 'Header 2': 'Bar main section', 'Header 3': 'Bar subsection 1'}, page_content='Some text about the first subtopic of Bar.'),\n",
       " Document(metadata={'Header 1': 'Foo', 'Header 2': 'Bar main section', 'Header 3': 'Bar subsection 2'}, page_content='Some text about the second subtopic of Bar.'),\n",
       " Document(metadata={'Header 1': 'Foo'}, page_content='Baz'),\n",
       " Document(metadata={'Header 1': 'Foo', 'Header 2': 'Baz'}, page_content='Some text about Baz'),\n",
       " Document(metadata={'Header 1': 'Foo'}, page_content='Some concluding text about Foo')]"
      ]
     },
     "execution_count": 27,
     "metadata": {},
     "output_type": "execute_result"
    }
   ],
   "source": [
    "html_splitter = HTMLHeaderTextSplitter(headers_to_split_on=headers_to_split_on)\n",
    "html_header_splits = html_splitter.split_text(html_string)\n",
    "html_header_splits"
   ]
  },
  {
   "cell_type": "code",
   "execution_count": 35,
   "metadata": {},
   "outputs": [],
   "source": [
    "url = \"https://360digitmg.com/\"\n",
    "headers_to_split_on = [\n",
    "    (\"h1\", \"Header 1\"),\n",
    "    (\"h2\", \"Header 2\"),\n",
    "    (\"h3\", \"Header 3\"),\n",
    "]\n"
   ]
  },
  {
   "cell_type": "code",
   "execution_count": 37,
   "metadata": {},
   "outputs": [
    {
     "data": {
      "text/plain": [
       "[Document(page_content='Limited Seats Available. Call us right away!  \\nCourses  \\nCategories Objective  \\nData Science & Deep Learning Data Analytics & Business Intelligence Generative AI (Gen AI) MLOps Data Engineering & Cloud Technologies Analytics Specializations Business Corporate Training Franchise  \\nFeatured Data Science Course In India Trending Best Data Science Training in India Using Python Certification Course in Core Python Artificial Intelligence & Deep Learning Course Training  \\nCertification Courses  \\n4 Months | VILT  \\n2 Months | Hybrid  \\n2 Months | VILT  \\n2.5 Months | VILT  \\nTrending Professional Data Science & AI Course with Placement Assistance Featured Practical Data Science and Artificial Intelligence Course  \\nProfessional Courses  \\n6 Months | Hybrid  \\n12 Months | Hybrid  \\nTrending Certificate Course on Data Analytics Data Visualization using Tableau Training Data Visualisation using Power BI Training Featured Certificate Program on Business Analytics  \\nCertification Courses  \\n4 Months | Hybrid  \\n1 Month | Hybrid  \\n2 Months | Hybrid  \\n3 Months | Hybrid  \\nFeatured Professional Course in Data Analytics  \\nProfessional Courses  \\n6 Months | Hybrid  \\nAdvance Your Career with Prompt Engineering Course Trending Generative AI Certification Course Online  \\nCertification Courses  \\n2 Months | VILT  \\n2 Months | VILT  \\nTrending Generative AI and Prompt Engineering Certification Course  \\nProfessional Courses  \\n6 Months | VILT  \\nMLOps Course with Training & Job Assistance in India  \\nCertification Courses  \\n3 Months | VILT  \\nData Engineering Certificate Course India  \\nCertification Courses  \\n3 Months | VILT  \\nProfessional Course in Data Engineering  \\nProfessional Courses  \\n3 Months | VILT  \\nHealthcare Analytics Course Supply Chain Analytics Course Political Analytics Course HR Analytics Course India Marketing Analytics Training Financial Analytics Course Transit Analytics Course Forest Analytics Course Wild Life Analytics Course Agriculture Analytics Course Army Analytics Course Hospital Analytics Course Hospitality Analytics Course E-commerce Analytics Course Energy and Resource Analytics Course Oil and Gas Analytics Course Regulatory Analytics Course Security Analytics Course Trade Analytics Course Railway Analytics Course Defense Analytics Course Education Analytics Course Accounting Analytics Course Fraud Analytics Course Legal and Law Analytics Course Banking Analytics Course Insurance Analytics Course Life Science Analytics Pharma Analytics Retail Analytics Course in India Construction and Architectural Analytics Course Aviation Analytics Course Manufacturing and Automotive Analytics Course Customer Analytics Training Social Media & Web Analytics Training Data Science for Internal Auditors Cyber Security Analytics Training  \\nCertification Courses  \\n1 Month | Self-paced  \\n1 Month | Self-paced  \\n1 Month | Self-paced  \\n12 Days | Self-paced  \\n12 Days | Self-paced  \\n1 Month | Self-paced  \\n1 Month | Self-paced  \\n1 Month | Self-paced  \\n1 Month | Self-paced  \\n1 Month | Self-paced  \\n1 Month | Self-paced  \\n1 Month | Self-paced  \\n1 Month | Self-paced  \\n1 Month | Self-paced  \\n1 Month | Self-paced  \\n1 Month | Self-paced  \\n1 Month | Self-paced  \\n1 Month | Self-paced  \\n1 Month | Self-paced  \\n1 Month | Self-paced  \\n1 Month | Self-paced  \\n1 Month | Self-paced  \\n1 Month | Self-paced  \\n1 Month | Self-paced  \\n1 Month | Self-paced  \\n1 Month | Self-paced  \\n1 Month | Self-paced  \\n1 Month | Self-paced  \\n1 Month | Self-paced  \\n1 Month | Self-paced  \\n1 Month | Self-paced  \\n1 Month | Self-paced  \\n1 Month | Self-paced  \\n1 Month | Self-paced  \\n1 Month | Self-paced  \\n1 Month | Self-paced  \\n1 Month | Self-paced  \\nFor Working Professionals For Corporates For Freshers Business Corporate Training Franchise  \\nData Science Course Certificate Course on Data Analytics Certificate Program on Business Analytics Artificial Intelligence & Deep Learning Course Data Visualization using Tableau Training Data Visualisation using Power BI Training  \\nEssential Courses  \\n4 Months | Hybrid  \\n4 Months | Hybrid  \\n3 Months | Hybrid  \\n2 Months | VILT  \\n1 Month | Hybrid  \\n1 Month | Hybrid  \\nProfessional Course in Data Analytics Professional Data Science & AI Course Practical Data Science and Artificial Intelligence Course Professional Course in Data Engineering Certificate Program in MLOps Course Generative AI and Prompt Engineering Certification Course  \\nProfessional Development Courses  \\n6 Months | Hybrid  \\n6 Months | Hybrid  \\n12 Months | Hybrid  \\n3 Months | VILT  \\n3 Months | VILT  \\n6 Months | VILT  \\nHealthcare Analytics Course Supply Chain Analytics Course Political Analytics Course HR Analytics Certificate Course Marketing Analytics Training Financial Analytics Course  \\nSpeciality Courses  \\n12 Days | Self-Paced  \\n12 Days | Self-Paced  \\n12 Days | Self-Paced  \\n12 Days | Self-Paced  \\n12 Days | Self-Paced  \\n12 Days | Self-Paced  \\nCertificate Program on Business Analytics AI & Deep Learning Course Artificial Intelligence & Deep Learning Course Data Science Training Using Python Certification Course in Core Python Data Visualization using Tableau Training Data Visualisation using Power BI Training  \\nEssential Courses  \\n3 Months | Hybrid  \\n2 Months | VILT  \\n2 Months | VILT  \\n2 Months | Hybrid  \\n2 Months | VILT  \\n1 Month | Hybrid  \\n1 Month | Hybrid  \\nCertificate Course on Data Analytics Data Science Course Professional Course in Data Engineering Practical Data Science and Artificial Intelligence Course Certificate Program in MLOps Course  \\nProfessional Development Courses  \\n4 Months | Hybrid  \\n4 Months | Hybrid  \\n3 Months | VILT  \\n12 Months | Hybrid  \\n3 Months | VILT  \\nJobs Learning Resources  \\nBlog Student Login  \\nDigital Learning Library AI Design Studio for ML Data Skills Assessment Resume Optimization Hub Strategic Learning Maps Innovative Projects Animated Insights Series Discover your Dream Job  \\nLimited Seats Available. Call us right away!  \\nData Science & Deep Learning Data Analytics & Business Intelligence MLOps Data Engineering Gen AI Domain Analytics  \\n×  \\nLogin  \\nAccess your LMS Register  \\n×  \\nCongrats in choosing to up-skill for your bright career! Please share correct details.  \\nSelect Course Data Science Data Analytics Data Engineering Gen AI & Prompt Engg MLOps Other Course  \\nLeading the Future with Data Science & AI Expertise.'),\n",
       " Document(metadata={'Header 2': 'Leading the Future with Data Science & AI Expertise.'}, page_content='Over 70+ Domain-Specific Analytics Programs Since 2013.  \\nSchedule a Call  \\nPersonalize Your Learning Journey.'),\n",
       " Document(page_content='Experience Real-World Impact.'),\n",
       " Document(metadata={'Header 2': 'Experience Real-World Impact.'}, page_content='100% Practical Learning Through Live Projects.  \\nDive Into Practicality  \\nJoin Our Hands-On Projects.'),\n",
       " Document(page_content='Featured Courses'),\n",
       " Document(metadata={'Header 1': 'Featured Courses'}, page_content=\"For Working Professionals For Corporates For Freshers  \\nOur specialized programs are designed to fit seamlessly into your busy schedule while advancing your career. Delve into data science and AI through courses that emphasize practical learning and industry relevance.  \\n6 Months  \\nProfessional Course in Data Analytics  \\nMode: Hybrid  \\nKnow More >  \\n6 Months  \\nProfessional Data Science & AI Course  \\nMode: Hybrid  \\nKnow More >  \\n12 Months  \\nPractical Data Science and Artificial Intelligence Course  \\nMode: Hybrid  \\nKnow More >  \\n3 Months  \\nProfessional Course in Data Engineering  \\nMode: VILT  \\nKnow More >  \\n4 Months  \\nData Science Course  \\nMode: Hybrid  \\nKnow More >  \\n4 Months  \\nCertificate Course on Data Analytics  \\nMode: Hybrid  \\nKnow More >  \\n3 Months  \\nCertificate Program on Business Analytics  \\nMode: Hybrid  \\nKnow More >  \\n3 Months  \\nCertificate Program in MLOps Course  \\nMode: VILT  \\nKnow More >  \\n2 Months  \\nArtificial Intelligence & Deep Learning Course  \\nMode: VILT  \\nKnow More >  \\n6 Months  \\nGenerative AI and Prompt Engineering Certification Course  \\nMode: VILT  \\nKnow More >  \\n1 Month  \\nData Visualization using Tableau Training  \\nMode: Hybrid  \\nKnow More >  \\n1 Month  \\nData Visualisation using Power BI Training  \\nMode: Hybrid  \\nKnow More >  \\nEmbark on your Data Science and AI adventure with beginner-friendly programs that open doors to cutting-edge technology careers. Our courses are crafted with the ASEAN market in mind, providing the foundational skills necessary to thrive in a rapidly advancing tech landscape. Step into a world of opportunities where every lesson is a step towards future-proof expertise.  \\nEnhance your organization's capabilities with our premier Corporate Training programs in Data Science and AI. These programs empower teams with the expertise needed to innovate and excel in a competitive landscape.  \\n12 Days  \\nHealthcare Analytics Course  \\nMode: Self-Paced  \\nKnow More >  \\n12 Days  \\nSupply Chain Analytics Course  \\nMode: Self-Paced  \\nKnow More >  \\n12 Days  \\nPolitical Analytics Course  \\nMode: Self-Paced  \\nKnow More >  \\n12 Days  \\nHR Analytics Certificate Course  \\nMode: Self-Paced  \\nKnow More >  \\n12 Days  \\nMarketing Analytics Training  \\nMode: Self-Paced  \\nKnow More >  \\n12 Days  \\nFinancial Analytics Course  \\nMode: Self-Paced  \\nKnow More >  \\nStart your journey in the tech world with a strong grounding in Data Science and AI. Our beginner-focused courses combine comprehensive theoretical knowledge with hands-on projects, ensuring you step into the industry with confidence and job-ready skills.  \\n3 Months  \\nCertificate Program on Business Analytics  \\nMode: Hybrid  \\nKnow More >  \\n4 Months  \\nCertificate Course on Data Analytics  \\nMode: Hybrid  \\nKnow More >  \\n2 Months  \\nAI & Deep Learning Course  \\nMode: VILT  \\nKnow More >  \\n4 Months  \\nData Science Course  \\nMode: Hybrid  \\nKnow More >  \\n2 Months  \\nArtificial Intelligence & Deep Learning Course  \\nMode: VILT  \\nKnow More >  \\n3 Months  \\nProfessional Course in Data Engineering  \\nMode: VILT  \\nKnow More >  \\n12 Months  \\nPractical Data Science and Artificial Intelligence Course  \\nMode: Hybrid  \\nKnow More >  \\n3 Months  \\nCertificate Program in MLOps Course  \\nMode: VILT  \\nKnow More >  \\n2 Months  \\nData Science Training Using Python  \\nMode: Hybrid  \\nKnow More >  \\n2 Months  \\nCertification Course in Core Python  \\nMode: VILT  \\nKnow More >  \\n1 Month  \\nData Visualization using Tableau Training  \\nMode: Hybrid  \\nKnow More >  \\n1 Month  \\nData Visualisation using Power BI Training  \\nMode: Hybrid  \\nKnow More >  \\nExpand your horizons and global expertise with our internationally-recognized Data Science and AI programs. Designed for global exposure, these courses prepare you for an international career, offering unparalleled insights into the global market.  \\nFor Working Professionals  \\nOur specialized programs are designed to fit seamlessly into your busy schedule while advancing your career. Delve into data science and AI through courses that emphasize practical learning and industry relevance.  \\n6 Months  \\nProfessional Course in Data Analytics  \\nMode: Hybrid  \\nKnow More >  \\n6 Months  \\nProfessional Data Science & AI Course  \\nMode: Hybrid  \\nKnow More >  \\n12 Months  \\nPractical Data Science and Artificial Intelligence Course  \\nMode: Hybrid  \\nKnow More >  \\n3 Months  \\nProfessional Course in Data Engineering  \\nMode: VILT  \\nKnow More >  \\n4 Months  \\nData Science Course  \\nMode: Hybrid  \\nKnow More >  \\n4 Months  \\nCertificate Course on Data Analytics  \\nMode: Hybrid  \\nKnow More >  \\n3 Months  \\nCertificate Program on Business Analytics  \\nMode: Hybrid  \\nKnow More >  \\n3 Months  \\nCertificate Program in MLOps Course  \\nMode: VILT  \\nKnow More >  \\n2 Months  \\nArtificial Intelligence & Deep Learning Course  \\nMode: VILT  \\nKnow More >  \\n6 Months  \\nGenerative AI and Prompt Engineering Certification Course  \\nMode: VILT  \\nKnow More >  \\n1 Month  \\nData Visualization using Tableau Training  \\nMode: Hybrid  \\nKnow More >  \\n1 Month  \\nData Visualisation using Power BI Training  \\nMode: Hybrid  \\nKnow More >  \\nFor Corporates  \\nEnhance your organization's capabilities with our premier Corporate Training programs in Data Science and AI. These programs empower teams with the expertise needed to innovate and excel in a competitive landscape.  \\n12 Days  \\nHealthcare Analytics Course  \\nMode: Self-Paced  \\nKnow More >  \\n12 Days  \\nSupply Chain Analytics Course  \\nMode: Self-Paced  \\nKnow More >  \\n12 Days  \\nPolitical Analytics Course  \\nMode: Self-Paced  \\nKnow More >  \\n12 Days  \\nHR Analytics Certificate Course  \\nMode: Self-Paced  \\nKnow More >  \\n12 Days  \\nMarketing Analytics Training  \\nMode: Self-Paced  \\nKnow More >  \\n12 Days  \\nFinancial Analytics Course  \\nMode: Self-Paced  \\nKnow More >  \\nFor Freshers  \\nStart your journey in the tech world with a strong grounding in Data Science and AI. Our beginner-focused courses combine comprehensive theoretical knowledge with hands-on projects, ensuring you step into the industry with confidence and job-ready skills.  \\n3 Months  \\nCertificate Program on Business Analytics  \\nMode: Hybrid  \\nKnow More >  \\n4 Months  \\nCertificate Course on Data Analytics  \\nMode: Hybrid  \\nKnow More >  \\n2 Months  \\nAI & Deep Learning Course  \\nMode: VILT  \\nKnow More >  \\n4 Months  \\nData Science Course  \\nMode: Hybrid  \\nKnow More >  \\n2 Months  \\nArtificial Intelligence & Deep Learning Course  \\nMode: VILT  \\nKnow More >  \\n3 Months  \\nProfessional Course in Data Engineering  \\nMode: VILT  \\nKnow More >  \\n12 Months  \\nPractical Data Science and Artificial Intelligence Course  \\nMode: Hybrid  \\nKnow More >  \\n3 Months  \\nCertificate Program in MLOps Course  \\nMode: VILT  \\nKnow More >  \\n2 Months  \\nData Science Training Using Python  \\nMode: Hybrid  \\nKnow More >  \\n2 Months  \\nCertification Course in Core Python  \\nMode: VILT  \\nKnow More >  \\n1 Month  \\nData Visualization using Tableau Training  \\nMode: Hybrid  \\nKnow More >  \\n1 Month  \\nData Visualisation using Power BI Training  \\nMode: Hybrid  \\nKnow More >\"),\n",
       " Document(page_content='Why Choose Us'),\n",
       " Document(metadata={'Header 3': 'Why Choose Us'}, page_content='Discover why over 25,000 learners have chosen us for their journey in Data Science and AI. With a focus on real-world applications and a global network, our tailored learning paths not only teach-they transform careers and enhance industry connections. Experience the difference with our commitment to your success and our proven track record in professional advancement.'),\n",
       " Document(page_content='Learners Trained  \\n25,000+  \\nworldwide  \\nReal-World Projects  \\n100+  \\ncompleted  \\nGlobal Alumni in  \\n20+  \\ncountries  \\nGlobal Footprint in  \\n60+  \\ncountries  \\nEmployee Retention  \\n60%  \\nimprovement  \\nCustomized Courses  \\n1000+  \\nofferings  \\nCorporate Partners  \\n400+  \\nsatisfied clients  \\nCourse Completion  \\n>80+  \\nrate  \\nSatisfaction Rating  \\n4.8  \\n(Average)  \\nCountries Reached  \\n60+  \\nglobally  \\nSkill Improvement  \\n60%  \\n(Average)  \\nAlumni Placed  \\n600+  \\nin top companies  \\nScholarships Sponsored  \\n1000+  \\nannually  \\nResearch Impact  \\n80+  \\nprojects  \\nProfessional Network  \\n1500+  \\nconnected  \\nInterns  \\n693+  \\nopportunities  \\nDynamic Learning Experience'),\n",
       " Document(metadata={'Header 3': 'Dynamic Learning Experience'}, page_content='Immerse yourself in a learning journey tailored just for you with our state-of-the-art Interactive Learning Management System (LMS). Discover a world where learning is enhanced by technology, with interactive presentations, quizzes, and practical exercises crafted to deepen your understanding and skills.'),\n",
       " Document(page_content=\"On-Demand Exams  \\nTest your knowledge when you feel ready with our flexible exam schedules.  \\nAI-Driven Insights  \\nExperience personalized learning with Behavior Analytics and user-based reporting.  \\nDiscussion Forums  \\nCollaborate, question, and share insights with peers and experts in vibrant discussion forums.  \\nOn-Demand Exams  \\nTest your knowledge when you feel ready with our flexible exam schedules.  \\nAI-Driven Insights  \\nExperience personalized learning with Behavior Analytics and user-based reporting.  \\nDiscussion Forums  \\nCollaborate, question, and share insights with peers and experts in vibrant discussion forums.  \\nOur Alumni Network  \\nComing from an electronics background, I was unfamiliar with data science, but 360DigiTMG helped me make that transition. Starting with R and progressing to Python, I built confidence through practical training in predictive analytics and statistical modeling. My internship at AiSPRY exposed me to real business challenges and taught me the value of understanding client needs. Now, as a data scientist at PwC, I see how essential these skills are. For anyone interested in a data science career, I highly recommend 360DigiTMG. Their approach to practical learning and skill-building is unmatched.  \\nAbdul Jameel  \\nData Scientist  \\nStarting my journey with 360DigiTMG was one of the best decisions I made for my career. I began as a student, progressed into an internship, and ultimately became a trainer, managing live projects. The hands-on experience showed me that theory alone can't solve real-world problems. At 360DigiTMG, I learned the value of practical applications, which became crucial in my current role at EY. For anyone serious about data science, I can’t recommend 360DigiTMG enough it’s the place where real learning happens and where you build the confidence to take on new challenges.  \\nAnkita Yadav  \\nSr.Associate Data Analyst  \\nMy journey from a call center executive to a data scientist has been a life-changing experience, thanks to 360DigiTMG. With a Computer Science background, I initially worked in customer service but felt drawn to data science. Joining 360DigiTMG allowed me to bridge that gap, applying my knowledge to real-world projects, especially in supply chain management, which was pivotal for me. Today, I’m a data scientist at EY, and I recommend 360DigiTMG to anyone looking to break into this field. If you’re patient and committed to building your skills, each step will lead to incredible opportunities.  \\nJeeva  \\nData Scientist  \\nThree years ago, I began my data science journey with 360DigiTMG, and today, I’m a Senior at Deloitte. 360DigiTMG didn’t just provide me with technical skills they taught me to be proactive. I took charge of my career, registering on job portals, refining my skills, and aligning them with industry needs. Whenever I faced challenges, 360DigiTMG’s team offered invaluable support, helping me develop the problem-solving skills needed in my role today. If you’re considering data science, I highly recommend joining 360DigiTMG. This is the perfect place to build your skills, gain confidence, and take charge of your career.  \\nSaurav Gupta  \\nData Scientist  \\nI’m MD Abid Hussain, a proud alumnus of 360DigiTMG and currently a Data Analyst at Deloitte. My journey into data analytics began in 2019, thanks to a friend's suggestion to join 360DigiTMG. The training provided me with a solid foundation in Python, R, and machine learning algorithms. Focusing on data pre-processing and ADA techniques was crucial to my success. I wholeheartedly recommend 360DigiTMG to anyone interested in data analytics. Their supportive environment and expert mentorship significantly impacted my career, and I’m confident they will help you achieve your goals as well!  \\nMD Abid Hussain  \\nData Analyst  \\nStarting my journey at 360DigiTMG transformed my career. Transitioning from a Biotechnology background to data science was daunting, but the supportive environment and expert mentors made all the difference. The comprehensive course materials and hands-on projects solidified my understanding and prepared me for real-world challenges. Leading a team during my internship helped me develop crucial leadership skills. Today, as a Data Engineer at Deloitte, I engage with Fortune 100 clients. If you’re serious about a data science career, I wholeheartedly recommend joining 360DigiTMG. Take the leap this is where your journey to success begins!  \\nPayal  \\nData Engineer  \\nJoining 360DigiTMG was a game-changer for my career. After completing my data science course, I took part in hands-on projects, which significantly boosted my programming skills and prepared me for interviews. The proactive approach I learned there helped me secure internships before finishing the course. I encourage anyone interested in data science to join 360DigiTMG. The supportive environment, expert mentorship, and real-world experience will equip you with the tools you need to succeed.  \\nChandru  \\nData Analyst  \\nJoining 360DigiTMG for the data science course was a transformative step in my career. The hands-on projects greatly enhanced my programming skills and prepared me for job interviews. I actively pursued internships before finishing my classes, which expedited my job search. Now working at Amazon India, I highly recommend that students enroll in 360DigiTMG. It’s an engaging environment that encourages proactive learning. Take the initiative to network, reach out to HR teams, and connect with professionals online.  \\nAnubhav Raj Singh  \\nBusiness Analyst  \\nDiscovering my path in data science transformed my career. After years in administration and HR, I decided to shift my career and enrolled in a six-month data science course at 360DigiTMG. The support I received during my job search was invaluable; they helped refine my resume and guided me through the application process. Thanks to their resources, I gained hands-on experience with real-world projects, which boosted my confidence. I’m thrilled to now be an Associate Data Scientist at Wipro. I highly recommend 360DigiTMG to anyone looking to enhance their skills and succeed in this evolving field!  \\nAyesha  \\nData Scientist  \\nStarting as a PLSQL Developer, I soon realized the potential in data engineering. 360DigiTMG’s introductory Data Science and Engineering course was a turning point, helping me understand today’s data standards and the vast possibilities across data domains. The program allowed me to explore paths like NLP and Machine Learning, ultimately guiding me toward data engineering. With hands-on experience in tools like Azure, I could confidently transition to my role as a Data Engineer at Publicis Sapient. For anyone aspiring to break into data engineering, 360DigiTMG provides the perfect foundation and industry-relevant skills. Highly recommended!  \\nVybhav Uttarkar  \\nData Engineer  \\nIn recent years, I worked hard to transition into data science, balancing job demands with constant learning. With mentors like Nitin and Sharon guiding me, I gained valuable experience leading projects, aligning teams, and delivering client-focused solutions. Adapting to industry shifts, I moved from R to Python, which was essential in today’s job market. Now at TCS, I can confidently say that joining 360DigiTMG was crucial to my success. Their real-world projects and expert guidance prepare you to navigate challenges and build a strong career in this evolving field. I highly recommend it for aspiring data scientists!  \\nPradyumna K  \\nData Scientist  \\nTransitioning from electronics and communication engineering into data science was a big step, and 360DigiTMG made it possible for me. With my master’s in IT from Singapore, I had a foundation in data science, but joining 360DigiTMG took my knowledge to the next level. The practical projects and real-world examples during the course were invaluable. As a trainer with Byju’s and later at 360DigiTMG, I saw firsthand how the program equips students with essential skills in data science and machine learning. Now working with Alshaya Group, I can confidently say that 360DigiTMG is the right choice for anyone serious about breaking into the data field!  \\nRachana  \\nData Analyst  \\n360DigiTMG was instrumental in helping me transition to a data science role at Cognizant. With a background in statistics but limited programming experience, I needed a program that could bridge that gap. 360DigiTMG offered well-structured courses, industry-aligned projects, and mentorship from experienced trainers. The real-world projects, especially my internship with Innodatatics, gave me hands-on skills and insights into the end-to-end data science process, from data extraction to deployment. The program not only enhanced my technical abilities but also instilled confidence in my career. For anyone looking to break into data science, 360DigiTMG is the right choice!  \\nRamanjaneyulu  \\nProgrammer Analyst  \\nJoining 360DigiTMG was a transformative decision in my transition from nuclear physics to data analytics, ultimately leading to my current position at UL Hospitals Group. The program, guided by Mr. Srikant, provided exceptional support and resources that helped me master essential concepts. I engaged actively in classes, completed assignments on time, and utilized recorded lectures for continuous learning. The key to success in this field is consistency immerse yourself in data analytics daily, whether through videos or projects. If you're serious about a career in data analytics, I highly recommend 360DigiTMG. They truly equip you with the skills and knowledge needed for a successful future!  \\nManju Yadav  \\nData Analyst  \\nTransitioning from mechanical engineering to data science has been an incredible journey, and my experience at 360DigiTMG played a vital role in my success. The program provided me with the essential skills and knowledge needed to excel in my current position as a Senior Software Engineer at Capgemini. The hands-on training, combined with expert guidance, equipped me to tackle the challenges of the industry. I highly recommend 360DigiTMG to anyone looking to break into data science. Their support and resources are invaluable, and with dedication, you'll find opportunities to thrive in this exciting field!  \\nAyush Vohra  \\nSenior Software Engineer  \\nMy journey from a non-IT background to becoming a Senior Analyst in Data Science at Capgemini has been transformative, and 360DigiTMG has been a crucial part of that success. The training provided me with essential insights and skills, particularly the importance of domain knowledge and the value of internships. Their program not only prepared me for the technical aspects but also instilled the right mindset for growth in this competitive field. I encourage anyone aspiring to enter data science to join 360DigiTMG. The emphasis on continuous learning and motivation truly sets them apart and will empower you to thrive!  \\nEmanuel  \\nSenior Analyst in Data Science  \\nMaking the leap from a non-IT background to a Senior Consultant role at Capgemini has truly been an enriching experience, and much of that can be credited to 360DigiTMG. Their extensive training program equipped me with the vital skills and knowledge necessary for a successful career in data science. Although I encountered challenges during this transition, the guidance and resources from 360DigiTMG enabled me to overcome them. For those aspiring to enter the field of data science, I strongly recommend focusing on continuous learning and hands-on projects. Enrolling in 360DigiTMG is an excellent way to establish a strong foundation and unleash your potential in this rapidly evolving industry!  \\nHemanth YK  \\nSenior Consultant  \\nMy journey from a non-IT background to securing a role as a Gen AI Scientist at TRC has been truly transformative, and 360DigiTMG played a crucial role in this transition. Their hands-on training and real-world projects allowed me to grasp complex concepts in data science and generative AI. I faced challenges along the way, but the guidance and insights from instructors helped me overcome them. To anyone looking to break into data science, I encourage you to embrace continuous learning and practical experience. Joining 360DigiTMG is a fantastic investment in your future in this exciting and expanding field!  \\nVinay Kumar  \\nGen AI Scientist  \\nMy journey from a beginner in C programming to becoming a data scientist at HCL has been remarkable, thanks to 360DigiTMG. Their comprehensive curriculum equipped me with essential knowledge and practical skills for a successful career in data science and AI. I faced various challenges along the way, but the support and guidance from 360DigiTMG were invaluable. For aspiring data scientists, I recommend adopting continuous learning and engaging in hands-on projects. Staying updated with the latest technologies is crucial in this ever-evolving field. Joining 360DigiTMG is a great step toward unlocking your potential in data science!  \\nSukumar  \\nData Scientist  \\nJoining 360DigiTMG transformed my career from media to Data Analyst at HBC. The comprehensive training equipped me with essential data science skills and provided a strong foundation for my success. I faced challenges, but the support and knowledge from 360DigiTMG helped me overcome them. For aspiring data scientists, I recommend focusing on continuous learning and gaining project experience. Surrounding myself with positive, like-minded individuals was invaluable for my growth. If you have a curiosity for new tools and techniques, 360DigiTMG is the ideal place to launch your career in data science!  \\nAnisha Singh  \\nData Analyst  \\nMy journey from a trainee at 360DigiTMG to a Senior Consultant in Data Science at Mercedes-Benz Research and Development has been transformative. The strong foundation in data science fundamentals I gained was crucial in overcoming various challenges. Continuous learning and hands-on project experience have been vital in my career. For anyone aspiring to enter the field, I cannot stress enough the importance of coding skills, SQL proficiency, and domain knowledge. Additionally, the mentorship and support I received from 360DigiTMG were invaluable. If you're serious about data science, joining 360DigiTMG is a great step forward!  \\nSai Narasimha  \\nSenior Consultant  \\nMy transformation from a fresher at 360DigiTMG to a Senior Data Engineer at Mercedes-Benz has been remarkable. The solid foundation in data science fundamentals I gained was essential in navigating challenges along the way. For aspiring data scientists, continuous learning and hands-on projects are key. Proficiency in coding, SQL, and domain knowledge can significantly enhance job prospects. Mentorship and support from 360DigiTMG were instrumental in my success. Remember, failure is not the end but a stepping stone. Stay persistent and keep chasing your dreams joining 360DigiTMG is a fantastic start!  \\nGowtham R  \\nSenior Data Engineer  \\nJoining 360DigiTMG was a game-changer for me, transitioning from a non-IT background to becoming an Associate IT Consultant at ITC Infotech. The solid foundation I gained in data science fundamentals was crucial in overcoming the challenges I faced. For those aspiring to enter this field, I cannot stress enough the importance of continuous learning and hands-on projects. Hard work, perseverance, and smart strategies are essential for success. Stay updated with the latest technologies, and embrace every learning opportunity. I encourage you to embark on this journey 360DigiTMG can set you on the right path!  \\nSambit Kumar  \\nAssociate IT Consultant  \\nMy journey from being a new mom with a BCA background to becoming an Associate Data Scientist at ITC Infotech has been remarkable, thanks to 360DigiTMG. I faced the unique challenge of balancing motherhood with my career aspirations, but my perseverance paid off. Continuous learning and practical project experience were key to my success, along with the invaluable support of mentors. I highly recommend focusing on hands-on experience and exploring research papers to stand out in the competitive job market. For anyone looking to make a mark in data science, 360DigiTMG is the perfect starting point!  \\nVishali Karthik  \\nAssociate Data Scientist  \\nI transformed from a student to a Management Trainee AI at Linkcxo, and my journey wouldn’t have been possible without the support of 360DigiTMG. Their extensive training program laid the groundwork for my career in data science, helping me tackle the challenges along the way. The experience of completing projects and assignments on time was pivotal, and feedback from Virtual Assessors deepened my understanding. Internships offered me real-world exposure that proved invaluable. I urge aspiring data scientists to remain steadfast in their pursuits. Joining 360DigiTMG can be the key to unlocking your potential in this exciting field!  \\nNikhil Parsawar  \\nTrainee AI\"),\n",
       " Document(metadata={'Header 3': 'Our Alumni Network'}, page_content=\"Nikhil Miriyala Senior Data Scientist, HCL Technologies  \\nThe practical training and hands-on projects at 360DigiTMG made complex concepts easy to grasp. Mentor support and placement assistance enhanced my learning, setting me up for a successful data science career.  \\nSowjanya V Senior Data Scientist, Capgemini  \\nThe training at 360DigiTMG simplified complex topics, and the mentors were supportive. Hands-on projects gave real-world experience, boosting my confidence. Placement assistance helped me land a job. A great journey!  \\nThota Ramanjeyulu Programmer Analyst, Cognizant  \\n360DigiTMG's training was practical and easy to apply. Mentors ensured I grasped every concept. Hands-on projects built my skills and boosted my confidence. Placement assistance helped me reach my career goals.  \\nShubha Karnam Senior Consultant, HCL Technologies  \\nThe training at 360DigiTMG was engaging and focused on practical learning. Mentors simplified complex topics, and hands-on projects gave me real-life experience. Placement support helped me secure a job. Great experience!  \\nPrerna Pasi Trainee, Tata Consultancy Services  \\n360DigiTMG's course combined theory and practice, making learning easier. Mentors were supportive and patient. Practical assignments helped me work on real-world problems. Placement assistance helped me find a job fast.  \\nVenu Panjarla Open Data Consultant, Factly Media & Research  \\nThe course at 360DigiTMG was structured around real-world applications. Mentors made complex topics easy to understand. Hands-on projects boosted my confidence. Placement assistance helped me land a job. Wonderful experience!  \\nSonu Kiran V Data Analyst, zignaanalytics  \\n360DigiTMG’s training was practical and industry-focused. Mentors made difficult concepts easy. Hands-on projects provided needed experience. Placement support helped me with job hunting. A fantastic experience for success!  \\nShrey Soni Associate Data Engineer, Futurense  \\n360DigiTMG made learning practical and easy with real-world examples. Mentors were always ready to help. Hands-on projects gave me valuable experience, and placement support helped me find a job quickly. Excellent course!  \\nSantosh Kumar AI Engineer, Cigniti  \\n360DigiTMG provided practical training that was easy to follow. Mentors ensured I understood all concepts. Hands-on projects exposed me to real challenges, and placement support helped me secure a job. Great experience!  \\nChetan Kumar Data Science | AI Specialist, HCL Technologies  \\n360DigiTMG's course focused on practical skills with knowledgeable mentors. Real-world projects boosted my confidence, and placement support helped me get a job. It was a truly valuable and enjoyable learning experience!  \\nSaurav Gupta Developer Software Engineer, UST  \\n360DigiTMG’s training was clear and hands-on. Mentors offered valuable feedback. Real-world projects gave me practical experience, and placement support was key to securing a job. A great learning experience!  \\nPavan Kumar P Machine Learning Engineer, Namaste Credit  \\n360DigiTMG’s training was practical, making complex topics easy. Mentors were supportive, and hands-on projects gave real-world experience. Placement support guided me well, ensuring a successful career launch.  \\nPrashant M Data Scientist, Blackcoffer  \\nThe training at 360DigiTMG was simple and effective with practical examples. Mentors ensured clarity, and hands-on projects boosted my skills. Placement support helped me transition smoothly into my career.  \\nBhaskar Software Engineer, SunTec Business Solutions  \\n360DigiTMG made complex topics easy with real-world projects. Mentors provided great guidance, and hands-on learning built confidence. Placement support helped me find the right job. A valuable experience.  \\nKiran Kumar Junior Data Scientist, Wings Infonet Private Limited  \\nThe experience at 360DigiTMG combined excellent mentorship and practical learning. Hands-on projects prepared me for real challenges. Placement support was key in finding a job. A great, rewarding experience.  \\nJaya Prakash Software Engineer(ml/dl developer) , KPIT  \\n360DigiTMG’s practical approach made learning effective. Mentors explained concepts clearly, and hands-on projects built confidence. Placement support helped me secure a job. A worthwhile and career-shaping journey.  \\nAdarsh Data Scientist, Innominds  \\nLearning at 360DigiTMG was engaging with practical projects. Mentors were approachable, and real-world applications made training relevant. Placement support helped me kickstart my career. Great overall experience.  \\nMuka Lingam Data Scientist, Spotflock  \\n360DigiTMG offered a practical learning experience. Mentors simplified complex topics, and hands-on projects enhanced my skills. Placement support played a crucial role in my job search. It prepared me for the industry.  \\nSiva Kalahasti Data Scientist, A5E  \\n360DigiTMG focused on practical learning with clear explanations. Mentors helped me understand topics, and hands-on projects boosted my confidence. Placement assistance was excellent, helping me secure a job quickly.  \\nBhawna Chawla Associate Data Scientist, RoundSqr  \\nThe training at 360DigiTMG was practical and engaging. Mentors clarified concepts, and hands-on projects helped apply learning. Placement support made my job search easier. A valuable learning journey.  \\nPrakruthi Data Scientist, NVIDIA  \\nLearning was impactful with practical training at 360DigiTMG. Mentors provided great support, and hands-on projects simplified complex topics. Placement assistance was invaluable in my job search. Exactly what I needed!  \\nBibhuti Bhusan Sahu Machine learning scientist, dhiOmics Analytics Solutions  \\nLearning was easy with practical insights and real-world projects. Mentors clarified concepts, and hands-on training boosted my confidence. Placement support helped me secure a job. Great experience.  \\nRahul D Junior Data Scientist, zignaanalytics  \\nThe practical approach and supportive mentors made learning meaningful. Real-world projects built my confidence and skills. Placement support helped kickstart my career. A valuable and enriching experience.  \\nShubham Sharma Data Scientist, dhiOmics Analytics Solutions  \\nThe course balanced theory with practice. Mentors simplified complex concepts, and real-world projects made learning relevant. Placement support helped me land a job. I gained essential skills and confidence.  \\nSurya J Data Science Engineer, Walmart  \\nThe course focused on practical skills. Mentors made learning easy, and hands-on projects built my confidence. Placement support helped me find a job. It prepared me well for the future.  \\nYash Goda Search Engine Optimization Analyst, INDIAN EAGLE PRIVATE LIMITED  \\nHands-on training helped me grasp key concepts, mentors clarified topics, and real-world projects enhanced my learning. Placement assistance was invaluable. It was a great experience that set me up for success.  \\nJoshina Richard Digital Marketing Executive, Cyber Security Hive  \\nThe practical approach helped me understand key concepts. Mentors were supportive, and hands-on projects made learning fun. Placement assistance was a huge help in starting my career.  \\nSubham Kumar Associate Data Engineer, Futurense  \\nMy experience at 360DigiTMG was engaging. Mentors explained concepts simply, and hands-on projects gave real-world insights. Their support and guidance boosted my confidence for future roles.  \\nJeevan Kande Bi Analyst / Data engineer, bipp  \\n360DigiTMG made complex concepts easy through practical lessons. The project-based approach built confidence, and mentor support helped me grow. Placement assistance prepared me for real-world challenges.  \\nShivani Saxena SEO Analyst - Trainee, INDIAN EAGLE PRIVATE LIMITED  \\nAt 360DigiTMG, mentors simplified topics, and hands-on projects gave me real-world insights. I felt supported throughout, and my confidence grew, preparing me for my career journey.  \\nKarthik Kuruba Jr Data Analyst, zignaanalytics  \\n360DigiTMG’s training clarified complex topics. Hands-on projects improved my skills, and placement support was essential for success. I left with confidence and a clear vision for my career.  \\nNiharika Katipelly ML Scientist, dhiomics  \\nThe course was rewarding, with practical teaching, real-world projects, and supportive mentors. It helped me apply concepts effectively, making learning enjoyable and providing a strong foundation for my career.  \\nKiran Kumar Data Scientist , EY  \\nThe course was practical and useful. Trainers explained things clearly, and projects helped me learn more. Mentors supported me and made sure I was ready for my career.  \\nJeeva Senior Associate Data Analytics, EY  \\nLearning here was practical and engaging, with real-life examples making concepts easy to grasp. Mentors provided constant guidance, helping me develop problem-solving skills for any job.  \\nAnkita Data Analyst, EY  \\nThe learning journey was immersive. Complex topics were explained with everyday examples. Hands-on projects built my confidence, and mentors were approachable, preparing me for practical industry challenges.  \\nMeghal Aggarwal Junior Data Scientist, Deloitte  \\nFrom day one, mentors made difficult concepts manageable. Real-life projects mirrored industry challenges, and interactive sessions kept me engaged. This training provided the knowledge and confidence for new roles.  \\nSambit Kumar Associate IT Consultant, ITC Infotech  \\nThe training was engaging, simplifying complex topics with relatable examples. Real-world projects made learning practical and impactful. Mentors offered guidance, boosting confidence and ensuring understanding of key concepts.  \\nAbduljameel Shaik Data Scientist, PwC  \\nThe learning environment fostered questions and understanding. Real-world projects made theories come alive. I gained confidence with every session. This experience was invaluable for my career growth.  \\nMomin Assistant Manager - Data Science & IT, Volvo  \\nTrainers made complex topics approachable, and real-world projects enhanced my understanding. The focus on individual growth and self-paced learning had a lasting impact, providing skills that will stay with me forever.  \\nHemanth YK Senior Consultant , Capgemini  \\nReal-life examples in lessons helped me connect the dots. Collaborative projects deepened my skills. Whenever challenges arose, mentors were always there. I now feel ready for industry-specific problems.  \\nK Pradyumna Senior Associate Data Scientist, TCS  \\nThe course balanced theory with practical training. Case studies helped apply skills, and engaging sessions with mentors made learning enjoyable. This journey equipped me with skills and industry understanding.  \\nSatish K System engineer, Infosys  \\nThe learning experience focused on real-world challenges. Concepts were easy to grasp, and project work built practical knowledge. Mentors’ guidance made all the difference. I feel skilled and confident.  \\nAyesha F Associate Data Scientist, Wipro  \\nThe training was easy to follow. Hands-on projects and mentor help made learning enjoyable and prepared me for real-world work. It was a great experience that boosted my confidence.  \\nSam Christy Graduate Data Analyst, Amazon  \\nThe course was clear and practical. Group projects and mentor help made learning fun. The hands-on approach helped me understand better and prepared me for future challenges.  \\nAgnesh Wankhade Digital Specialist Engineer , Infosys  \\n360DigiTMG made difficult topics easy with real examples. Practical projects helped me learn well. The mentors were always supportive, which built my confidence for future work.  \\nAnubhav Raj Singh Business Analyst, Amazon  \\nThe course was helpful and practical. Trainers explained topics clearly, and real projects helped me apply my learning. Mentors gave great feedback and made learning enjoyable.  \\nAayush Vohra Software Engineer, Capgemini  \\n360DigiTMG gave me a strong foundation with great mentorship. Practical projects helped me understand better. The support I received helped me build confidence and gave me career clarity.  \\nVishali K Associate Data Scientist, ITC Infotech  \\nThe learning experience was hands-on and helpful. Trainers connected theory with real work, and projects helped me improve. Mentors guided me well and kept me motivated throughout.  \\nAnubhav Raj Singh Business Analyst , Amazon  \\nThe course was a good mix of theory and practice. Real examples helped me learn, and projects built my confidence. Mentors were always there to support me.  \\nBiswajit Patro Data Scientist, Annapurna Finance Pvt. Ltd.  \\n360DigiTMG provided great training with a mix of theory and practice. Real projects helped me improve, and mentors gave me support, which made me feel confident and ready.  \\nMadhusudan Reddy V Jr Data Scientist, zignaanalytics  \\nThe training was easy to follow with simple lessons. Real examples helped me understand, and projects strengthened my skills. Mentors supported me and made me feel confident.  \\nVaishali Associate Data Scientist, Tech Mahindra  \\nThe course was practical and useful. Trainers explained things clearly, and projects helped me learn more. Mentors supported me and made sure I was ready for my career.  \\nSrikanth Dasari Associate Data Scientist, AiMunshi  \\nThe course balanced theory and practice well. Real-life examples helped me understand, and projects made me feel more confident. Mentors guided me and gave me helpful advice.  \\nMonal Bhiwgade Associate Software Engineer, iSteer  \\nI had a great learning experience. Real examples and projects helped me understand concepts. Mentors were always there to support me, making me feel ready for my career.  \\nVybhav Uttarkar Data Engineer, Futurense  \\nThe course was practical and helpful. Trainers made things easy to understand, and projects built my skills. Mentors supported me throughout, making me feel confident for future work.\"),\n",
       " Document(page_content=\"Prestigious Corporate Connections  \\nAwards and Accolades  \\n2018 Gold Winner  \\nCustomer Service by Stevie Awards  \\nExemplary Customer Service in Education  \\n2020 Gold Winner  \\nCustomer Service by Stevie Awards  \\nContinued Excellence in Client Support  \\n2023 CII-Digital Transformation Award  \\nBest in Digital Transformation for AiTutor  \\n2023 Hospital Innovation Award at CAHOTECH  \\nInnovative Medical Inventory Solutions  \\n2024 Global AI Summit Award  \\nBest Use of AI in Education for AiTutor  \\nTop Data Science Training Provider by Analytics India Magazine  \\nLeading Data Science Education in India  \\nFeatured on Major Media Outlets  \\nRecognized Thought Leadership in Education  \\nIndustry Consulting Vertical  \\n360DigiTMG's consulting vertical offers a gateway to real-world applications of Data Science and AI, combining expert resources with strategic partnerships to address industry challenges. Our services provide unique opportunities for practical learning and direct industry impact.  \\nHands-on real-world projects across 72+ domains Customized pre-assessments for targeted skill development Practical experience with internships and industry collaborations 500+ corporate pre-assessments conducted 100+ projects led by interns with real industry impact  \\nNotable Projects\"),\n",
       " Document(metadata={'Header 3': 'Notable Projects'}, page_content=\"Tata Trusts  \\nData solutions reaching over 1700 villages.  \\nIBS Japan  \\nPioneering data migration and forecasting models.  \\nRela Hospital  \\nPioneering data migration and forecasting models.  \\nVolvo Trucks  \\nAI-driven initiatives revolutionizing quality control.  \\nYatra Online  \\nHR analytics driving performance enhancement.  \\nTata Trusts  \\nData solutions reaching over 1700 villages.  \\nIBS Japan  \\nPioneering data migration and forecasting models.  \\nRela Hospital  \\nPioneering data migration and forecasting models.  \\nVolvo Trucks  \\nAI-driven initiatives revolutionizing quality control.  \\nYatra Online  \\nHR analytics driving performance enhancement.  \\nThrough 360DigiTMG's Industry Consulting Vertical, learners don’t just study the market-they shape it.\"),\n",
       " Document(page_content='Take the Next Step with 360DigiTMG  \\n360DigiTMG Free Resources'),\n",
       " Document(metadata={'Header 3': '360DigiTMG Free Resources'}, page_content='Access Resources  \\nExpand Your Expertise  \\nAccess a wealth of knowledge with our free resources.'),\n",
       " Document(page_content='360DigiTMG 3E Bridge'),\n",
       " Document(metadata={'Header 3': '360DigiTMG 3E Bridge'}, page_content='Join the Bridge  \\nExperience Education to Employment  \\nBridge your learning to career with our 3E Bridge program.'),\n",
       " Document(page_content='360DigiTMG Franchise'),\n",
       " Document(metadata={'Header 3': '360DigiTMG Franchise'}, page_content='Explore Franchising  \\nEmpower Education in Your Community  \\nJoin our network to bring top-tier education to learners.'),\n",
       " Document(page_content='Talk To Career Counsellor'),\n",
       " Document(metadata={'Header 3': 'Talk To Career Counsellor'}, page_content='Coming Soon  \\nPersonalized Career Guidance  \\nGet advice tailored to your professional goals.'),\n",
       " Document(page_content='Get Quote for Enterprise'),\n",
       " Document(metadata={'Header 3': 'Get Quote for Enterprise'}, page_content='Get a Quote  \\nTailored Corporate Training Solutions  \\nCustom quotes for training solutions that fit your business needs.'),\n",
       " Document(page_content='Sign Up for Free Learning'),\n",
       " Document(metadata={'Header 3': 'Sign Up for Free Learning'}, page_content='Start for Free  \\nBegin Your Learning Journey  \\nExplore courses designed for the aspiring data scientist.'),\n",
       " Document(page_content='360DigiTMG Free Resources  \\nAccess Resources  \\nExpand Your Expertise  \\nAccess a wealth of knowledge with our free resources.  \\n360DigiTMG 3E Bridge  \\nJoin the Bridge  \\nExperience Education to Employment  \\nBridge your learning to career with our 3E Bridge program.  \\n360DigiTMG Franchise  \\nExplore Franchising  \\nEmpower Education in Your Community  \\nJoin our network to bring top-tier education to learners.  \\nTalk To Career Counsellor  \\nPersonalized Career Guidance  \\nGet advice tailored to your professional goals.  \\nGet Quote for Enterprise  \\nGet a Quote  \\nTailored Corporate Training Solutions  \\nCustom quotes for training solutions that fit your business needs.  \\nSign Up for Free Learning  \\nStart for Free  \\nBegin Your Learning Journey  \\nExplore courses designed for the aspiring data scientist.  \\nStatic World Map with Overlays  \\nBy Location By Learning Insights  \\nBy Location  \\nThis map highlights our top 10 learner locations out of the 60+ countries reached, showcasing the widespread global influence of 360DigiTMG’s educational offerings.  \\nBy Learning Insights  \\nIndustry Certifications Earned  \\n1000+  \\nCorporate Clients Trained  \\n400+  \\nHours in Pre-Assessment  \\n100+  \\nCountries Reached  \\n60+  \\nCustomized Courses  \\n50+  \\n4.8  \\nParticipant Satisfaction  \\n80%  \\nCourse Completion Rate  \\n60%  \\nImprovement Rate  \\n360DigiTMG has proven to be a leader in data science education. Their advanced training in data migration and forecasting models has equipped our team with the necessary skills to drive innovation and improve operational efficiency in the healthcare\\xa0sector.  \\nStatement by Rela Hospital  \\nWhat makes 360DigiTMG great is the team that teaches and organizes it. 360DigiTMG has an outstanding team of educators; who supported and inspired me throughout my Data Science course.  \\nThanujah Muniandy  \\n360DigiTMG Support Center'),\n",
       " Document(metadata={'Header 3': '360DigiTMG Support Center'}, page_content='1800-212-654321  \\nGet in Touch  \\nCall us for support and inquiries at any time.  \\nAvailable from Sunday - Saturday | 7:00 AM to 8:00 PM IST.  \\n*Please note all calls may be recorded for quality and training purposes.  \\n*By contacting us, you agree to our privacy policy and terms of service.  \\nenquiry@360digitmg.com  \\nWrite to Us  \\nHave questions? Our inbox is always open for you.'),\n",
       " Document(page_content=\"360DigiTMG is one of world pioneer training institutes that has trained India's leading professionals. The curriculum of each certification program is designed meticulously as per the latest market trends.  \\nContact  \\n2-56/2/19, 3rd floor, Vijaya Towers, near Meridian School, Ayyappa Society Rd, Madhapur, Hyderabad, Telangana 500081. enquiry@360digitmg.com +91-9989994319 / 1800-212-654321  \\nAbout Company  \\nContact Us Careers Internship Media Career Transition  \\nResources  \\nBlogs Mindmap Digital Book Data Science Guide Learning Resources  \\nFollow Us!  \\nTrending PG Programs  \\nPG Diploma in Data Science\\xa0 | PG Diploma in Artificial Intelligence\\xa0 | Full Stack Data Science\\xa0 | Practical Data Science  \\nProfessional Certificate Courses  \\nProfessional Data Science & AI Course\\xa0 | Professional Data Analytics Course\\xa0 | Professional Data Engineering Course\\xa0 | Generative AI & Prompt Engineering Course  \\nDomain Analytics  \\nMarketing Analytics\\xa0 | Aviation Analytics\\xa0 | Financial Analytics\\xa0 | Life Sciences and HealthCare Analytics\\xa0 | HR Analytics\\xa0 | Supply Chain Analytics\\xa0 | Customer Analytics\\xa0 | Retail Analytics\\xa0 | Construction and Architectural Analytics\\xa0 | Cyber Security Analytics\\xa0 | Data Science for Internal Auditors\\xa0 | Social Media & Web Analytics  \\nEmerging Technologies  \\nBest MLOps Course Training\\xa0 | DevOps Course Training\\xa0 | Machine Learning on AWS SageMaker\\xa0 | Machine Learning on Azure\\xa0 | Machine Learning on GCP\\xa0 | ML on Cloud & Auto ML\\xa0 | Machine Learning on AWS Cloud Training  \\nBrowse Course in Your City:  \\nData Science  \\nData Science Course in Hyderabad\\xa0 | Data Science Course in Bangalore\\xa0 | Data Science Course in Chennai\\xa0 | Data Science Course in Mumbai\\xa0 | Data Science Course in Delhi NCR\\xa0 | Data Science Course in Nagpur\\xa0 | Data Science Course in Jaipur\\xa0 | Data Science Course in Nashik\\xa0 | Data Science Course in Ahmedabad\\xa0 | Data Science Course in Patna\\xa0 | Data Science Course in Coimbatore\\xa0 | Data Science Course in Kolkata  \\nData Analytics  \\nData Analytics Course in Hyderabad\\xa0 | Data Analytics Course in Bangalore\\xa0 | Data Analytics Course in Chennai\\xa0 | Data Analytics Course in Mumbai\\xa0 | Data Analytics Course in Delhi NCR\\xa0 | Data Analytics Course in Nagpur\\xa0 | Data Analytics Course in Jaipur\\xa0 | Data Analytics Course in Nashik\\xa0 | Data Analytics Course in Ahmedabad\\xa0 | Data Analytics Course in Patna\\xa0 | Data Analytics Course in Coimbatore\\xa0 | Data Analytics Course in Kolkata  \\nBusiness Analytics  \\nBusiness Analytics Course in Hyderabad\\xa0 | Business Analytics Course in Bangalore\\xa0 | Business Analytics Course in Chennai\\xa0 | Business Analytics Course in Mumbai\\xa0 | Business Analytics Course in Delhi NCR\\xa0 | Business Analytics Course in Nagpur\\xa0 | Business Analytics Course in Jaipur\\xa0 | Business Analytics Course in Nashik\\xa0 | Business Analytics Course in Ahmedabad\\xa0 | Business Analytics Course in Patna\\xa0 | Business Analytics Course in Coimbatore\\xa0 | Business Analytics Course in Kolkata  \\nArtificial Intelligence  \\nAI Course in Hyderabad\\xa0 | AI Course in Bangalore\\xa0 | AI Course in Chennai\\xa0 | AI Course in Mumbai\\xa0 | AI Course in Delhi NCR\\xa0 | AI Course in Nagpur\\xa0 | AI Course in Jaipur\\xa0 | AI Course in Nashik\\xa0 | AI Course in Ahmedabad\\xa0 | AI Course in Patna\\xa0 | AI Course in Coimbatore\\xa0 | AI Course in Kolkata  \\nInterview Questions:  \\nData Science Interview Questions\\xa0 | Data Engineering Interview Questions\\xa0 | AI Interview Questions\\xa0 | Generative AI Interview Questions\\xa0 | Machine Learning Interview Questions\\xa0 | MLOps interview questions\\xa0 | Tableau Interview Questions\\xa0 | SQL Interview Questions  \\nDisclaimer  \\nBy visiting the website 360DigiTMG, viewing, accessing, or otherwise using any of the information collected, created, or compiled by 360DigiTMG, you agree to be bound to the terms and conditions of the company. By acknowledging these terms you are legally bound to 360DigiTMG and the use of the website shall indicate your conclusive acceptance of this agreement.  \\nTerms and Conditions\\xa0 | Privacy Policy\\xa0 | Refund Policy\\xa0 | Copyright © 360DigiTMG. All rights reserved.  \\nJumpstart 2025: Get Up to 50% Off on Course Fees! Limited Time Offer Enroll Now!  \\n×  \\nSign Up Sign In  \\nEnter OTP sent on Email\"),\n",
       " Document(metadata={'Header 3': 'Enter OTP sent on Email'}, page_content='Didn’t receive OTP? Resend'),\n",
       " Document(page_content='Enter OTP sent on Email'),\n",
       " Document(metadata={'Header 3': 'Enter OTP sent on Email'}, page_content='Didn’t receive OTP? Resend'),\n",
       " Document(page_content=\"× News & Events  \\nSent Successfully.  \\nI agree with the terms and conditions  \\nReach our Career Counsellor. We are just a click away!  \\nWant to know how our students shaped their careers! Explore our Unique Learning Resources!  \\n×  \\nLet's Connect! Please share your details here  \\nSelect Course Data Science Data Analytics Data Engineering Gen AI & Prompt Engg MLOps Other Course  \\nMessage us Call Us Write to us enquiry@360digitmg.com  \\n×  \\nFor Individuals For Corporate  \\nSelect Course Data Science Data Analytics Data Engineering Gen AI & Prompt Engg MLOps Other Course  \\nI agree with the terms and conditions  \\nSelect Course Data Science Data Analytics Data Engineering Gen AI & Prompt Engg MLOps Other Course  \\nI agree with the terms and conditions  \\n×  \\nCongrats in choosing to up-skill for your bright career! Please share correct details.  \\nSelect Course Data Science Data Analytics Data Engineering Gen AI & Prompt Engg MLOps Other Course\")]"
      ]
     },
     "execution_count": 37,
     "metadata": {},
     "output_type": "execute_result"
    }
   ],
   "source": [
    "splitter = HTMLHeaderTextSplitter(headers_to_split_on=headers_to_split_on)\n",
    "html_header_splits = splitter.split_text_from_url(url)\n",
    "html_header_splits"
   ]
  },
  {
   "cell_type": "markdown",
   "metadata": {},
   "source": [
    "# 4. Recursively split JSON\n",
    "This json splitter traverses json data depth first and builds smaller json chunks. It attempts to keep nested json objects whole but will split them if needed to keep chunks between a min_chunk_size and the max_chunk_size. If the value is not a nested json, but rather a very large string the string will not be split. If you need a hard cap on the chunk size considder following this with a Recursive Text splitter on those chunks. There is an optional pre-processing step to split lists, by first converting them to json (dict) and then splitting them as such.\n",
    "\n",
    "1. How the text is split: json value.\n",
    "2. How the chunk size is measured: by number of characters.\n"
   ]
  },
  {
   "cell_type": "code",
   "execution_count": 38,
   "metadata": {},
   "outputs": [],
   "source": [
    "import json\n",
    "\n",
    "import requests"
   ]
  },
  {
   "cell_type": "code",
   "execution_count": 39,
   "metadata": {},
   "outputs": [],
   "source": [
    "json_data = requests.get(\"https://api.smith.langchain.com/openapi.json\").json()"
   ]
  },
  {
   "cell_type": "code",
   "execution_count": 40,
   "metadata": {},
   "outputs": [],
   "source": [
    "from langchain_text_splitters import RecursiveJsonSplitter"
   ]
  },
  {
   "cell_type": "code",
   "execution_count": 42,
   "metadata": {},
   "outputs": [],
   "source": [
    "splitter = RecursiveJsonSplitter(max_chunk_size=300)\n",
    "json_chunks = splitter.split_json(json_data=json_data)"
   ]
  },
  {
   "cell_type": "code",
   "execution_count": 43,
   "metadata": {},
   "outputs": [
    {
     "name": "stdout",
     "output_type": "stream",
     "text": [
      "{'openapi': '3.1.0', 'info': {'title': 'LangSmith', 'version': '0.1.0'}, 'paths': {'/api/v1/sessions/{session_id}': {'get': {'tags': ['tracer-sessions'], 'summary': 'Read Tracer Session', 'description': 'Get a specific session.'}}}}\n",
      "{'paths': {'/api/v1/sessions/{session_id}': {'get': {'operationId': 'read_tracer_session_api_v1_sessions__session_id__get', 'security': [{'API Key': []}, {'Tenant ID': []}, {'Bearer Auth': []}]}}}}\n",
      "{'paths': {'/api/v1/sessions/{session_id}': {'get': {'parameters': [{'name': 'session_id', 'in': 'path', 'required': True, 'schema': {'type': 'string', 'format': 'uuid', 'title': 'Session Id'}}, {'name': 'include_stats', 'in': 'query', 'required': False, 'schema': {'type': 'boolean', 'default': False, 'title': 'Include Stats'}}, {'name': 'accept', 'in': 'header', 'required': False, 'schema': {'anyOf': [{'type': 'string'}, {'type': 'null'}], 'title': 'Accept'}}]}}}}\n"
     ]
    }
   ],
   "source": [
    "for chunks in json_chunks[:3]:\n",
    "    print(chunks)"
   ]
  },
  {
   "cell_type": "code",
   "execution_count": 45,
   "metadata": {},
   "outputs": [
    {
     "name": "stdout",
     "output_type": "stream",
     "text": [
      "page_content='{\"openapi\": \"3.1.0\", \"info\": {\"title\": \"LangSmith\", \"version\": \"0.1.0\"}, \"paths\": {\"/api/v1/sessions/{session_id}\": {\"get\": {\"tags\": [\"tracer-sessions\"], \"summary\": \"Read Tracer Session\", \"description\": \"Get a specific session.\"}}}}'\n",
      "page_content='{\"paths\": {\"/api/v1/sessions/{session_id}\": {\"get\": {\"operationId\": \"read_tracer_session_api_v1_sessions__session_id__get\", \"security\": [{\"API Key\": []}, {\"Tenant ID\": []}, {\"Bearer Auth\": []}]}}}}'\n",
      "page_content='{\"paths\": {\"/api/v1/sessions/{session_id}\": {\"get\": {\"parameters\": [{\"name\": \"session_id\", \"in\": \"path\", \"required\": true, \"schema\": {\"type\": \"string\", \"format\": \"uuid\", \"title\": \"Session Id\"}}, {\"name\": \"include_stats\", \"in\": \"query\", \"required\": false, \"schema\": {\"type\": \"boolean\", \"default\": false, \"title\": \"Include Stats\"}}, {\"name\": \"accept\", \"in\": \"header\", \"required\": false, \"schema\": {\"anyOf\": [{\"type\": \"string\"}, {\"type\": \"null\"}], \"title\": \"Accept\"}}]}}}}'\n"
     ]
    }
   ],
   "source": [
    "# The splitter can also output documents\n",
    "\n",
    "docs = splitter.create_documents(texts=[json_data])\n",
    "for doc in docs[:3]:\n",
    "    print(doc)"
   ]
  },
  {
   "cell_type": "code",
   "execution_count": 46,
   "metadata": {},
   "outputs": [
    {
     "name": "stdout",
     "output_type": "stream",
     "text": [
      "{\"openapi\": \"3.1.0\", \"info\": {\"title\": \"LangSmith\", \"version\": \"0.1.0\"}, \"paths\": {\"/api/v1/sessions/{session_id}\": {\"get\": {\"tags\": [\"tracer-sessions\"], \"summary\": \"Read Tracer Session\", \"description\": \"Get a specific session.\"}}}}\n",
      "{\"paths\": {\"/api/v1/sessions/{session_id}\": {\"get\": {\"operationId\": \"read_tracer_session_api_v1_sessions__session_id__get\", \"security\": [{\"API Key\": []}, {\"Tenant ID\": []}, {\"Bearer Auth\": []}]}}}}\n"
     ]
    }
   ],
   "source": [
    "# or a list of strings\n",
    "texts = splitter.split_text(json_data=json_data)\n",
    "\n",
    "print(texts[0])\n",
    "print(texts[1])"
   ]
  },
  {
   "cell_type": "markdown",
   "metadata": {},
   "source": [
    "# 5. Split by tokens\n",
    "Language models have a token limit. You should not exceed the token limit. When you split your text into chunks it is therefore a good idea to count the number of tokens. There are many tokenizers. When you count tokens in your text you should use the same tokenizer as used in the language model."
   ]
  },
  {
   "cell_type": "markdown",
   "metadata": {},
   "source": [
    "####  tiktoken\n",
    "tiktoken is a fast BPE tokenizer created by OpenAI.\n",
    "We can use it to estimate tokens used. It will probably be more accurate for the OpenAI models.\n",
    "\n",
    "How the text is split: by character passed in.\n",
    "How the chunk size is measured: by tiktoken tokenizer.\n"
   ]
  },
  {
   "cell_type": "code",
   "execution_count": 2,
   "metadata": {},
   "outputs": [
    {
     "name": "stdout",
     "output_type": "stream",
     "text": [
      "The world must be made safe for democracy. Its peace must be planted upon the tested foundations of political liberty. We have no selfish ends to serve. We desire no conquest, no dominion. We seek no indemnities for ourselves, no material compensation for the sacrifices we shall freely make. We are but one of the champions of the rights of mankind. We shall be satisfied when those rights have been made as secure as the faith and the freedom of nations can make them.\n",
      "\n",
      "Just because we fight without rancor and without selfish object, seeking nothing for ourselves but what we shall wish to share with all free peoples, we shall, I feel confident, conduct our operations as belligerents without passion and ourselves observe with proud punctilio the principles of right and of fair play we profess to be fighting for.\n",
      "\n",
      "…\n",
      "\n",
      "It will be all the easier for us to conduct ourselves as belligerents in a high spirit of right and fairness because we act without animus, not in enmity toward a people or with the desire to bring any injury or disadvantage upon them, but only in armed opposition to an irresponsible government which has thrown aside all considerations of humanity and of right and is running amuck. We are, let me say again, the sincere friends of the German people, and shall desire nothing so much as the early reestablishment of intimate relations of mutual advantage between us—however hard it may be for them, for the time being, to believe that this is spoken from our hearts.\n",
      "\n",
      "We have borne with their present government through all these bitter months because of that friendship—exercising a patience and forbearance which would otherwise have been impossible. We shall, happily, still have an opportunity to prove that friendship in our daily attitude and actions toward the millions of men and women of German birth and native sympathy who live among us and share our life, and we shall be proud to prove it toward all who are in fact loyal to their neighbors and to the government in the hour of test. They are, most of them, as true and loyal Americans as if they had never known any other fealty or allegiance. They will be prompt to stand with us in rebuking and restraining the few who may be of a different mind and purpose. If there should be disloyalty, it will be dealt with with a firm hand of stern repression; but, if it lifts its head at all, it will lift it only here and there and without countenance except from a lawless and malignant few.\n",
      "\n",
      "It is a distressing and oppressive duty, gentlemen of the Congress, which I have performed in thus addressing you. There are, it may be, many months of fiery trial and sacrifice ahead of us. It is a fearful thing to lead this great peaceful people into war, into the most terrible and disastrous of all wars, civilization itself seeming to be in the balance. But the right is more precious than peace, and we shall fight for the things which we have always carried nearest our hearts—for democracy, for the right of those who submit to authority to have a voice in their own governments, for the rights and liberties of small nations, for a universal dominion of right by such a concert of free peoples as shall bring peace and safety to all nations and make the world itself at last free.\n",
      "\n",
      "To such a task we can dedicate our lives and our fortunes, everything that we are and everything that we have, with the pride of those who know that the day has come when America is privileged to spend her blood and her might for the principles that gave her birth and happiness and the peace which she has treasured. God helping her, she can do no other.\n"
     ]
    }
   ],
   "source": [
    "speech = ''\n",
    "with open('Data/speech.txt') as f:\n",
    "    speech = f.read()\n",
    "\n",
    "print(speech)"
   ]
  },
  {
   "cell_type": "code",
   "execution_count": 49,
   "metadata": {},
   "outputs": [],
   "source": [
    "from langchain_text_splitters import CharacterTextSplitter"
   ]
  },
  {
   "cell_type": "code",
   "execution_count": 51,
   "metadata": {},
   "outputs": [
    {
     "name": "stderr",
     "output_type": "stream",
     "text": [
      "Created a chunk of size 138, which is longer than the specified 100\n",
      "Created a chunk of size 205, which is longer than the specified 100\n",
      "Created a chunk of size 160, which is longer than the specified 100\n"
     ]
    },
    {
     "name": "stdout",
     "output_type": "stream",
     "text": [
      "The world must be made safe for democracy. Its peace must be planted upon the tested foundations of political liberty. We have no selfish ends to serve. We desire no conquest, no dominion. We seek no indemnities for ourselves, no material compensation for the sacrifices we shall freely make. We are but one of the champions of the rights of mankind. We shall be satisfied when those rights have been made as secure as the faith and the freedom of nations can make them.\n"
     ]
    }
   ],
   "source": [
    "text_splitter = CharacterTextSplitter.from_tiktoken_encoder(\n",
    "    encoding_name=\"cl100k_base\", chunk_size=100, chunk_overlap=0\n",
    "\n",
    ")\n",
    "texts = text_splitter.split_text(speech)\n",
    "\n",
    "print(texts[0])\n"
   ]
  },
  {
   "cell_type": "code",
   "execution_count": 52,
   "metadata": {},
   "outputs": [],
   "source": [
    "from langchain_text_splitters import RecursiveCharacterTextSplitter\n",
    "text_splitter = RecursiveCharacterTextSplitter.from_tiktoken_encoder(\n",
    "  model_name=\"gpt-4\",\n",
    "    chunk_size=100,\n",
    "    chunk_overlap=0  \n",
    ")"
   ]
  },
  {
   "cell_type": "code",
   "execution_count": 3,
   "metadata": {},
   "outputs": [
    {
     "name": "stdout",
     "output_type": "stream",
     "text": [
      "The world must be made safe for democracy. Its\n"
     ]
    }
   ],
   "source": [
    "from langchain_text_splitters import TokenTextSplitter\n",
    "text_splitter = TokenTextSplitter(chunk_size=10, chunk_overlap=0)\n",
    "\n",
    "texts = text_splitter.split_text(speech)\n",
    "print(texts[0])"
   ]
  },
  {
   "cell_type": "markdown",
   "metadata": {},
   "source": [
    "#### spaCy\n",
    "spaCy is an open-source software library for advanced natural language processing, written in the programming languages Python and Cython.\n",
    "\n",
    "Another alternative to NLTK is to use spaCy tokenizer.\n",
    "\n",
    "How the text is split: by spaCy tokenizer.\n",
    "How the chunk size is measured: by number of characters.\n",
    "- https://spacy.io/models/en"
   ]
  },
  {
   "cell_type": "code",
   "execution_count": 4,
   "metadata": {},
   "outputs": [],
   "source": [
    "from langchain_text_splitters import SpacyTextSplitter"
   ]
  },
  {
   "cell_type": "code",
   "execution_count": 8,
   "metadata": {},
   "outputs": [
    {
     "data": {
      "text/plain": [
       "<spacy.lang.en.English at 0x7feb1b713b50>"
      ]
     },
     "execution_count": 8,
     "metadata": {},
     "output_type": "execute_result"
    }
   ],
   "source": [
    "import spacy\n",
    "spacy.load('en_core_web_sm')"
   ]
  },
  {
   "cell_type": "code",
   "execution_count": 13,
   "metadata": {},
   "outputs": [
    {
     "name": "stdout",
     "output_type": "stream",
     "text": [
      "The world must be made safe for democracy.\n",
      "\n",
      "Its peace must be planted upon the tested foundations of political liberty.\n",
      "\n",
      "We have no selfish ends to serve.\n",
      "\n",
      "We desire no conquest, no dominion.\n",
      "\n",
      "We seek no indemnities for ourselves, no material compensation for the sacrifices we shall freely make.\n",
      "\n",
      "We are but one of the champions of the rights of mankind.\n",
      "\n",
      "We shall be satisfied when those rights have been made as secure as the faith and the freedom of nations can make them.\n",
      "\n",
      "\n",
      "\n",
      "Just because we fight without rancor and without selfish object, seeking nothing for ourselves but what we shall wish to share with all free peoples, we shall, I feel confident, conduct our operations as belligerents without passion and ourselves observe with proud punctilio the principles of right and of fair play we profess to be fighting for.\n"
     ]
    }
   ],
   "source": [
    "text_splitter = SpacyTextSplitter(chunk_size=1000)\n",
    "texts = text_splitter.split_text(speech)\n",
    "print(texts[0])"
   ]
  },
  {
   "cell_type": "markdown",
   "metadata": {},
   "source": [
    "#### SentenceTransformers\n",
    "The SentenceTransformersTokenTextSplitter is a specialized text splitter for use with the sentence-transformer models. The default behaviour is to split the text into chunks that fit the token window of the sentence transformer model that you would like to use."
   ]
  },
  {
   "cell_type": "code",
   "execution_count": 15,
   "metadata": {},
   "outputs": [],
   "source": [
    "from langchain_text_splitters import SentenceTransformersTokenTextSplitter"
   ]
  },
  {
   "cell_type": "code",
   "execution_count": 19,
   "metadata": {},
   "outputs": [
    {
     "name": "stdout",
     "output_type": "stream",
     "text": [
      "the world must be made safe for democracy. its peace must be planted upon the tested foundations of political liberty. we have no selfish ends to serve. we desire no conquest, no dominion. we seek no indemnities for ourselves, no material compensation for the sacrifices we shall freely make. we are but one of the champions of the rights of mankind. we shall be satisfied when those rights have been made as secure as the faith and the freedom of nations can make them. just because we fight without rancor and without selfish object, seeking nothing for ourselves but what we shall wish to share with all free peoples, we shall, i feel confident, conduct our operations as belligerents without passion and ourselves observe with proud punctilio the principles of right and of fair play we profess to be fighting for. … it will be all the easier for us to conduct ourselves as belligerents in a high spirit of right and fairness because we act without animus, not in enmity toward a people or with the desire to bring any injury or disadvantage upon them, but only in armed opposition to an irresponsible government which has thrown aside all considerations of humanity and of right and is running amuck. we are, let me say again, the sincere friends of the german people, and shall desire nothing so much as the early reestablishment of intimate relations of mutual advantage between us — however hard it may be for them, for the time being, to believe that this is spoken from our hearts. we have borne with their present government through all these bitter months because of that friendship — exercising a patience and forbearance which would otherwise have been impossible. we shall, happily, still have an opportunity to prove that friendship in our daily attitude and actions toward the millions of men and women of german birth and native sympathy who live among us and share our life, and we shall be proud\n"
     ]
    }
   ],
   "source": [
    "splitter = SentenceTransformersTokenTextSplitter(chunk_overlap=0)\n",
    "texts = splitter.split_text(speech)\n",
    "print(texts[0])"
   ]
  },
  {
   "cell_type": "markdown",
   "metadata": {},
   "source": [
    "#### NLTK\n",
    "The Natural Language Toolkit, or more commonly NLTK, is a suite of libraries and programs for symbolic and statistical natural language processing (NLP) for English written in the Python programming language.\n",
    "\n",
    "Rather than just splitting on \"\\n\\n\", we can use NLTK to split based on NLTK tokenizers.\n",
    "\n",
    "How the text is split: by NLTK tokenizer.\n",
    "How the chunk size is measured: by number of characters."
   ]
  },
  {
   "cell_type": "code",
   "execution_count": 17,
   "metadata": {},
   "outputs": [],
   "source": [
    "from langchain_text_splitters import NLTKTextSplitter"
   ]
  },
  {
   "cell_type": "code",
   "execution_count": 20,
   "metadata": {},
   "outputs": [
    {
     "name": "stdout",
     "output_type": "stream",
     "text": [
      "The world must be made safe for democracy.\n",
      "\n",
      "Its peace must be planted upon the tested foundations of political liberty.\n",
      "\n",
      "We have no selfish ends to serve.\n",
      "\n",
      "We desire no conquest, no dominion.\n",
      "\n",
      "We seek no indemnities for ourselves, no material compensation for the sacrifices we shall freely make.\n",
      "\n",
      "We are but one of the champions of the rights of mankind.\n",
      "\n",
      "We shall be satisfied when those rights have been made as secure as the faith and the freedom of nations can make them.\n",
      "\n",
      "Just because we fight without rancor and without selfish object, seeking nothing for ourselves but what we shall wish to share with all free peoples, we shall, I feel confident, conduct our operations as belligerents without passion and ourselves observe with proud punctilio the principles of right and of fair play we profess to be fighting for.\n"
     ]
    }
   ],
   "source": [
    "text_splitter = NLTKTextSplitter(chunk_size=1000)\n",
    "texts = text_splitter.split_text(speech)\n",
    "print(texts[0])\n"
   ]
  },
  {
   "cell_type": "markdown",
   "metadata": {},
   "source": [
    "#### Hugging Face tokenizer\n",
    "Hugging Face has many tokenizers.\n",
    "\n",
    "We use Hugging Face tokenizer, the GPT2TokenizerFast to count the text length in tokens.\n",
    "\n",
    "How the text is split: by character passed in.\n",
    "How the chunk size is measured: by number of tokens calculated by the Hugging Face tokenizer.\n"
   ]
  },
  {
   "cell_type": "code",
   "execution_count": 22,
   "metadata": {},
   "outputs": [],
   "source": [
    "from transformers import GPT2TokenizerFast\n",
    "from langchain_text_splitters import CharacterTextSplitter"
   ]
  },
  {
   "cell_type": "code",
   "execution_count": 23,
   "metadata": {},
   "outputs": [],
   "source": [
    "tokenizer = GPT2TokenizerFast.from_pretrained(\"gpt2\")\n",
    "text_splitter = CharacterTextSplitter.from_huggingface_tokenizer(\n",
    "    tokenizer, chunk_size=100, chunk_overlap=0\n",
    ")"
   ]
  },
  {
   "cell_type": "code",
   "execution_count": 25,
   "metadata": {},
   "outputs": [
    {
     "name": "stderr",
     "output_type": "stream",
     "text": [
      "Created a chunk of size 137, which is longer than the specified 100\n",
      "Created a chunk of size 205, which is longer than the specified 100\n",
      "Created a chunk of size 160, which is longer than the specified 100\n"
     ]
    },
    {
     "name": "stdout",
     "output_type": "stream",
     "text": [
      "The world must be made safe for democracy. Its peace must be planted upon the tested foundations of political liberty. We have no selfish ends to serve. We desire no conquest, no dominion. We seek no indemnities for ourselves, no material compensation for the sacrifices we shall freely make. We are but one of the champions of the rights of mankind. We shall be satisfied when those rights have been made as secure as the faith and the freedom of nations can make them.\n"
     ]
    }
   ],
   "source": [
    "texts = text_splitter.split_text(speech)\n",
    "print(texts[0])"
   ]
  },
  {
   "cell_type": "code",
   "execution_count": null,
   "metadata": {},
   "outputs": [],
   "source": []
  }
 ],
 "metadata": {
  "kernelspec": {
   "display_name": "Python 3",
   "language": "python",
   "name": "python3"
  },
  "language_info": {
   "codemirror_mode": {
    "name": "ipython",
    "version": 3
   },
   "file_extension": ".py",
   "mimetype": "text/x-python",
   "name": "python",
   "nbconvert_exporter": "python",
   "pygments_lexer": "ipython3",
   "version": "3.10.14"
  }
 },
 "nbformat": 4,
 "nbformat_minor": 2
}
