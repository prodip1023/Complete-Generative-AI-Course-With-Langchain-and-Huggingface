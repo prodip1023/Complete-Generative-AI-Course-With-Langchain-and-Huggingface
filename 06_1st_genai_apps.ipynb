{
 "cells": [
  {
   "cell_type": "code",
   "execution_count": 1,
   "metadata": {},
   "outputs": [],
   "source": [
    "import os \n",
    "from dotenv import load_dotenv\n",
    "from langchain_openai import ChatOpenAI"
   ]
  },
  {
   "cell_type": "code",
   "execution_count": 2,
   "metadata": {},
   "outputs": [],
   "source": [
    "load_dotenv()\n",
    "os.environ['OPENAI_API_KEY'] = os.getenv(\"OPENAI_API_KEY\")\n",
    "os.environ['LANGCHAIN_API_KEY'] = os.getenv('LANGCHAIN_API_KEY')\n",
    "os.environ['LANGCHAIN_TRACING_V2'] = \"true\"\n",
    "os.environ['LANGCHAIN_PROJECT'] = os.getenv('LANGCHAIN_PROJECT')"
   ]
  },
  {
   "cell_type": "code",
   "execution_count": 4,
   "metadata": {},
   "outputs": [],
   "source": [
    "## Data Ingesion - from the website we need to scrape the data\n",
    "from langchain_community.document_loaders import WebBaseLoader"
   ]
  },
  {
   "cell_type": "code",
   "execution_count": 10,
   "metadata": {},
   "outputs": [
    {
     "data": {
      "text/plain": [
       "<langchain_community.document_loaders.web_base.WebBaseLoader at 0x7fc10bfc5840>"
      ]
     },
     "execution_count": 10,
     "metadata": {},
     "output_type": "execute_result"
    }
   ],
   "source": [
    "loader =WebBaseLoader(\"https://www.digitalocean.com/resources/articles/ai-customer-service\")\n",
    "loader"
   ]
  },
  {
   "cell_type": "code",
   "execution_count": 11,
   "metadata": {},
   "outputs": [
    {
     "data": {
      "text/plain": [
       "[Document(metadata={'source': 'https://www.digitalocean.com/resources/articles/ai-customer-service', 'title': 'Implementing AI in Customer Service | DigitalOcean', 'description': 'Discover how AI customer service improves user experiences with faster, smarter, and more efficient support solutions.', 'language': 'en'}, page_content='Implementing AI in Customer Service | DigitalOceanBlogDocsGet SupportContact SalesDigitalOceanProductsFeatured ProductsDropletsScalable virtual machinesKubernetesScale more effectivelyAI / MLBuild and scale AI modelsCloudwaysManaged cloud hostingApp PlatformGet apps to market fasterComputeDropletsKubernetesCPU-Optimized DropletsFunctionsApp PlatformAI / MLGPU Droplets1-Click ModelsGenAI PlatformBare Metal GPUsBackups & SnapshotsBackupsSnapshotsSnapShooterNetworkingVirtual Private Cloud (VPC)Cloud FirewallsLoad BalancersDNSDDoS ProtectionManaged DatabasesMongoDBKafkaMySQLPostgreSQLCachingOpenSearchStorageSpaces Object StorageVolume Block StorageDeveloper ToolsAPICLISupport PlansMonitoringUptimeIdentity Access ManagementCloud Website HostingCloudwaysSee all productsSolutionsAI and Machine LearningDevelop, train, and deploy AI appsGPUsGenAI Platform1-Click ModelsBlockchainInfrastructure for decentralized appsBlogs, Forums and Content WebsitesLightning-fast, reliable CMS hostingWordpressGhostMastodonData AnalyticsReal-time data processing at scaleData StreamingAdTech & MartechDeveloper ToolsDevOps and CI/CD solutionsCI/CDPrototypingDigital Marketing AgenciesPower your clients’ websites and campaignsFreelancerIT ConsultingEcommerceBuild beautiful online storefrontsDropshippingWooCommerceMagentoGame DevelopmentLow-latency multiplayer serversMinecraft HostingIOTConnect to the power of the cloudISVsStreamlined ISV application developmentSecure Web HostingPowerful protection from DDoS and morePrivate VPNStartup Cloud HostingScalable, cost-effective infrastructureSmall BusinessVideo StreamingHigh-bandwidth, low-latency deliveryWeb and Mobile AppsSimple cross-platform app hostingcPanelDockerNext.jsNode.jsWebsite HostingFast page loads and reliable site uptimeVPS HostingVirtual MachinesQuestions?Talk to an expertSee all solutionsDevelopersOur CommunityCommunity HomeDevOps and development guidesCSS-TricksAll things web designThe WaveContent to level up your business.ResourcesTutorialsQuestions and AnswersMarketplaceToolsWrite for DOnationsCloud ChatsCustomer StoriesDigitalOcean BlogPricing CalculatorGet InvolvedHatch Startup ProgramOpen Source SponsorshipsHacktoberfestDeploy 2025DO ImpactNonprofitsWavemakers ProgramDocumentationQuickstartComputeGenAI PlatformStorageManaged DatabasesContainersBillingAPI ReferencePartnersDigitalOcean Partner ProgramsBecome a PartnerPartner Services ProgramMarketplaceHatch Partner ProgramConnect with a PartnerPartner Programs ResourcesCustomer StoriesDigitalOcean Onboarding SeriesTraining for Agencies and FreelancersPrice Estimate CalculatorFeatured Partner ArticlesCloud cost optimization best practicesRead moreHow to choose a cloud providerRead moreDigitalOcean vs. AWS Lightsail: Which Cloud Platform is Right for You?Read moreQuestions?Talk to an expertNew Partnerships1-Click Models powered by Hugging FacePricingLog inSign upBlogDocsGet SupportContact SalesLog inSign uparticleImplementing AI in Customer Service<- Back to All ArticlesShareAi MlTry DigitalOcean for freeClick below to sign up and get $200 of credit to try our products over 60 days!Sign upFrom quick responses to comprehensive answers, customers hold high expectations for customer service. Any delay or miscommunication can lead to dissatisfaction, impacting their customer experience and your brand image. This need for businesses to provide high-quality service is where AI customer service can play an important role. By integrating AI-powered customer solutions, businesses can augment the efforts of human customer support agents, efficiently handling repetitive and common questions. This approach ensures that human agents are available to tackle more complex and unique customer issues, side-stepping the burnout that comes with a high-volume of unvaried tickets.\\nAccording to a 2023 survey, 73% of shoppers believe AI can positively impact the customer experience. If you’re a tech company with a known bug in your app, it can take some time before your technical team comes up with a fix. In the meantime an AI customer support chatbot can identify this common query and provide a helpful response to impacted customers, sparing human agents from the repetitive task of responding to the same issue again and again. AI customer service is not just a futuristic concept but a practical solution with countless use cases.\\nThis article delves deeper into AI customer service, exploring its capabilities and benefits, valuable AI customer service tools on the market, and best practices for building a customer service strategy at your company that leverages AI.\\nWhat is AI customer service?\\nAI customer service is a technology-driven approach to managing customer interactions, using artificial intelligence to automate and optimize the customer support process. This strategy uses machine learning, natural language processing, and other AI technologies to understand, respond to, and resolve customer inquiries.\\nBy handling routine questions and providing quick responses, AI customer service frees human agents to focus on more complex issues, ensuring a more effective and personalized customer experience.\\nAI customer service use cases\\nThere are a range of AI customer service use cases, each offering unique benefits to both businesses and customers. These applications range from direct interactions to analyzing customer feedback, improving how customers interact with your business.\\nChatbots\\nChatbots provide instant, round-the-clock responses to customer questions, reducing wait times and improving customer satisfaction when it comes to common queries. For businesses, they offer cost-effective support, enabling scalability by handling large volumes of inquiries, without hiring additional customer support agents. This improves operational efficiency and ensures a consistent level of service for customers, fostering loyalty and trust.\\nSentiment analysis\\nSentiment analysis helps businesses understand customer emotions and perceptions through their interactions. This AI technology scans customer feedback, detecting positive, negative, or neutral sentiments. For businesses, this offers valuable insights into customer satisfaction and areas for improvement, leading to informed decision-making. Customers benefit from a more empathetic, personalized service experience, as businesses can tailor their responses and services to better meet customer needs and expectations.\\nMultilingual support\\nThis feature allows AI systems to understand and respond in multiple languages, making customer support accessible to a wider customer base. Providing customer service in multiple languages enables businesses to cater to a global audience, breaking language barriers. It not only enhances customer experience by providing service in their native language but also expands the market reach for businesses.\\nSelf-service resources\\nSelf-service resources powered by AI allow customers to find solutions independently, often through FAQs, instructional content, and interactive tools. This empowers customers with immediate, anytime access to information, reducing the volume of routine inquiries for businesses. It improves customer satisfaction by providing quick and easy access to information while enabling businesses to allocate their customer service resources more efficiently.\\nRequest routing and prioritization\\nWhen your team is flooded with an endless stream of support requests, it can be difficult to know where to start. AI in request routing and prioritization helps by intelligently directing customer inquiries to the appropriate channels or agents on customer service teams, based on complexity and urgency. This streamlines the support process, ensuring that critical issues are addressed promptly. For customers, it means faster resolution of their concerns, while for businesses, it leads to improved agent efficiency and better management of customer service resources.\\nGather customer insights\\nAI can analyze vast amounts of data from customer interactions to identify patterns, preferences, and areas for improvement. This capability helps businesses tailor their products, services, and customer experiences. Customers benefit from more personalized and relevant experiences, as businesses can use these insights to improve product offerings and customer service strategies.\\nSales recommendations\\nBeyond providing customer support, AI can serve as a sales person for your business. A chatbot on your website can provide pop-up product recommendations or app upgrades to website visitors. AI can also analyze customer data and behavior to suggest relevant products or services, delivering suggestions to inboxes with marketing automation tooling. This personalized approach improves the customer shopping experience,  making it more relevant while boosting sales for businesses.\\nBenefits of AI customer service\\nAI customer service is changing the way businesses interact with their customers, offering numerous advantages that enhance both the customer experience and operational efficiency. For instance, a 2022 report found that AI-based ticket classification and the automatic routing of customer contacts to the correct agent can reduce agents’ daily workload by up to 1.2 hours. Here are five key benefits that highlight the importance of integrating AI into customer service strategies.\\n24/7 customer support\\nOne of the primary benefits of AI customer service is 24/7 support. Chatbots and automated assistants can interact with customers at any time of the day, providing immediate responses to inquiries. This continuous availability improves customer satisfaction, ensuring help is always at hand, regardless of time or time zone differences.\\nCosts\\nAI customer service reduces operational costs for businesses, allowing companies to scale support operations without having to hire more staff. By automating routine tasks and responses, companies can manage a larger volume of customer interactions with fewer staff. This efficiency cuts down on labor costs while also reducing the resources needed for training and managing a large customer service team.\\nReduces agent burnout\\nAI helps in reducing agent burnout by taking over repetitive and mundane tasks. Agents are then able to focus on more challenging and rewarding aspects of customer service, such as handling complex queries and providing personalized support. This improves job satisfaction and employee retention among customer service agents and also better quality interactions with customers, as agents are less likely to be fatigued or overwhelmed.\\nEnhanced customer experience\\nAI customer service tools can tailor interactions based on customer history and preferences, leading to a more personalized experience. This customization makes customers feel valued and understood, improving their overall experience with your brand and reducing customer churn.\\nData-driven insights\\nAI systems excel at processing and analyzing large volumes of data. This allows businesses to gain deeper insights into customer behavior and preferences, enabling them to make informed decisions about product development, marketing strategies, and overall customer service improvements. These insights are crucial for businesses looking to adapt and thrive in a competitive space.\\nChallenges of AI customer service\\nWhile AI customer service offers numerous benefits, it also presents challenges that businesses need to navigate. Understanding and addressing these potential drawbacks is critical for implementing an AI customer service strategy.\\nDifficulty with complex queries\\nAI systems can struggle with complex or nuanced customer queries, often requiring human intervention for resolution. This limitation can lead to frustration for customers expecting quick and accurate responses. It highlights the importance of integrating AI with skilled human agents to ensure comprehensive customer service.\\nImplementation\\nThe implementation of AI customer service systems can be resource-intensive, requiring significant investment in technology, training, and integration. Businesses must carefully plan and execute the deployment of these systems to ensure they align with existing processes and meet customer service objectives. It’s also crucial to manage expectations and prepare for the challenges that arise from integrating AI into existing workflows.\\nCustomer engagement\\nMaintaining personalized and empathetic customer engagement can be challenging for some AI systems. Unlike human agents, AI may not effectively handle situations that require emotional intelligence or deep understanding, potentially impacting customer satisfaction and loyalty. AI algorithms are still undergoing improvement to enhance their ability to understand and respond to emotional cues.\\nAdaptability to changes\\nAI systems need constant updates and training to keep up with changes related to your products and services. For instance, a support bot on your site needs to be fed relevant information about new product lines and recent pricing changes. This ongoing requirement for adaptability can be a challenge, especially for rapidly evolving industries, and requires a commitment to continuous learning and development of the AI system.\\nPrivacy and security concerns\\nImplementing AI in customer service raises concerns about data privacy and security. Businesses must ensure that these systems comply with data protection regulations and maintain high standards of security to protect sensitive customer information. Additionally, they must transparently communicate with customers about how their data is being used and safeguarded.\\nAI customer service tools\\nAI customer service tools leverage artificial intelligence, machine learning, and natural language processing to provide efficient and personalized customer experiences. Below are five AI customer service tools to consider, each with unique features and capabilities.\\n1. Help Scout\\nHelp Scout offers a human-centric approach to customer service, providing a unified platform for email, live chat, help centers, and more. Its standout features include AI Summarize and AI Assist, which streamline customer communication. AI Summarize offers concise summaries of email threads, aiding in understanding customer contexts quickly. AI Assist helps polish replies, ensuring they align with the brand’s tone. These tools assist in both customer-facing and internal support functions, improving overall support quality\\u200b\\u200b.\\n2. Gorgias\\nGorgias is an all-in-one customer service automation platform designed specifically for e-commerce. It handles customer inquiries through various channels like email, live chat, and social media from a single dashboard. The integration with platforms like Shopify, Magento, and BigCommerce streamlines viewing order details and managing refunds or cancellations. Gorgias employs a range of AI features, to support both customer agents and customers—from AI-powered auto responders and AI spam ticket detection to AI article recommendations and ticket prioritization.\\n3. Zendesk Advanced AI\\nZendesk Advanced AI is an add-on for the Zendesk Suite, enhancing customer service with a set of AI tools. It includes features like Intelligent Triage, Advanced Bots, AI-powered intents for bots, Intelligence in the Context Panel, and Macro Suggestions for Admins. These features enable automated request classification, efficient agent assistance, and improved customer interaction, reducing agent onboarding time and increasing cost savings. Zendesk Advanced AI is designed to streamline the customer service process, making it more efficient and effective for businesses.\\n4. Freddy AI by Freshdesk\\nFreddy AI by Freshdesk enhances customer service efficiency by offering a suite of tools designed to streamline ticket handling and response processes. Its capabilities include an Assist Bot that automates conversational flows and immediate responses, Auto Triage for efficient ticket categorization, and automated suggestions for solution articles and pre-made responses. Additionally, it features a Thank You Detector to distinguish between actual queries and expressions of gratitude, optimizing ticket management.\\n5. Kustomer\\nKustomer  is an AI-powered customer service CRM platform that offers a range of features to improve customer support. It includes a Chatbot Superbot for scalable, code-free support and personalized customer experiences. The platform supports customer understanding with a unified view across all channels, delivering hyper-personalized service. Additionally, it leverages data-driven support to anticipate and address customer needs proactively, minimizing inbound support volume.\\nHow to build an AI customer service strategy\\nDeveloping an AI customer service strategy should be a consideration for businesses looking to improve efficiency and heighten customer satisfaction. This strategy should focus on integrating AI tools effectively, while ensuring they align with business goals and customer needs. Here are a few steps to get you started:\\n1. Assess current customer service capabilities\\nIntegrating AI in business should be approached with intention. Begin by thoroughly evaluating your existing customer service processes. Identify pain points, areas that require faster response times, or where query volumes overwhelm staff. This assessment will help pinpoint where AI can be most beneficial, setting a foundation for your AI strategy. Consider both the strengths and weaknesses of your current system.\\n2. Define specific goals and objectives\\nSet clear, measurable OKRs for your AI implementation. These might include goals like reducing average response times, increasing first-contact resolution rates, or improving overall customer satisfaction scores. Having specific targets helps in choosing the right AI tools and measuring their impact effectively. Ensure these objectives align with your broader business goals for a cohesive strategy.\\n3. Choose the right AI tools\\nSelect AI business tools that align with your identified needs and objectives. This could range from chatbots for handling routine inquiries to AI systems for sentiment analysis and customer behavior prediction. Ensure the tools are scalable and adaptable to changing business needs. Also, consider the pricing, long-term viability, and support for these tools.\\n4. Integrate with existing systems\\nEnsure that the chosen AI tools can seamlessly integrate with your existing customer service software, CRM systems, and data analytics platforms. Smooth integration is crucial for maintaining data consistency and providing a unified customer experience. Evaluate the compatibility of these tools with your current infrastructure to avoid integration issues.\\n5. Train your team\\nProvide comprehensive training for your customer service team on the new AI tools. This should include how to use the AI systems effectively, understanding their limitations, and knowing when to escalate issues to human agents. Continuous training and updates are essential as AI technologies and capabilities evolve.\\n6. Ensure compliance and privacy\\nMaintain strict compliance with data protection and privacy regulations. Ensure that the AI tools are configured to handle and store customer data securely, respecting privacy laws and maintaining customer trust. Regularly review and update your privacy policies and practices in line with evolving regulations.\\n7. Evaluate and adjust strategy regularly\\nRegularly review the performance of your AI customer service strategy. Use metrics and feedback to assess whether the AI implementations are meeting your set objectives. Be prepared to make adjustments based on performance data and evolving customer needs. This ongoing evaluation will help ensure the strategy remains effective and relevant.\\nAccelerate your AI projects with DigitalOcean GPU Droplets\\nUnlock the power of NVIDIA H100 GPUs for your AI and machine learning projects. DigitalOcean GPU Droplets offer on-demand access to high-performance computing resources, enabling developers, startups, and innovators to train models, process large datasets, and scale AI projects without complexity or large upfront investments\\n\\nView YouTube video\\n\\nKey features:\\n\\n\\nPowered by NVIDIA H100 GPUs with 640 Tensor Cores and 128 Ray Tracing Cores\\n\\n\\nFlexible configurations from single-GPU to 8-GPU setups\\n\\n\\nPre-installed Python and Deep Learning software packages\\n\\n\\nHigh-performance local boot and scratch disks included\\n\\n\\nSign up today and unlock the possibilities of GPU Droplets. For custom solutions, larger GPU allocations, or reserved instances, contact our sales team to learn how DigitalOcean can power your most demanding AI/ML workloads.\\nShareAi MlTry DigitalOcean for freeClick below to sign up and get $200 of credit to try our products over 60 days!Sign upRelated ResourcesArticlesHow to Learn AI in 2025: A Guide for BeginnersRead moreArticlesWhat is Adversarial Machine Learning?Read moreArticles10 Best AI Conferences to Attend in 2025Read moreGet started for freeSign up and get $200 in credit for your first 60 days with DigitalOcean.*Get started*This promotional offer applies to new accounts only.CompanyAboutLeadershipBlogCareersCustomersPartnersReferral ProgramAffiliate ProgramPressLegalPrivacy PolicySecurityInvestor RelationsDO ImpactNonprofitsProductsOverviewDropletsKubernetesFunctionsApp PlatformGPU Droplets1-Click ModelsGenAI PlatformBare Metal GPUsLoad BalancersManaged DatabasesSpacesBlock StorageAPIUptimeIdentity Access ManagementCloudwaysResourcesCommunity TutorialsCommunity Q&ACSS-TricksWrite for DOnationsCurrents ResearchHatch Startup ProgramWavemakers ProgramCompass CouncilOpen SourceNewsletter SignupMarketplacePricingPricing CalculatorDocumentationRelease NotesCode of ConductShop SwagSolutionsWebsite HostingVPS HostingWeb & Mobile AppsGame DevelopmentStreamingVPNSaaS PlatformsCloud Hosting for BlockchainStartup ResourcesContactSupportSalesReport AbuseSystem StatusShare your ideasCompanyAboutLeadershipBlogCareersCustomersPartnersReferral ProgramAffiliate ProgramPressLegalPrivacy PolicySecurityInvestor RelationsDO ImpactNonprofitsProductsOverviewDropletsKubernetesFunctionsApp PlatformGPU Droplets1-Click ModelsGenAI PlatformBare Metal GPUsLoad BalancersManaged DatabasesSpacesBlock StorageAPIUptimeIdentity Access ManagementCloudwaysResourcesCommunity TutorialsCommunity Q&ACSS-TricksWrite for DOnationsCurrents ResearchHatch Startup ProgramWavemakers ProgramCompass CouncilOpen SourceNewsletter SignupMarketplacePricingPricing CalculatorDocumentationRelease NotesCode of ConductShop SwagSolutionsWebsite HostingVPS HostingWeb & Mobile AppsGame DevelopmentStreamingVPNSaaS PlatformsCloud Hosting for BlockchainStartup ResourcesContactSupportSalesReport AbuseSystem StatusShare your ideas© 2025 DigitalOcean, LLC.Sitemap.')]"
      ]
     },
     "execution_count": 11,
     "metadata": {},
     "output_type": "execute_result"
    }
   ],
   "source": [
    "docs = loader.load()\n",
    "docs"
   ]
  },
  {
   "cell_type": "code",
   "execution_count": 12,
   "metadata": {},
   "outputs": [],
   "source": [
    "# Load data -> docs -> Divide our text into chunks -> text -> vectors-> vector Embeddings -> Vector Store\n",
    "from langchain_text_splitters import RecursiveCharacterTextSplitter"
   ]
  },
  {
   "cell_type": "code",
   "execution_count": 15,
   "metadata": {},
   "outputs": [
    {
     "data": {
      "text/plain": [
       "[Document(metadata={'source': 'https://www.digitalocean.com/resources/articles/ai-customer-service', 'title': 'Implementing AI in Customer Service | DigitalOcean', 'description': 'Discover how AI customer service improves user experiences with faster, smarter, and more efficient support solutions.', 'language': 'en'}, page_content='Implementing AI in Customer Service | DigitalOceanBlogDocsGet SupportContact SalesDigitalOceanProductsFeatured ProductsDropletsScalable virtual machinesKubernetesScale more effectivelyAI / MLBuild and scale AI modelsCloudwaysManaged cloud hostingApp PlatformGet apps to market fasterComputeDropletsKubernetesCPU-Optimized DropletsFunctionsApp PlatformAI / MLGPU Droplets1-Click ModelsGenAI PlatformBare Metal GPUsBackups & SnapshotsBackupsSnapshotsSnapShooterNetworkingVirtual Private Cloud (VPC)Cloud FirewallsLoad BalancersDNSDDoS ProtectionManaged DatabasesMongoDBKafkaMySQLPostgreSQLCachingOpenSearchStorageSpaces Object StorageVolume Block StorageDeveloper ToolsAPICLISupport PlansMonitoringUptimeIdentity Access ManagementCloud Website HostingCloudwaysSee all productsSolutionsAI and Machine LearningDevelop, train, and deploy AI appsGPUsGenAI Platform1-Click ModelsBlockchainInfrastructure for decentralized appsBlogs, Forums and Content WebsitesLightning-fast, reliable CMS'),\n",
       " Document(metadata={'source': 'https://www.digitalocean.com/resources/articles/ai-customer-service', 'title': 'Implementing AI in Customer Service | DigitalOcean', 'description': 'Discover how AI customer service improves user experiences with faster, smarter, and more efficient support solutions.', 'language': 'en'}, page_content='and Machine LearningDevelop, train, and deploy AI appsGPUsGenAI Platform1-Click ModelsBlockchainInfrastructure for decentralized appsBlogs, Forums and Content WebsitesLightning-fast, reliable CMS hostingWordpressGhostMastodonData AnalyticsReal-time data processing at scaleData StreamingAdTech & MartechDeveloper ToolsDevOps and CI/CD solutionsCI/CDPrototypingDigital Marketing AgenciesPower your clients’ websites and campaignsFreelancerIT ConsultingEcommerceBuild beautiful online storefrontsDropshippingWooCommerceMagentoGame DevelopmentLow-latency multiplayer serversMinecraft HostingIOTConnect to the power of the cloudISVsStreamlined ISV application developmentSecure Web HostingPowerful protection from DDoS and morePrivate VPNStartup Cloud HostingScalable, cost-effective infrastructureSmall BusinessVideo StreamingHigh-bandwidth, low-latency deliveryWeb and Mobile AppsSimple cross-platform app hostingcPanelDockerNext.jsNode.jsWebsite HostingFast page loads and reliable site uptimeVPS'),\n",
       " Document(metadata={'source': 'https://www.digitalocean.com/resources/articles/ai-customer-service', 'title': 'Implementing AI in Customer Service | DigitalOcean', 'description': 'Discover how AI customer service improves user experiences with faster, smarter, and more efficient support solutions.', 'language': 'en'}, page_content='BusinessVideo StreamingHigh-bandwidth, low-latency deliveryWeb and Mobile AppsSimple cross-platform app hostingcPanelDockerNext.jsNode.jsWebsite HostingFast page loads and reliable site uptimeVPS HostingVirtual MachinesQuestions?Talk to an expertSee all solutionsDevelopersOur CommunityCommunity HomeDevOps and development guidesCSS-TricksAll things web designThe WaveContent to level up your business.ResourcesTutorialsQuestions and AnswersMarketplaceToolsWrite for DOnationsCloud ChatsCustomer StoriesDigitalOcean BlogPricing CalculatorGet InvolvedHatch Startup ProgramOpen Source SponsorshipsHacktoberfestDeploy 2025DO ImpactNonprofitsWavemakers ProgramDocumentationQuickstartComputeGenAI PlatformStorageManaged DatabasesContainersBillingAPI ReferencePartnersDigitalOcean Partner ProgramsBecome a PartnerPartner Services ProgramMarketplaceHatch Partner ProgramConnect with a PartnerPartner Programs ResourcesCustomer StoriesDigitalOcean Onboarding SeriesTraining for Agencies and FreelancersPrice'),\n",
       " Document(metadata={'source': 'https://www.digitalocean.com/resources/articles/ai-customer-service', 'title': 'Implementing AI in Customer Service | DigitalOcean', 'description': 'Discover how AI customer service improves user experiences with faster, smarter, and more efficient support solutions.', 'language': 'en'}, page_content='PartnerPartner Services ProgramMarketplaceHatch Partner ProgramConnect with a PartnerPartner Programs ResourcesCustomer StoriesDigitalOcean Onboarding SeriesTraining for Agencies and FreelancersPrice Estimate CalculatorFeatured Partner ArticlesCloud cost optimization best practicesRead moreHow to choose a cloud providerRead moreDigitalOcean vs. AWS Lightsail: Which Cloud Platform is Right for You?Read moreQuestions?Talk to an expertNew Partnerships1-Click Models powered by Hugging FacePricingLog inSign upBlogDocsGet SupportContact SalesLog inSign uparticleImplementing AI in Customer Service<- Back to All ArticlesShareAi MlTry DigitalOcean for freeClick below to sign up and get $200 of credit to try our products over 60 days!Sign upFrom quick responses to comprehensive answers, customers hold high expectations for customer service. Any delay or miscommunication can lead to dissatisfaction, impacting their customer experience and your brand image. This need for businesses to provide'),\n",
       " Document(metadata={'source': 'https://www.digitalocean.com/resources/articles/ai-customer-service', 'title': 'Implementing AI in Customer Service | DigitalOcean', 'description': 'Discover how AI customer service improves user experiences with faster, smarter, and more efficient support solutions.', 'language': 'en'}, page_content='hold high expectations for customer service. Any delay or miscommunication can lead to dissatisfaction, impacting their customer experience and your brand image. This need for businesses to provide high-quality service is where AI customer service can play an important role. By integrating AI-powered customer solutions, businesses can augment the efforts of human customer support agents, efficiently handling repetitive and common questions. This approach ensures that human agents are available to tackle more complex and unique customer issues, side-stepping the burnout that comes with a high-volume of unvaried tickets.'),\n",
       " Document(metadata={'source': 'https://www.digitalocean.com/resources/articles/ai-customer-service', 'title': 'Implementing AI in Customer Service | DigitalOcean', 'description': 'Discover how AI customer service improves user experiences with faster, smarter, and more efficient support solutions.', 'language': 'en'}, page_content='According to a 2023 survey, 73% of shoppers believe AI can positively impact the customer experience. If you’re a tech company with a known bug in your app, it can take some time before your technical team comes up with a fix. In the meantime an AI customer support chatbot can identify this common query and provide a helpful response to impacted customers, sparing human agents from the repetitive task of responding to the same issue again and again. AI customer service is not just a futuristic concept but a practical solution with countless use cases.\\nThis article delves deeper into AI customer service, exploring its capabilities and benefits, valuable AI customer service tools on the market, and best practices for building a customer service strategy at your company that leverages AI.\\nWhat is AI customer service?'),\n",
       " Document(metadata={'source': 'https://www.digitalocean.com/resources/articles/ai-customer-service', 'title': 'Implementing AI in Customer Service | DigitalOcean', 'description': 'Discover how AI customer service improves user experiences with faster, smarter, and more efficient support solutions.', 'language': 'en'}, page_content='What is AI customer service?\\nAI customer service is a technology-driven approach to managing customer interactions, using artificial intelligence to automate and optimize the customer support process. This strategy uses machine learning, natural language processing, and other AI technologies to understand, respond to, and resolve customer inquiries.\\nBy handling routine questions and providing quick responses, AI customer service frees human agents to focus on more complex issues, ensuring a more effective and personalized customer experience.\\nAI customer service use cases\\nThere are a range of AI customer service use cases, each offering unique benefits to both businesses and customers. These applications range from direct interactions to analyzing customer feedback, improving how customers interact with your business.\\nChatbots'),\n",
       " Document(metadata={'source': 'https://www.digitalocean.com/resources/articles/ai-customer-service', 'title': 'Implementing AI in Customer Service | DigitalOcean', 'description': 'Discover how AI customer service improves user experiences with faster, smarter, and more efficient support solutions.', 'language': 'en'}, page_content='Chatbots\\nChatbots provide instant, round-the-clock responses to customer questions, reducing wait times and improving customer satisfaction when it comes to common queries. For businesses, they offer cost-effective support, enabling scalability by handling large volumes of inquiries, without hiring additional customer support agents. This improves operational efficiency and ensures a consistent level of service for customers, fostering loyalty and trust.\\nSentiment analysis\\nSentiment analysis helps businesses understand customer emotions and perceptions through their interactions. This AI technology scans customer feedback, detecting positive, negative, or neutral sentiments. For businesses, this offers valuable insights into customer satisfaction and areas for improvement, leading to informed decision-making. Customers benefit from a more empathetic, personalized service experience, as businesses can tailor their responses and services to better meet customer needs and expectations.'),\n",
       " Document(metadata={'source': 'https://www.digitalocean.com/resources/articles/ai-customer-service', 'title': 'Implementing AI in Customer Service | DigitalOcean', 'description': 'Discover how AI customer service improves user experiences with faster, smarter, and more efficient support solutions.', 'language': 'en'}, page_content='Multilingual support\\nThis feature allows AI systems to understand and respond in multiple languages, making customer support accessible to a wider customer base. Providing customer service in multiple languages enables businesses to cater to a global audience, breaking language barriers. It not only enhances customer experience by providing service in their native language but also expands the market reach for businesses.\\nSelf-service resources\\nSelf-service resources powered by AI allow customers to find solutions independently, often through FAQs, instructional content, and interactive tools. This empowers customers with immediate, anytime access to information, reducing the volume of routine inquiries for businesses. It improves customer satisfaction by providing quick and easy access to information while enabling businesses to allocate their customer service resources more efficiently.\\nRequest routing and prioritization'),\n",
       " Document(metadata={'source': 'https://www.digitalocean.com/resources/articles/ai-customer-service', 'title': 'Implementing AI in Customer Service | DigitalOcean', 'description': 'Discover how AI customer service improves user experiences with faster, smarter, and more efficient support solutions.', 'language': 'en'}, page_content='Request routing and prioritization\\nWhen your team is flooded with an endless stream of support requests, it can be difficult to know where to start. AI in request routing and prioritization helps by intelligently directing customer inquiries to the appropriate channels or agents on customer service teams, based on complexity and urgency. This streamlines the support process, ensuring that critical issues are addressed promptly. For customers, it means faster resolution of their concerns, while for businesses, it leads to improved agent efficiency and better management of customer service resources.\\nGather customer insights'),\n",
       " Document(metadata={'source': 'https://www.digitalocean.com/resources/articles/ai-customer-service', 'title': 'Implementing AI in Customer Service | DigitalOcean', 'description': 'Discover how AI customer service improves user experiences with faster, smarter, and more efficient support solutions.', 'language': 'en'}, page_content='Gather customer insights\\nAI can analyze vast amounts of data from customer interactions to identify patterns, preferences, and areas for improvement. This capability helps businesses tailor their products, services, and customer experiences. Customers benefit from more personalized and relevant experiences, as businesses can use these insights to improve product offerings and customer service strategies.\\nSales recommendations\\nBeyond providing customer support, AI can serve as a sales person for your business. A chatbot on your website can provide pop-up product recommendations or app upgrades to website visitors. AI can also analyze customer data and behavior to suggest relevant products or services, delivering suggestions to inboxes with marketing automation tooling. This personalized approach improves the customer shopping experience,  making it more relevant while boosting sales for businesses.\\nBenefits of AI customer service'),\n",
       " Document(metadata={'source': 'https://www.digitalocean.com/resources/articles/ai-customer-service', 'title': 'Implementing AI in Customer Service | DigitalOcean', 'description': 'Discover how AI customer service improves user experiences with faster, smarter, and more efficient support solutions.', 'language': 'en'}, page_content='Benefits of AI customer service\\nAI customer service is changing the way businesses interact with their customers, offering numerous advantages that enhance both the customer experience and operational efficiency. For instance, a 2022 report found that AI-based ticket classification and the automatic routing of customer contacts to the correct agent can reduce agents’ daily workload by up to 1.2 hours. Here are five key benefits that highlight the importance of integrating AI into customer service strategies.\\n24/7 customer support\\nOne of the primary benefits of AI customer service is 24/7 support. Chatbots and automated assistants can interact with customers at any time of the day, providing immediate responses to inquiries. This continuous availability improves customer satisfaction, ensuring help is always at hand, regardless of time or time zone differences.\\nCosts'),\n",
       " Document(metadata={'source': 'https://www.digitalocean.com/resources/articles/ai-customer-service', 'title': 'Implementing AI in Customer Service | DigitalOcean', 'description': 'Discover how AI customer service improves user experiences with faster, smarter, and more efficient support solutions.', 'language': 'en'}, page_content='Costs\\nAI customer service reduces operational costs for businesses, allowing companies to scale support operations without having to hire more staff. By automating routine tasks and responses, companies can manage a larger volume of customer interactions with fewer staff. This efficiency cuts down on labor costs while also reducing the resources needed for training and managing a large customer service team.\\nReduces agent burnout\\nAI helps in reducing agent burnout by taking over repetitive and mundane tasks. Agents are then able to focus on more challenging and rewarding aspects of customer service, such as handling complex queries and providing personalized support. This improves job satisfaction and employee retention among customer service agents and also better quality interactions with customers, as agents are less likely to be fatigued or overwhelmed.\\nEnhanced customer experience'),\n",
       " Document(metadata={'source': 'https://www.digitalocean.com/resources/articles/ai-customer-service', 'title': 'Implementing AI in Customer Service | DigitalOcean', 'description': 'Discover how AI customer service improves user experiences with faster, smarter, and more efficient support solutions.', 'language': 'en'}, page_content='Enhanced customer experience\\nAI customer service tools can tailor interactions based on customer history and preferences, leading to a more personalized experience. This customization makes customers feel valued and understood, improving their overall experience with your brand and reducing customer churn.\\nData-driven insights\\nAI systems excel at processing and analyzing large volumes of data. This allows businesses to gain deeper insights into customer behavior and preferences, enabling them to make informed decisions about product development, marketing strategies, and overall customer service improvements. These insights are crucial for businesses looking to adapt and thrive in a competitive space.\\nChallenges of AI customer service\\nWhile AI customer service offers numerous benefits, it also presents challenges that businesses need to navigate. Understanding and addressing these potential drawbacks is critical for implementing an AI customer service strategy.'),\n",
       " Document(metadata={'source': 'https://www.digitalocean.com/resources/articles/ai-customer-service', 'title': 'Implementing AI in Customer Service | DigitalOcean', 'description': 'Discover how AI customer service improves user experiences with faster, smarter, and more efficient support solutions.', 'language': 'en'}, page_content='Difficulty with complex queries\\nAI systems can struggle with complex or nuanced customer queries, often requiring human intervention for resolution. This limitation can lead to frustration for customers expecting quick and accurate responses. It highlights the importance of integrating AI with skilled human agents to ensure comprehensive customer service.\\nImplementation\\nThe implementation of AI customer service systems can be resource-intensive, requiring significant investment in technology, training, and integration. Businesses must carefully plan and execute the deployment of these systems to ensure they align with existing processes and meet customer service objectives. It’s also crucial to manage expectations and prepare for the challenges that arise from integrating AI into existing workflows.\\nCustomer engagement'),\n",
       " Document(metadata={'source': 'https://www.digitalocean.com/resources/articles/ai-customer-service', 'title': 'Implementing AI in Customer Service | DigitalOcean', 'description': 'Discover how AI customer service improves user experiences with faster, smarter, and more efficient support solutions.', 'language': 'en'}, page_content='Customer engagement\\nMaintaining personalized and empathetic customer engagement can be challenging for some AI systems. Unlike human agents, AI may not effectively handle situations that require emotional intelligence or deep understanding, potentially impacting customer satisfaction and loyalty. AI algorithms are still undergoing improvement to enhance their ability to understand and respond to emotional cues.\\nAdaptability to changes\\nAI systems need constant updates and training to keep up with changes related to your products and services. For instance, a support bot on your site needs to be fed relevant information about new product lines and recent pricing changes. This ongoing requirement for adaptability can be a challenge, especially for rapidly evolving industries, and requires a commitment to continuous learning and development of the AI system.\\nPrivacy and security concerns'),\n",
       " Document(metadata={'source': 'https://www.digitalocean.com/resources/articles/ai-customer-service', 'title': 'Implementing AI in Customer Service | DigitalOcean', 'description': 'Discover how AI customer service improves user experiences with faster, smarter, and more efficient support solutions.', 'language': 'en'}, page_content='Privacy and security concerns\\nImplementing AI in customer service raises concerns about data privacy and security. Businesses must ensure that these systems comply with data protection regulations and maintain high standards of security to protect sensitive customer information. Additionally, they must transparently communicate with customers about how their data is being used and safeguarded.\\nAI customer service tools\\nAI customer service tools leverage artificial intelligence, machine learning, and natural language processing to provide efficient and personalized customer experiences. Below are five AI customer service tools to consider, each with unique features and capabilities.\\n1. Help Scout'),\n",
       " Document(metadata={'source': 'https://www.digitalocean.com/resources/articles/ai-customer-service', 'title': 'Implementing AI in Customer Service | DigitalOcean', 'description': 'Discover how AI customer service improves user experiences with faster, smarter, and more efficient support solutions.', 'language': 'en'}, page_content='1. Help Scout\\nHelp Scout offers a human-centric approach to customer service, providing a unified platform for email, live chat, help centers, and more. Its standout features include AI Summarize and AI Assist, which streamline customer communication. AI Summarize offers concise summaries of email threads, aiding in understanding customer contexts quickly. AI Assist helps polish replies, ensuring they align with the brand’s tone. These tools assist in both customer-facing and internal support functions, improving overall support quality\\u200b\\u200b.\\n2. Gorgias'),\n",
       " Document(metadata={'source': 'https://www.digitalocean.com/resources/articles/ai-customer-service', 'title': 'Implementing AI in Customer Service | DigitalOcean', 'description': 'Discover how AI customer service improves user experiences with faster, smarter, and more efficient support solutions.', 'language': 'en'}, page_content='2. Gorgias\\nGorgias is an all-in-one customer service automation platform designed specifically for e-commerce. It handles customer inquiries through various channels like email, live chat, and social media from a single dashboard. The integration with platforms like Shopify, Magento, and BigCommerce streamlines viewing order details and managing refunds or cancellations. Gorgias employs a range of AI features, to support both customer agents and customers—from AI-powered auto responders and AI spam ticket detection to AI article recommendations and ticket prioritization.\\n3. Zendesk Advanced AI'),\n",
       " Document(metadata={'source': 'https://www.digitalocean.com/resources/articles/ai-customer-service', 'title': 'Implementing AI in Customer Service | DigitalOcean', 'description': 'Discover how AI customer service improves user experiences with faster, smarter, and more efficient support solutions.', 'language': 'en'}, page_content='3. Zendesk Advanced AI\\nZendesk Advanced AI is an add-on for the Zendesk Suite, enhancing customer service with a set of AI tools. It includes features like Intelligent Triage, Advanced Bots, AI-powered intents for bots, Intelligence in the Context Panel, and Macro Suggestions for Admins. These features enable automated request classification, efficient agent assistance, and improved customer interaction, reducing agent onboarding time and increasing cost savings. Zendesk Advanced AI is designed to streamline the customer service process, making it more efficient and effective for businesses.\\n4. Freddy AI by Freshdesk'),\n",
       " Document(metadata={'source': 'https://www.digitalocean.com/resources/articles/ai-customer-service', 'title': 'Implementing AI in Customer Service | DigitalOcean', 'description': 'Discover how AI customer service improves user experiences with faster, smarter, and more efficient support solutions.', 'language': 'en'}, page_content='4. Freddy AI by Freshdesk\\nFreddy AI by Freshdesk enhances customer service efficiency by offering a suite of tools designed to streamline ticket handling and response processes. Its capabilities include an Assist Bot that automates conversational flows and immediate responses, Auto Triage for efficient ticket categorization, and automated suggestions for solution articles and pre-made responses. Additionally, it features a Thank You Detector to distinguish between actual queries and expressions of gratitude, optimizing ticket management.\\n5. Kustomer'),\n",
       " Document(metadata={'source': 'https://www.digitalocean.com/resources/articles/ai-customer-service', 'title': 'Implementing AI in Customer Service | DigitalOcean', 'description': 'Discover how AI customer service improves user experiences with faster, smarter, and more efficient support solutions.', 'language': 'en'}, page_content='5. Kustomer\\nKustomer  is an AI-powered customer service CRM platform that offers a range of features to improve customer support. It includes a Chatbot Superbot for scalable, code-free support and personalized customer experiences. The platform supports customer understanding with a unified view across all channels, delivering hyper-personalized service. Additionally, it leverages data-driven support to anticipate and address customer needs proactively, minimizing inbound support volume.\\nHow to build an AI customer service strategy\\nDeveloping an AI customer service strategy should be a consideration for businesses looking to improve efficiency and heighten customer satisfaction. This strategy should focus on integrating AI tools effectively, while ensuring they align with business goals and customer needs. Here are a few steps to get you started:\\n1. Assess current customer service capabilities'),\n",
       " Document(metadata={'source': 'https://www.digitalocean.com/resources/articles/ai-customer-service', 'title': 'Implementing AI in Customer Service | DigitalOcean', 'description': 'Discover how AI customer service improves user experiences with faster, smarter, and more efficient support solutions.', 'language': 'en'}, page_content='1. Assess current customer service capabilities\\nIntegrating AI in business should be approached with intention. Begin by thoroughly evaluating your existing customer service processes. Identify pain points, areas that require faster response times, or where query volumes overwhelm staff. This assessment will help pinpoint where AI can be most beneficial, setting a foundation for your AI strategy. Consider both the strengths and weaknesses of your current system.\\n2. Define specific goals and objectives\\nSet clear, measurable OKRs for your AI implementation. These might include goals like reducing average response times, increasing first-contact resolution rates, or improving overall customer satisfaction scores. Having specific targets helps in choosing the right AI tools and measuring their impact effectively. Ensure these objectives align with your broader business goals for a cohesive strategy.\\n3. Choose the right AI tools'),\n",
       " Document(metadata={'source': 'https://www.digitalocean.com/resources/articles/ai-customer-service', 'title': 'Implementing AI in Customer Service | DigitalOcean', 'description': 'Discover how AI customer service improves user experiences with faster, smarter, and more efficient support solutions.', 'language': 'en'}, page_content='3. Choose the right AI tools\\nSelect AI business tools that align with your identified needs and objectives. This could range from chatbots for handling routine inquiries to AI systems for sentiment analysis and customer behavior prediction. Ensure the tools are scalable and adaptable to changing business needs. Also, consider the pricing, long-term viability, and support for these tools.\\n4. Integrate with existing systems\\nEnsure that the chosen AI tools can seamlessly integrate with your existing customer service software, CRM systems, and data analytics platforms. Smooth integration is crucial for maintaining data consistency and providing a unified customer experience. Evaluate the compatibility of these tools with your current infrastructure to avoid integration issues.\\n5. Train your team'),\n",
       " Document(metadata={'source': 'https://www.digitalocean.com/resources/articles/ai-customer-service', 'title': 'Implementing AI in Customer Service | DigitalOcean', 'description': 'Discover how AI customer service improves user experiences with faster, smarter, and more efficient support solutions.', 'language': 'en'}, page_content='5. Train your team\\nProvide comprehensive training for your customer service team on the new AI tools. This should include how to use the AI systems effectively, understanding their limitations, and knowing when to escalate issues to human agents. Continuous training and updates are essential as AI technologies and capabilities evolve.\\n6. Ensure compliance and privacy\\nMaintain strict compliance with data protection and privacy regulations. Ensure that the AI tools are configured to handle and store customer data securely, respecting privacy laws and maintaining customer trust. Regularly review and update your privacy policies and practices in line with evolving regulations.\\n7. Evaluate and adjust strategy regularly'),\n",
       " Document(metadata={'source': 'https://www.digitalocean.com/resources/articles/ai-customer-service', 'title': 'Implementing AI in Customer Service | DigitalOcean', 'description': 'Discover how AI customer service improves user experiences with faster, smarter, and more efficient support solutions.', 'language': 'en'}, page_content='7. Evaluate and adjust strategy regularly\\nRegularly review the performance of your AI customer service strategy. Use metrics and feedback to assess whether the AI implementations are meeting your set objectives. Be prepared to make adjustments based on performance data and evolving customer needs. This ongoing evaluation will help ensure the strategy remains effective and relevant.\\nAccelerate your AI projects with DigitalOcean GPU Droplets\\nUnlock the power of NVIDIA H100 GPUs for your AI and machine learning projects. DigitalOcean GPU Droplets offer on-demand access to high-performance computing resources, enabling developers, startups, and innovators to train models, process large datasets, and scale AI projects without complexity or large upfront investments'),\n",
       " Document(metadata={'source': 'https://www.digitalocean.com/resources/articles/ai-customer-service', 'title': 'Implementing AI in Customer Service | DigitalOcean', 'description': 'Discover how AI customer service improves user experiences with faster, smarter, and more efficient support solutions.', 'language': 'en'}, page_content='View YouTube video\\n\\nKey features:\\n\\n\\nPowered by NVIDIA H100 GPUs with 640 Tensor Cores and 128 Ray Tracing Cores\\n\\n\\nFlexible configurations from single-GPU to 8-GPU setups\\n\\n\\nPre-installed Python and Deep Learning software packages\\n\\n\\nHigh-performance local boot and scratch disks included'),\n",
       " Document(metadata={'source': 'https://www.digitalocean.com/resources/articles/ai-customer-service', 'title': 'Implementing AI in Customer Service | DigitalOcean', 'description': 'Discover how AI customer service improves user experiences with faster, smarter, and more efficient support solutions.', 'language': 'en'}, page_content='Sign up today and unlock the possibilities of GPU Droplets. For custom solutions, larger GPU allocations, or reserved instances, contact our sales team to learn how DigitalOcean can power your most demanding AI/ML workloads.'),\n",
       " Document(metadata={'source': 'https://www.digitalocean.com/resources/articles/ai-customer-service', 'title': 'Implementing AI in Customer Service | DigitalOcean', 'description': 'Discover how AI customer service improves user experiences with faster, smarter, and more efficient support solutions.', 'language': 'en'}, page_content='ShareAi MlTry DigitalOcean for freeClick below to sign up and get $200 of credit to try our products over 60 days!Sign upRelated ResourcesArticlesHow to Learn AI in 2025: A Guide for BeginnersRead moreArticlesWhat is Adversarial Machine Learning?Read moreArticles10 Best AI Conferences to Attend in 2025Read moreGet started for freeSign up and get $200 in credit for your first 60 days with DigitalOcean.*Get started*This promotional offer applies to new accounts only.CompanyAboutLeadershipBlogCareersCustomersPartnersReferral ProgramAffiliate ProgramPressLegalPrivacy PolicySecurityInvestor RelationsDO ImpactNonprofitsProductsOverviewDropletsKubernetesFunctionsApp PlatformGPU Droplets1-Click ModelsGenAI PlatformBare Metal GPUsLoad BalancersManaged DatabasesSpacesBlock StorageAPIUptimeIdentity Access ManagementCloudwaysResourcesCommunity TutorialsCommunity Q&ACSS-TricksWrite for DOnationsCurrents ResearchHatch Startup ProgramWavemakers ProgramCompass CouncilOpen SourceNewsletter'),\n",
       " Document(metadata={'source': 'https://www.digitalocean.com/resources/articles/ai-customer-service', 'title': 'Implementing AI in Customer Service | DigitalOcean', 'description': 'Discover how AI customer service improves user experiences with faster, smarter, and more efficient support solutions.', 'language': 'en'}, page_content='Access ManagementCloudwaysResourcesCommunity TutorialsCommunity Q&ACSS-TricksWrite for DOnationsCurrents ResearchHatch Startup ProgramWavemakers ProgramCompass CouncilOpen SourceNewsletter SignupMarketplacePricingPricing CalculatorDocumentationRelease NotesCode of ConductShop SwagSolutionsWebsite HostingVPS HostingWeb & Mobile AppsGame DevelopmentStreamingVPNSaaS PlatformsCloud Hosting for BlockchainStartup ResourcesContactSupportSalesReport AbuseSystem StatusShare your ideasCompanyAboutLeadershipBlogCareersCustomersPartnersReferral ProgramAffiliate ProgramPressLegalPrivacy PolicySecurityInvestor RelationsDO ImpactNonprofitsProductsOverviewDropletsKubernetesFunctionsApp PlatformGPU Droplets1-Click ModelsGenAI PlatformBare Metal GPUsLoad BalancersManaged DatabasesSpacesBlock StorageAPIUptimeIdentity Access ManagementCloudwaysResourcesCommunity TutorialsCommunity Q&ACSS-TricksWrite for DOnationsCurrents ResearchHatch Startup ProgramWavemakers ProgramCompass CouncilOpen SourceNewsletter'),\n",
       " Document(metadata={'source': 'https://www.digitalocean.com/resources/articles/ai-customer-service', 'title': 'Implementing AI in Customer Service | DigitalOcean', 'description': 'Discover how AI customer service improves user experiences with faster, smarter, and more efficient support solutions.', 'language': 'en'}, page_content='Access ManagementCloudwaysResourcesCommunity TutorialsCommunity Q&ACSS-TricksWrite for DOnationsCurrents ResearchHatch Startup ProgramWavemakers ProgramCompass CouncilOpen SourceNewsletter SignupMarketplacePricingPricing CalculatorDocumentationRelease NotesCode of ConductShop SwagSolutionsWebsite HostingVPS HostingWeb & Mobile AppsGame DevelopmentStreamingVPNSaaS PlatformsCloud Hosting for BlockchainStartup ResourcesContactSupportSalesReport AbuseSystem StatusShare your ideas© 2025 DigitalOcean, LLC.Sitemap.')]"
      ]
     },
     "execution_count": 15,
     "metadata": {},
     "output_type": "execute_result"
    }
   ],
   "source": [
    "text_splitter = RecursiveCharacterTextSplitter(chunk_size=1000,chunk_overlap=200)\n",
    "docs = text_splitter.split_documents(docs)\n",
    "docs\n"
   ]
  },
  {
   "cell_type": "code",
   "execution_count": 16,
   "metadata": {},
   "outputs": [
    {
     "name": "stdout",
     "output_type": "stream",
     "text": [
      "31\n"
     ]
    }
   ],
   "source": [
    "print(len(docs))"
   ]
  },
  {
   "cell_type": "code",
   "execution_count": 17,
   "metadata": {},
   "outputs": [],
   "source": [
    "from langchain_openai import OpenAIEmbeddings"
   ]
  },
  {
   "cell_type": "code",
   "execution_count": 18,
   "metadata": {},
   "outputs": [],
   "source": [
    "embeddings = OpenAIEmbeddings()"
   ]
  },
  {
   "cell_type": "code",
   "execution_count": 19,
   "metadata": {},
   "outputs": [],
   "source": [
    "from langchain_community.vectorstores import FAISS"
   ]
  },
  {
   "cell_type": "code",
   "execution_count": 20,
   "metadata": {},
   "outputs": [],
   "source": [
    "vectorstore_db = FAISS.from_documents(docs,embeddings)"
   ]
  },
  {
   "cell_type": "code",
   "execution_count": 21,
   "metadata": {},
   "outputs": [
    {
     "data": {
      "text/plain": [
       "<langchain_community.vectorstores.faiss.FAISS at 0x7fc10c6c4d60>"
      ]
     },
     "execution_count": 21,
     "metadata": {},
     "output_type": "execute_result"
    }
   ],
   "source": [
    "vectorstore_db"
   ]
  },
  {
   "cell_type": "code",
   "execution_count": 22,
   "metadata": {},
   "outputs": [],
   "source": [
    "query = \"What is chatbots?\""
   ]
  },
  {
   "cell_type": "code",
   "execution_count": 24,
   "metadata": {},
   "outputs": [
    {
     "name": "stdout",
     "output_type": "stream",
     "text": [
      "Chatbots\n",
      "Chatbots provide instant, round-the-clock responses to customer questions, reducing wait times and improving customer satisfaction when it comes to common queries. For businesses, they offer cost-effective support, enabling scalability by handling large volumes of inquiries, without hiring additional customer support agents. This improves operational efficiency and ensures a consistent level of service for customers, fostering loyalty and trust.\n",
      "Sentiment analysis\n",
      "Sentiment analysis helps businesses understand customer emotions and perceptions through their interactions. This AI technology scans customer feedback, detecting positive, negative, or neutral sentiments. For businesses, this offers valuable insights into customer satisfaction and areas for improvement, leading to informed decision-making. Customers benefit from a more empathetic, personalized service experience, as businesses can tailor their responses and services to better meet customer needs and expectations.\n"
     ]
    }
   ],
   "source": [
    "result = vectorstore_db.similarity_search(query)\n",
    "print(result[0].page_content)"
   ]
  },
  {
   "cell_type": "code",
   "execution_count": 29,
   "metadata": {},
   "outputs": [],
   "source": [
    "llm = ChatOpenAI(model=\"gpt-4o\")"
   ]
  },
  {
   "cell_type": "code",
   "execution_count": 26,
   "metadata": {},
   "outputs": [],
   "source": [
    "## Retrieval Chain, Document Chain\n",
    "from langchain.chains.combine_documents import create_stuff_documents_chain\n",
    "from langchain_core.prompts import ChatPromptTemplate"
   ]
  },
  {
   "cell_type": "code",
   "execution_count": 32,
   "metadata": {},
   "outputs": [],
   "source": [
    "prompt = ChatPromptTemplate.from_template(\n",
    "    \"\"\"\n",
    "Answer the following question based on the provided context:\n",
    "<context>\n",
    "{context}\n",
    "</context>\n",
    "    \"\"\"\n",
    ")"
   ]
  },
  {
   "cell_type": "code",
   "execution_count": 33,
   "metadata": {},
   "outputs": [
    {
     "data": {
      "text/plain": [
       "RunnableBinding(bound=RunnableBinding(bound=RunnableAssign(mapper={\n",
       "  context: RunnableLambda(format_docs)\n",
       "}), config={'run_name': 'format_inputs'})\n",
       "| ChatPromptTemplate(input_variables=['context'], messages=[HumanMessagePromptTemplate(prompt=PromptTemplate(input_variables=['context'], template='\\nAnswer the following question based on the provided context:\\n<context>\\n{context}\\n</context>\\n    '))])\n",
       "| ChatOpenAI(client=<openai.resources.chat.completions.Completions object at 0x7fc111078940>, async_client=<openai.resources.chat.completions.AsyncCompletions object at 0x7fc11107a260>, model_name='gpt-4o', openai_api_key=SecretStr('**********'), openai_proxy='')\n",
       "| StrOutputParser(), config={'run_name': 'stuff_documents_chain'})"
      ]
     },
     "execution_count": 33,
     "metadata": {},
     "output_type": "execute_result"
    }
   ],
   "source": [
    "document_chain = create_stuff_documents_chain(llm,prompt)\n",
    "document_chain"
   ]
  },
  {
   "cell_type": "code",
   "execution_count": 35,
   "metadata": {},
   "outputs": [
    {
     "data": {
      "text/plain": [
       "'Chatbots are software applications designed to simulate human conversation, often through text or voice interactions. They use artificial intelligence (AI) to understand and respond to user queries, providing automated customer service and support. Chatbots can be integrated into websites, messaging apps, and customer service platforms to assist users with inquiries, complete transactions, or provide information.\\n\\nThe benefits of AI customer service, including chatbots, are numerous:\\n\\n1. **24/7 Availability**: Chatbots can operate around the clock, offering support to customers at any time, which enhances customer satisfaction and convenience.\\n\\n2. **Cost Efficiency**: Automating customer interactions reduces the need for a large customer service team, leading to cost savings for businesses.\\n\\n3. **Scalability**: Chatbots can handle multiple inquiries simultaneously, making it easier to manage high volumes of customer interactions without compromising service quality.\\n\\n4. **Consistency**: AI ensures that customers receive consistent information and service quality, reducing the risk of human error or variability.\\n\\n5. **Quick Response Times**: Chatbots can provide immediate responses to common queries, reducing wait times and improving customer experience.\\n\\n6. **Data Collection and Insights**: Interactions with chatbots can be analyzed to gain insights into customer preferences, behavior, and common issues, which can inform business strategies and improvements.\\n\\n7. **Personalization**: Advanced chatbots can use data to personalize interactions, offering tailored recommendations and solutions that enhance the customer experience.\\n\\n8. **Multilingual Support**: AI-powered chatbots can be programmed to support multiple languages, broadening accessibility for a global customer base.\\n\\nOverall, AI customer service, through the use of chatbots, improves efficiency, reduces costs, and enhances the overall customer experience.'"
      ]
     },
     "execution_count": 35,
     "metadata": {},
     "output_type": "execute_result"
    }
   ],
   "source": [
    "from langchain_core.documents import Document\n",
    "document_chain.invoke(\n",
    "   {\"input\":\"What is chatbots?\",\n",
    "    \"context\":[Document(page_content=\"What is chatbots and benefits of ai customer service?\")],\n",
    "    } \n",
    ")"
   ]
  },
  {
   "cell_type": "markdown",
   "metadata": {},
   "source": [
    "#### However,we want the documents to first come from the retriever we just setup.That way,we can use the retriever to dynamically select the most relevant documnets and pass those in for a given question."
   ]
  },
  {
   "cell_type": "code",
   "execution_count": 36,
   "metadata": {},
   "outputs": [
    {
     "data": {
      "text/plain": [
       "<langchain_community.vectorstores.faiss.FAISS at 0x7fc10c6c4d60>"
      ]
     },
     "execution_count": 36,
     "metadata": {},
     "output_type": "execute_result"
    }
   ],
   "source": [
    "### Retriever\n",
    "# Input -> Retriever -> vectorstoredb\n",
    "vectorstore_db"
   ]
  },
  {
   "cell_type": "code",
   "execution_count": 37,
   "metadata": {},
   "outputs": [
    {
     "data": {
      "text/plain": [
       "VectorStoreRetriever(tags=['FAISS', 'OpenAIEmbeddings'], vectorstore=<langchain_community.vectorstores.faiss.FAISS object at 0x7fc10c6c4d60>)"
      ]
     },
     "execution_count": 37,
     "metadata": {},
     "output_type": "execute_result"
    }
   ],
   "source": [
    "retriever = vectorstore_db.as_retriever()\n",
    "retriever"
   ]
  },
  {
   "cell_type": "code",
   "execution_count": 38,
   "metadata": {},
   "outputs": [],
   "source": [
    "from langchain.chains import create_retrieval_chain"
   ]
  },
  {
   "cell_type": "code",
   "execution_count": 39,
   "metadata": {},
   "outputs": [
    {
     "data": {
      "text/plain": [
       "RunnableBinding(bound=RunnableAssign(mapper={\n",
       "  context: RunnableBinding(bound=RunnableLambda(lambda x: x['input'])\n",
       "           | VectorStoreRetriever(tags=['FAISS', 'OpenAIEmbeddings'], vectorstore=<langchain_community.vectorstores.faiss.FAISS object at 0x7fc10c6c4d60>), config={'run_name': 'retrieve_documents'})\n",
       "})\n",
       "| RunnableAssign(mapper={\n",
       "    answer: RunnableBinding(bound=RunnableBinding(bound=RunnableAssign(mapper={\n",
       "              context: RunnableLambda(format_docs)\n",
       "            }), config={'run_name': 'format_inputs'})\n",
       "            | ChatPromptTemplate(input_variables=['context'], messages=[HumanMessagePromptTemplate(prompt=PromptTemplate(input_variables=['context'], template='\\nAnswer the following question based on the provided context:\\n<context>\\n{context}\\n</context>\\n    '))])\n",
       "            | ChatOpenAI(client=<openai.resources.chat.completions.Completions object at 0x7fc111078940>, async_client=<openai.resources.chat.completions.AsyncCompletions object at 0x7fc11107a260>, model_name='gpt-4o', openai_api_key=SecretStr('**********'), openai_proxy='')\n",
       "            | StrOutputParser(), config={'run_name': 'stuff_documents_chain'})\n",
       "  }), config={'run_name': 'retrieval_chain'})"
      ]
     },
     "execution_count": 39,
     "metadata": {},
     "output_type": "execute_result"
    }
   ],
   "source": [
    "retriever_chain = create_retrieval_chain(retriever,document_chain)\n",
    "retriever_chain"
   ]
  },
  {
   "cell_type": "code",
   "execution_count": 40,
   "metadata": {},
   "outputs": [
    {
     "data": {
      "text/plain": [
       "'AI customer service is a technology-driven approach that leverages artificial intelligence to manage and optimize customer interactions. It involves using machine learning, natural language processing, and other AI technologies to automate responses to customer inquiries, especially routine questions. This approach allows human agents to focus on more complex issues, enhancing the overall customer experience. Some key benefits of AI customer service include:\\n\\n1. **Instant and Round-the-Clock Responses**: AI can provide immediate responses to customer inquiries at any time, reducing wait times and improving customer satisfaction.\\n\\n2. **Cost-Effectiveness and Scalability**: AI can handle large volumes of inquiries without the need for additional hiring, making it a cost-effective solution for businesses looking to scale their customer service operations.\\n\\n3. **Consistent Service**: AI ensures a consistent level of service, which helps in building customer trust and loyalty.\\n\\n4. **Sentiment Analysis**: AI can analyze customer emotions and perceptions, providing businesses with valuable insights into customer satisfaction and areas for improvement.\\n\\n5. **Personalized Customer Experience**: By analyzing customer data, AI can offer personalized service experiences, including tailored product recommendations and targeted marketing efforts.\\n\\n6. **Freeing Up Human Agents**: By handling routine queries, AI allows human agents to focus on more complex issues, leading to a more effective and personalized customer service.\\n\\nOverall, AI customer service not only enhances the efficiency of customer support operations but also contributes to a better customer experience by offering personalized, timely, and consistent interactions.'"
      ]
     },
     "execution_count": 40,
     "metadata": {},
     "output_type": "execute_result"
    }
   ],
   "source": [
    "## Get the response from the LLM\n",
    "response = retriever_chain.invoke({\"input\":\"What is chatbots?\"})\n",
    "response['answer']"
   ]
  },
  {
   "cell_type": "code",
   "execution_count": 41,
   "metadata": {},
   "outputs": [
    {
     "data": {
      "text/plain": [
       "{'input': 'What is chatbots?',\n",
       " 'context': [Document(metadata={'source': 'https://www.digitalocean.com/resources/articles/ai-customer-service', 'title': 'Implementing AI in Customer Service | DigitalOcean', 'description': 'Discover how AI customer service improves user experiences with faster, smarter, and more efficient support solutions.', 'language': 'en'}, page_content='Chatbots\\nChatbots provide instant, round-the-clock responses to customer questions, reducing wait times and improving customer satisfaction when it comes to common queries. For businesses, they offer cost-effective support, enabling scalability by handling large volumes of inquiries, without hiring additional customer support agents. This improves operational efficiency and ensures a consistent level of service for customers, fostering loyalty and trust.\\nSentiment analysis\\nSentiment analysis helps businesses understand customer emotions and perceptions through their interactions. This AI technology scans customer feedback, detecting positive, negative, or neutral sentiments. For businesses, this offers valuable insights into customer satisfaction and areas for improvement, leading to informed decision-making. Customers benefit from a more empathetic, personalized service experience, as businesses can tailor their responses and services to better meet customer needs and expectations.'),\n",
       "  Document(metadata={'source': 'https://www.digitalocean.com/resources/articles/ai-customer-service', 'title': 'Implementing AI in Customer Service | DigitalOcean', 'description': 'Discover how AI customer service improves user experiences with faster, smarter, and more efficient support solutions.', 'language': 'en'}, page_content='According to a 2023 survey, 73% of shoppers believe AI can positively impact the customer experience. If you’re a tech company with a known bug in your app, it can take some time before your technical team comes up with a fix. In the meantime an AI customer support chatbot can identify this common query and provide a helpful response to impacted customers, sparing human agents from the repetitive task of responding to the same issue again and again. AI customer service is not just a futuristic concept but a practical solution with countless use cases.\\nThis article delves deeper into AI customer service, exploring its capabilities and benefits, valuable AI customer service tools on the market, and best practices for building a customer service strategy at your company that leverages AI.\\nWhat is AI customer service?'),\n",
       "  Document(metadata={'source': 'https://www.digitalocean.com/resources/articles/ai-customer-service', 'title': 'Implementing AI in Customer Service | DigitalOcean', 'description': 'Discover how AI customer service improves user experiences with faster, smarter, and more efficient support solutions.', 'language': 'en'}, page_content='What is AI customer service?\\nAI customer service is a technology-driven approach to managing customer interactions, using artificial intelligence to automate and optimize the customer support process. This strategy uses machine learning, natural language processing, and other AI technologies to understand, respond to, and resolve customer inquiries.\\nBy handling routine questions and providing quick responses, AI customer service frees human agents to focus on more complex issues, ensuring a more effective and personalized customer experience.\\nAI customer service use cases\\nThere are a range of AI customer service use cases, each offering unique benefits to both businesses and customers. These applications range from direct interactions to analyzing customer feedback, improving how customers interact with your business.\\nChatbots'),\n",
       "  Document(metadata={'source': 'https://www.digitalocean.com/resources/articles/ai-customer-service', 'title': 'Implementing AI in Customer Service | DigitalOcean', 'description': 'Discover how AI customer service improves user experiences with faster, smarter, and more efficient support solutions.', 'language': 'en'}, page_content='Gather customer insights\\nAI can analyze vast amounts of data from customer interactions to identify patterns, preferences, and areas for improvement. This capability helps businesses tailor their products, services, and customer experiences. Customers benefit from more personalized and relevant experiences, as businesses can use these insights to improve product offerings and customer service strategies.\\nSales recommendations\\nBeyond providing customer support, AI can serve as a sales person for your business. A chatbot on your website can provide pop-up product recommendations or app upgrades to website visitors. AI can also analyze customer data and behavior to suggest relevant products or services, delivering suggestions to inboxes with marketing automation tooling. This personalized approach improves the customer shopping experience,  making it more relevant while boosting sales for businesses.\\nBenefits of AI customer service')],\n",
       " 'answer': 'AI customer service is a technology-driven approach that leverages artificial intelligence to manage and optimize customer interactions. It involves using machine learning, natural language processing, and other AI technologies to automate responses to customer inquiries, especially routine questions. This approach allows human agents to focus on more complex issues, enhancing the overall customer experience. Some key benefits of AI customer service include:\\n\\n1. **Instant and Round-the-Clock Responses**: AI can provide immediate responses to customer inquiries at any time, reducing wait times and improving customer satisfaction.\\n\\n2. **Cost-Effectiveness and Scalability**: AI can handle large volumes of inquiries without the need for additional hiring, making it a cost-effective solution for businesses looking to scale their customer service operations.\\n\\n3. **Consistent Service**: AI ensures a consistent level of service, which helps in building customer trust and loyalty.\\n\\n4. **Sentiment Analysis**: AI can analyze customer emotions and perceptions, providing businesses with valuable insights into customer satisfaction and areas for improvement.\\n\\n5. **Personalized Customer Experience**: By analyzing customer data, AI can offer personalized service experiences, including tailored product recommendations and targeted marketing efforts.\\n\\n6. **Freeing Up Human Agents**: By handling routine queries, AI allows human agents to focus on more complex issues, leading to a more effective and personalized customer service.\\n\\nOverall, AI customer service not only enhances the efficiency of customer support operations but also contributes to a better customer experience by offering personalized, timely, and consistent interactions.'}"
      ]
     },
     "execution_count": 41,
     "metadata": {},
     "output_type": "execute_result"
    }
   ],
   "source": [
    "response"
   ]
  },
  {
   "cell_type": "code",
   "execution_count": 42,
   "metadata": {},
   "outputs": [
    {
     "data": {
      "text/plain": [
       "[Document(metadata={'source': 'https://www.digitalocean.com/resources/articles/ai-customer-service', 'title': 'Implementing AI in Customer Service | DigitalOcean', 'description': 'Discover how AI customer service improves user experiences with faster, smarter, and more efficient support solutions.', 'language': 'en'}, page_content='Chatbots\\nChatbots provide instant, round-the-clock responses to customer questions, reducing wait times and improving customer satisfaction when it comes to common queries. For businesses, they offer cost-effective support, enabling scalability by handling large volumes of inquiries, without hiring additional customer support agents. This improves operational efficiency and ensures a consistent level of service for customers, fostering loyalty and trust.\\nSentiment analysis\\nSentiment analysis helps businesses understand customer emotions and perceptions through their interactions. This AI technology scans customer feedback, detecting positive, negative, or neutral sentiments. For businesses, this offers valuable insights into customer satisfaction and areas for improvement, leading to informed decision-making. Customers benefit from a more empathetic, personalized service experience, as businesses can tailor their responses and services to better meet customer needs and expectations.'),\n",
       " Document(metadata={'source': 'https://www.digitalocean.com/resources/articles/ai-customer-service', 'title': 'Implementing AI in Customer Service | DigitalOcean', 'description': 'Discover how AI customer service improves user experiences with faster, smarter, and more efficient support solutions.', 'language': 'en'}, page_content='According to a 2023 survey, 73% of shoppers believe AI can positively impact the customer experience. If you’re a tech company with a known bug in your app, it can take some time before your technical team comes up with a fix. In the meantime an AI customer support chatbot can identify this common query and provide a helpful response to impacted customers, sparing human agents from the repetitive task of responding to the same issue again and again. AI customer service is not just a futuristic concept but a practical solution with countless use cases.\\nThis article delves deeper into AI customer service, exploring its capabilities and benefits, valuable AI customer service tools on the market, and best practices for building a customer service strategy at your company that leverages AI.\\nWhat is AI customer service?'),\n",
       " Document(metadata={'source': 'https://www.digitalocean.com/resources/articles/ai-customer-service', 'title': 'Implementing AI in Customer Service | DigitalOcean', 'description': 'Discover how AI customer service improves user experiences with faster, smarter, and more efficient support solutions.', 'language': 'en'}, page_content='What is AI customer service?\\nAI customer service is a technology-driven approach to managing customer interactions, using artificial intelligence to automate and optimize the customer support process. This strategy uses machine learning, natural language processing, and other AI technologies to understand, respond to, and resolve customer inquiries.\\nBy handling routine questions and providing quick responses, AI customer service frees human agents to focus on more complex issues, ensuring a more effective and personalized customer experience.\\nAI customer service use cases\\nThere are a range of AI customer service use cases, each offering unique benefits to both businesses and customers. These applications range from direct interactions to analyzing customer feedback, improving how customers interact with your business.\\nChatbots'),\n",
       " Document(metadata={'source': 'https://www.digitalocean.com/resources/articles/ai-customer-service', 'title': 'Implementing AI in Customer Service | DigitalOcean', 'description': 'Discover how AI customer service improves user experiences with faster, smarter, and more efficient support solutions.', 'language': 'en'}, page_content='Gather customer insights\\nAI can analyze vast amounts of data from customer interactions to identify patterns, preferences, and areas for improvement. This capability helps businesses tailor their products, services, and customer experiences. Customers benefit from more personalized and relevant experiences, as businesses can use these insights to improve product offerings and customer service strategies.\\nSales recommendations\\nBeyond providing customer support, AI can serve as a sales person for your business. A chatbot on your website can provide pop-up product recommendations or app upgrades to website visitors. AI can also analyze customer data and behavior to suggest relevant products or services, delivering suggestions to inboxes with marketing automation tooling. This personalized approach improves the customer shopping experience,  making it more relevant while boosting sales for businesses.\\nBenefits of AI customer service')]"
      ]
     },
     "execution_count": 42,
     "metadata": {},
     "output_type": "execute_result"
    }
   ],
   "source": [
    "response['context']"
   ]
  },
  {
   "cell_type": "code",
   "execution_count": null,
   "metadata": {},
   "outputs": [],
   "source": []
  }
 ],
 "metadata": {
  "kernelspec": {
   "display_name": "Python 3",
   "language": "python",
   "name": "python3"
  },
  "language_info": {
   "codemirror_mode": {
    "name": "ipython",
    "version": 3
   },
   "file_extension": ".py",
   "mimetype": "text/x-python",
   "name": "python",
   "nbconvert_exporter": "python",
   "pygments_lexer": "ipython3",
   "version": "3.10.14"
  }
 },
 "nbformat": 4,
 "nbformat_minor": 2
}
